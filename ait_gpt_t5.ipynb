{
 "cells": [
  {
   "cell_type": "code",
   "execution_count": 1,
   "metadata": {},
   "outputs": [],
   "source": [
    "# #langchain library\n",
    "# !pip install langchain==0.1.6\n",
    "# !pip install langchain-community==0.0.19\n",
    "# #LLM\n",
    "# !pip install accelerate==0.25.0\n",
    "# !pip install transformers==4.36.2\n",
    "# !pip install bitsandbytes==0.41.2\n",
    "# #Text Embedding\n",
    "# !pip install sentence-transformers==2.2.2\n",
    "# !pip install InstructorEmbedding==1.0.1\n",
    "# #vectorstore\n",
    "# !pip install pymupdf==1.23.8\n",
    "# !pip install faiss-gpu==1.7.2\n",
    "# !pip install faiss-cpu==1.7.4"
   ]
  },
  {
   "cell_type": "code",
   "execution_count": 2,
   "metadata": {},
   "outputs": [
    {
     "data": {
      "text/plain": [
       "device(type='cuda')"
      ]
     },
     "execution_count": 2,
     "metadata": {},
     "output_type": "execute_result"
    }
   ],
   "source": [
    "import os\n",
    "import torch\n",
    "\n",
    "device = torch.device('cuda' if torch.cuda.is_available() else 'cpu')\n",
    "device"
   ]
  },
  {
   "attachments": {},
   "cell_type": "markdown",
   "metadata": {},
   "source": [
    "## 1. Prompt\n",
    "\n",
    "A set of instructions or input provided by a user to guide the model's response, helping it understand the context and generate relevant and coherent language-based output, such as answering questions, completing sentences, or engaging in a conversation."
   ]
  },
  {
   "cell_type": "code",
   "execution_count": 3,
   "metadata": {},
   "outputs": [
    {
     "data": {
      "text/plain": [
       "PromptTemplate(input_variables=['context', 'question'], template=\"Welcome to the AIT Information Chatbot! I'm here to assist you with any questions you have about the Asian Institute of Technology (AIT).\\n    Whether you want to know about our academic programs, admissions process, campus facilities, or any other aspect of AIT, feel free to ask!\\n    {context}\\n    Question: {question}\\n    Answer:\")"
      ]
     },
     "execution_count": 3,
     "metadata": {},
     "output_type": "execute_result"
    }
   ],
   "source": [
    "from langchain import PromptTemplate\n",
    "\n",
    "prompt_template = \"\"\"\n",
    "    Welcome to the AIT Information Chatbot! I'm here to assist you with any questions you have about the Asian Institute of Technology (AIT).\n",
    "    Whether you want to know about our academic programs, admissions process, campus facilities, or any other aspect of AIT, feel free to ask!\n",
    "    {context}\n",
    "    Question: {question}\n",
    "    Answer:\n",
    "    \"\"\".strip()\n",
    "\n",
    "AIT_PROMPT = PromptTemplate.from_template(\n",
    "    template=prompt_template\n",
    ")\n",
    "\n",
    "AIT_PROMPT"
   ]
  },
  {
   "cell_type": "code",
   "execution_count": 4,
   "metadata": {},
   "outputs": [
    {
     "data": {
      "text/plain": [
       "\"Welcome to the AIT Information Chatbot! I'm here to assist you with any questions you have about the Asian Institute of Technology (AIT).\\n    Whether you want to know about our academic programs, admissions process, campus facilities, or any other aspect of AIT, feel free to ask!\\n    The Asian Institute of Technology (AIT) is an international English-speaking postgraduate institution, focusing on engineering, environment, and management studies. AIT’s rigorous academic, research, and experiential outreach programs prepare graduates for professional success and leadership roles in Asia and beyond.\\n    Question: What is AIT\\n    Answer:\""
      ]
     },
     "execution_count": 4,
     "metadata": {},
     "output_type": "execute_result"
    }
   ],
   "source": [
    "AIT_PROMPT.format(\n",
    "    context = \"The Asian Institute of Technology (AIT) is an international English-speaking postgraduate institution, focusing on engineering, environment, and management studies. AIT’s rigorous academic, research, and experiential outreach programs prepare graduates for professional success and leadership roles in Asia and beyond.\",\n",
    "    question = \"What is AIT\"\n",
    ")"
   ]
  },
  {
   "attachments": {},
   "cell_type": "markdown",
   "metadata": {},
   "source": [
    "Note : [How to improve prompting (Zero-shot, Few-shot, Chain-of-Thought, etc.](https://github.com/chaklam-silpasuwanchai/Natural-Language-Processing/blob/main/Code/05%20-%20RAG/advance/cot-tot-prompting.ipynb)"
   ]
  },
  {
   "attachments": {},
   "cell_type": "markdown",
   "metadata": {},
   "source": [
    "## 2. Retrieval\n",
    "\n",
    "1. `Document loaders` : Load documents from many different sources (HTML, PDF, code). \n",
    "2. `Document transformers` : One of the essential steps in document retrieval is breaking down a large document into smaller, relevant chunks to enhance the retrieval process.\n",
    "3. `Text embedding models` : Embeddings capture the semantic meaning of the text, allowing you to quickly and efficiently find other pieces of text that are similar.\n",
    "4. `Vector stores`: there has emerged a need for databases to support efficient storage and searching of these embeddings.\n",
    "5. `Retrievers` : Once the data is in the database, you still need to retrieve it."
   ]
  },
  {
   "attachments": {},
   "cell_type": "markdown",
   "metadata": {},
   "source": [
    "### 2.1 Document Loaders \n",
    "Use document loaders to load data from a source as Document's. A Document is a piece of text and associated metadata. For example, there are document loaders for loading a simple .txt file, for loading the text contents of any web page, or even for loading a transcript of a YouTube video.\n",
    "\n",
    "[PDF Loader](https://python.langchain.com/docs/modules/data_connection/document_loaders/pdf)\n",
    "\n",
    "[Download Document](https://web.stanford.edu/~jurafsky/slp3/)"
   ]
  },
  {
   "cell_type": "code",
   "execution_count": 5,
   "metadata": {},
   "outputs": [],
   "source": [
    "from langchain.document_loaders import PyMuPDFLoader\n",
    "\n",
    "nlp_docs = './docs/ait_paragraphs.pdf'\n",
    "\n",
    "loader = PyMuPDFLoader(nlp_docs)\n",
    "documents = loader.load()"
   ]
  },
  {
   "cell_type": "code",
   "execution_count": 6,
   "metadata": {},
   "outputs": [],
   "source": [
    "# import os\n",
    "# from langchain.document_loaders import PyMuPDFLoader\n",
    "\n",
    "# # Directory containing the PDF files\n",
    "# pdf_folder = '/home/koala/github/NLP/NLP-A7/about_ait'\n",
    "\n",
    "# # Loop through all PDF files in the directory\n",
    "# for filename in os.listdir(pdf_folder):\n",
    "#     if filename.endswith('.pdf'):\n",
    "#         # Construct the full path to the PDF file\n",
    "#         pdf_path = os.path.join(pdf_folder, filename)\n",
    "#         # Load the PDF file using PyMuPDFLoader\n",
    "#         loader = PyMuPDFLoader(pdf_path)\n",
    "#         # Load the document\n",
    "#         documents = loader.load()\n",
    "        \n",
    "#         # Now you can work with 'document' as needed\n",
    "#         # For example, you can process the document here\n",
    "#         # or perform any other operations you need"
   ]
  },
  {
   "cell_type": "code",
   "execution_count": 7,
   "metadata": {},
   "outputs": [
    {
     "data": {
      "text/plain": [
       "[Document(page_content='Schools Asian Institute of Technology BOI STP Intranet Students Contact\\nGiving Alumni About About AIT Facts and figures Rankings Leadership\\nPeople Meet our faculty Meet our staff Location Academics Academic\\ncalendar Academic Programs Study options Student opportunities Schools Apply Admissions\\nEligibility Financial aid Tuition and fees Student housing Apply online\\nFrequently Asked Questions Research Research Overview Research Themes Research Publications\\nResearch Projects Know Our Researcher Centers SEARCH MENU Schools Campus\\nlife Housing Dining Health and Wellness Cultural diversity Athletics Career\\ndevelopment Facilities AIT Conference Center Virtual tour Key thematic areas\\nClimate change Smart Communities Food Energy Water Infrastructure Technology Policy\\nSociety Sustainability Partners News Events Work at AIT Emergency contacts\\nCovid management About About AIT Facts and figures Rankings LeadershipPeople\\nMeet our facultyMeet our staff LocationAcademics Academic calendar Academic Programs\\nStudy options Student opportunities SchoolsApply Admissions Eligibility Financial aid Tuition\\nand fees Student housing Apply online Frequently Asked QuestionsResearch Research\\nOverview Research Themes Research Publications Research Projects Know Our Researcher\\nCenters SchoolsCampus life HousingDiningHealth and WellnessCultural diversityAthleticsCareer\\ndevelopmentFacilitiesAIT Conference CenterVirtual\\ntourKey thematic areas Climate changeSmart CommunitiesFood Energy\\nWaterInfrastructureTechnology Policy Society\\nSustainability Partners News Events Work at AIT BOI STP Intranet\\nStudents Contact Giving Alumni Emergency contacts Covid management Home Academics\\nSchoolsSchoolsAIT offers advanced graduate education in three schools focusing on\\nengineering sustainable development and management In this section Academic calendar\\nAcademic Programs Study options Student opportunities Schools School of Engineering\\nand Technology School of Environment Resources and Development School of\\nManagement Academics Academic calendar Academic Programs Study options Student opportunities\\nSchoolsSubscribe to our newsletter Subscribe to our newsletterFollow us on\\nsocial media P O Box Moo Km Paholyothin Highway Klong\\nLuang Pathum Thani Thailand AITFacts and figuresRankingsLeadershipPeople Meet our faculty\\nMeet our staff LocationCentersAcademicsAcademic calendarAcademic ProgramsStudy optionsStudent\\nopportunitiesSchoolsApply to AITAdmissionsFinancial\\naidTuition and feesStudent housingApply onlineResearchResearch CentersResearch\\nThemesResearch ProjectsResearch PublicationsCampus lifeHousingDiningHealth\\nWellnessCultural diversityAthleticsCareer developmentFacilitiesVirtual tour Partners News Events Key\\nthematic areas\\nWork at AIT Branding Contact A Z Units Asian Institute\\nof Technology All Rights Reserved Designed by OutsourcifyPrivacy PolicyTerms and\\nconditionsWe use cookies on our website to give you the\\nmost relevant experience by remembering your preferences and repeat visits\\nBy clicking Accept All you consent to the use of\\nALL the cookies However you may visit Cookie Settings to\\nprovide a controlled consent Cookie SettingsAccept AllManage consent Close Privacy\\nOverviewThis website uses cookies to improve your experience while you\\nnavigate through the website Out of these the cookies that\\nare categorized as necessary are stored on your browser as\\nthey are essential for the working of basic functionalities of\\nthe website We also use third party cookies that help\\nus analyze and understand how you use this website These\\ncookies will be stored in your browser only with your\\nconsent You also have the option to opt out of\\nthese cookies But opting out of some of these cookies\\nmay affect your browsing experience Necessary Necessary Always Enabled Necessary\\n', metadata={'source': './docs/ait_paragraphs.pdf', 'file_path': './docs/ait_paragraphs.pdf', 'page': 0, 'total_pages': 33, 'format': 'PDF 1.4', 'title': '(anonymous)', 'author': '(anonymous)', 'subject': '(unspecified)', 'keywords': '', 'creator': '(unspecified)', 'producer': 'ReportLab PDF Library - www.reportlab.com', 'creationDate': \"D:20240320025934-07'00'\", 'modDate': \"D:20240320025934-07'00'\", 'trapped': ''}),\n",
       " Document(page_content='cookies are absolutely essential for the website to function properly\\nThese cookies ensure basic functionalities and security features of the\\nwebsite anonymously CookieDurationDescriptioncookielawinfo checkbox monthsThis cookie is set by\\nGDPR\\nCookie Consent plugin The cookie is used to store the\\nuser consent for the cookies in the category Analytics cookielawinfo\\ncheckbox monthsThe cookie is set by GDPR cookie consent to\\nrecord the user consent for the cookies in the category\\nFunctional cookielawinfo checkbox monthsThis cookie is set by GDPR Cookie\\nConsent plugin The cookies is used to store the user\\nconsent for the cookies in the category Necessary cookielawinfo checkbox\\nmonthsThis cookie is set by GDPR Cookie Consent plugin The\\ncookie is used to store the user consent for the\\ncookies in the category Other cookielawinfo checkbox monthsThis cookie is\\nset by GDPR Cookie Consent plugin The cookie is used\\nto store the user consent for the cookies in the\\ncategory Performance monthsThe cookie is set by the GDPR Cookie\\nConsent plugin and is used to store whether or not\\nuser has consented to the use of cookies It does\\nnot store any personal data Functional Functional Functional cookies help\\nto perform certain functionalities like sharing the content of the\\nwebsite on social media platforms collect feedbacks and other third\\nparty features Performance Performance Performance cookies are used to understand\\nand analyze the key performance indexes of the website which\\nhelps in delivering a better user experience for the visitors\\nAnalytics Analytics Analytical cookies are used to understand how visitors\\ninteract with the website These cookies help provide information on\\nmetrics the number of visitors bounce rate traffic source etc\\nAdvertisement Advertisement Advertisement cookies are used to provide visitors with\\nrelevant ads and marketing campaigns These cookies track visitors across\\nwebsites and collect information to provide customized ads Others Others\\nOther uncategorized cookies are those that are being analyzed and\\nhave not been classified into a category as yet SAVE\\nACCEPT Academic Programs Asian Institute of Technology BOI STP Intranet\\nStudents Contact Giving Alumni About About AIT Facts and figures\\nRankings Leadership People Meet our faculty Meet our staff Location\\nAcademics Academic calendar Academic Programs Study options Student opportunities Schools\\nApply Admissions Eligibility Financial aid Tuition and fees Student housing\\nApply online Frequently Asked Questions Research Research Overview Research Themes\\nResearch Publications Research Projects Know Our Researcher Centers SEARCH MENU\\nSchools Campus life Housing Dining Health and Wellness Cultural diversity\\nAthletics Career development Facilities AIT Conference Center Virtual tour Key\\nthematic areas Climate change Smart Communities Food Energy Water Infrastructure\\nTechnology Policy Society Sustainability Partners News Events Work at AIT\\nEmergency contacts Covid management About About AIT Facts and figures\\nRankings LeadershipPeople Meet our facultyMeet our staff LocationAcademics Academic calendar\\nAcademic Programs Study options Student opportunities SchoolsApply Admissions Eligibility Financial\\naid Tuition and fees Student housing Apply online Frequently Asked\\nQuestionsResearch Research Overview Research Themes Research Publications Research Projects\\nKnow\\nOur Researcher Centers SchoolsCampus life HousingDiningHealth and WellnessCultural\\ndiversityAthleticsCareer developmentFacilitiesAIT\\n', metadata={'source': './docs/ait_paragraphs.pdf', 'file_path': './docs/ait_paragraphs.pdf', 'page': 1, 'total_pages': 33, 'format': 'PDF 1.4', 'title': '(anonymous)', 'author': '(anonymous)', 'subject': '(unspecified)', 'keywords': '', 'creator': '(unspecified)', 'producer': 'ReportLab PDF Library - www.reportlab.com', 'creationDate': \"D:20240320025934-07'00'\", 'modDate': \"D:20240320025934-07'00'\", 'trapped': ''}),\n",
       " Document(page_content='Conference CenterVirtual tourKey thematic areas Climate changeSmart CommunitiesFood Energy\\nWaterInfrastructureTechnology\\nPolicy Society Sustainability Partners News Events Work at AIT BOI\\nSTP Intranet Students Contact Giving Alumni Emergency contacts Covid management\\nHome Academics Academic ProgramsAcademic ProgramsWe offer various degree programs You\\nll sample courses in a wide range of subjects before\\nimmersing yourself in one of these focused areas In this\\nsection Academic calendar Academic Programs Study options Student opportunities Schools\\nShow filters Area of study Study option School Clear Filter\\nAll Programs Agri Business Management ABM Agricultural Systems And Engineering\\nASE Aquaculture and Aquatic Resources Management AARM Bio Nano Materials\\nScience and Engineering BNMSE Climate Change and Sustainable Development CCSD\\nComputer Science CS Construction Engineering and Infrastructure Management CEIM Data\\nScience and AI DSAI Development and Sustainability DS Development Planning\\nManagement and Innovation DPMI Disaster Preparedness Mitigation and Management DPMM\\nDoctor of Philosophy Ph D in Management Doctorate of Business\\nAdministration DBA Dual Degree Master s Program with Telecom Sud\\nParis France Dual Degree Master s Program in Data Science\\nand AI with Brunel University London UK Dual Degree Master\\ns Program in Geotechnical and Earth Resources Engineering with Colorado\\nState University USA Dual Degree Master s Program in Water\\nEngineering and Management with Colorado State University USA Dual Degree\\nMaster s Program in Water Engineering and Management with the\\nUniversity of Iowa USA Dual Degree Program with University of\\nWollongong Australia Engineering Entrepreneurship Environmental Engineering and Management\\nEEM Food\\nEngineering and Bioprocess Technology FEBT Food Innovation Nutrition and Health\\nFINH Gender and Development Studies GDS Academics Academic calendar Academic\\nPrograms Study options Student opportunities SchoolsSubscribe to our newsletter Subscribe\\nto our newsletterFollow us on social media P O Box\\nMoo Km Paholyothin Highway Klong Luang Pathum Thani Thailand AITFacts\\nand figuresRankingsLeadershipPeople Meet our faculty Meet our staff\\nLocationCentersAcademicsAcademic calendarAcademic\\nProgramsStudy optionsStudent opportunitiesSchoolsApply to AITAdmissionsFinancial aidTuition and\\nfeesStudent housingApply onlineResearchResearch\\nCentersResearch ThemesResearch ProjectsResearch PublicationsCampus lifeHousingDiningHealth\\nWellnessCultural diversityAthleticsCareer developmentFacilitiesVirtual tour Partners\\nNews Events Key thematic areas Work at AIT Branding Contact\\nA Z Units Asian Institute of Technology All Rights Reserved\\nDesigned by OutsourcifyPrivacy PolicyTerms and conditionsWe use cookies on our\\nwebsite to give you the most relevant experience by remembering\\nyour preferences and repeat visits By clicking Accept All you\\nconsent to the use of ALL the cookies However you\\nmay visit Cookie Settings to provide a controlled consent Cookie\\nSettingsAccept AllManage consent Close Privacy OverviewThis website uses cookies to\\nimprove your experience while you navigate through the website Out\\nof these the cookies that are categorized as necessary are\\nstored on your browser as they are essential for the\\nworking of basic functionalities of the website We also use\\nthird party cookies that help us analyze and understand how\\nyou use this website These cookies will be stored in\\nyour browser only with your consent You also have the\\noption to opt out of these cookies But opting out\\n', metadata={'source': './docs/ait_paragraphs.pdf', 'file_path': './docs/ait_paragraphs.pdf', 'page': 2, 'total_pages': 33, 'format': 'PDF 1.4', 'title': '(anonymous)', 'author': '(anonymous)', 'subject': '(unspecified)', 'keywords': '', 'creator': '(unspecified)', 'producer': 'ReportLab PDF Library - www.reportlab.com', 'creationDate': \"D:20240320025934-07'00'\", 'modDate': \"D:20240320025934-07'00'\", 'trapped': ''}),\n",
       " Document(page_content='of some of these cookies may affect your browsing experience\\nNecessary Necessary Always Enabled Necessary cookies are absolutely essential for\\nthe website to function properly These cookies ensure basic functionalities\\nand security features of the website anonymously CookieDurationDescriptioncookielawinfo checkbox\\nmonthsThis\\ncookie is set by GDPR Cookie Consent plugin The cookie\\nis used to store the user consent for the cookies\\nin the category Analytics cookielawinfo checkbox monthsThe cookie is set\\nby GDPR cookie consent to record the user consent for\\nthe cookies in the category Functional cookielawinfo checkbox monthsThis cookie\\nis set by GDPR Cookie Consent plugin The cookies is\\nused to store the user consent for the cookies in\\nthe category Necessary cookielawinfo checkbox monthsThis cookie is set by\\nGDPR Cookie Consent plugin The cookie is used to store\\nthe user consent for the cookies in the category Other\\ncookielawinfo checkbox monthsThis cookie is set by GDPR Cookie Consent\\nplugin The cookie is used to store the user consent\\nfor the cookies in the category Performance monthsThe cookie is\\nset by the GDPR Cookie Consent plugin and is used\\nto store whether or not user has consented to the\\nuse of cookies It does not store any personal data\\nFunctional Functional Functional cookies help to perform certain functionalities like\\nsharing the content of the website on social media platforms\\ncollect feedbacks and other third party features Performance Performance Performance\\ncookies are used to understand and analyze the key performance\\nindexes of the website which helps in delivering a better\\nuser experience for the visitors Analytics Analytics Analytical cookies are\\nused to understand how visitors interact with the website These\\ncookies help provide information on metrics the number of visitors\\nbounce rate traffic source etc Advertisement Advertisement Advertisement cookies are\\nused to provide visitors with relevant ads and marketing campaigns\\nThese cookies track visitors across websites and collect information to\\nprovide customized ads Others Others Other uncategorized cookies are those\\nthat are being analyzed and have not been classified into\\na category as yet SAVE ACCEPT About Asian Institute of\\nTechnology BOI STP Intranet Students Contact Giving Alumni About About\\nAIT Facts and figures Rankings Leadership People Meet our faculty\\nMeet our staff Location Academics Academic calendar Academic Programs Study\\noptions Student opportunities Schools Apply Admissions Eligibility Financial aid Tuition\\nand fees Student housing Apply online Frequently Asked Questions Research\\nResearch Overview Research Themes Research Publications Research Projects Know Our\\nResearcher Centers SEARCH MENU Schools Campus life Housing Dining Health\\nand Wellness Cultural diversity Athletics Career development Facilities AIT Conference\\nCenter Virtual tour Key thematic areas Climate change Smart Communities\\nFood Energy Water Infrastructure Technology Policy Society Sustainability Partners News\\nEvents Work at AIT Emergency contacts Covid management About About\\nAIT Facts and figures Rankings LeadershipPeople Meet our facultyMeet our\\nstaff LocationAcademics Academic calendar Academic Programs Study options Student opportunities\\nSchoolsApply Admissions Eligibility Financial aid Tuition and fees Student housing\\nApply online Frequently Asked QuestionsResearch Research Overview Research Themes Research\\nPublications Research Projects Know Our Researcher Centers SchoolsCampus life\\nHousingDiningHealth\\n', metadata={'source': './docs/ait_paragraphs.pdf', 'file_path': './docs/ait_paragraphs.pdf', 'page': 3, 'total_pages': 33, 'format': 'PDF 1.4', 'title': '(anonymous)', 'author': '(anonymous)', 'subject': '(unspecified)', 'keywords': '', 'creator': '(unspecified)', 'producer': 'ReportLab PDF Library - www.reportlab.com', 'creationDate': \"D:20240320025934-07'00'\", 'modDate': \"D:20240320025934-07'00'\", 'trapped': ''}),\n",
       " Document(page_content='and WellnessCultural diversityAthleticsCareer developmentFacilitiesAIT Conference CenterVirtual\\ntourKey thematic areas Climate\\nchangeSmart CommunitiesFood Energy WaterInfrastructureTechnology Policy Society Sustainability\\nPartners News Events\\nWork at AIT BOI STP Intranet Students Contact Giving Alumni\\nEmergency contacts Covid management Home AboutAbout AITAIT is an international\\nEnglish speaking postgraduate institution focusing on engineering environment and management\\nstudies In this section About AIT Facts and figures Rankings\\nLeadershipPeopleMeet our facultyMeet our staff LocationWelcome to AITThe Asian Institute\\nof Technology AIT is an international English speaking postgraduate institution\\nfocusing on engineering environment and management studies AIT s rigorous\\nacademic research and experiential outreach programs prepare graduates for professional\\nsuccess and leadership roles in Asia and beyond Founded in\\nAIT offers the opportunity to study at an institution in\\nAsia which possesses a global reputation Going forward AIT will\\nbe stressing its global connections injection of innovation into research\\nand teaching its relevance to industry and its nurturing of\\nentrepreneurship while continuing to fulfill its social impact and capacity\\nbuilding role Sitting on a beautiful green campus located just\\nnorth of Bangkok Thailand AIT operates as a multicultural community\\nwhere a cosmopolitan approach to living and learning is the\\nrule You will meet and study with people from all\\naround the world Today AIT s internationally recognized engineering environment\\nand management graduates are highly sought after by employers in\\ntheir home countryand elsewhere Across many walks of life in\\nAsia AIT alumni have distinguished themselves as CEO s of\\nprivate and state enterprises as business owners as well respected\\nresearchers and faculty and as senior university and government officials\\nWhat we offerWe believe our university is enriched by having\\nstudents and staff from a wide variety of backgrounds Higher\\neducation should be open to everyone who has the ability\\nand potential to benefit from it Masters degreesMBA MEng MSc\\nExecutive Master Degree Programs Doctoral DegreesDEng DTechSc PhD DBA Certificate\\nand Special Program Intensive English academic bridging program Non degree\\ncontinuing education courses Education for SDGsAwards and Science and Technology\\nfor Development Awardpresented to AIT by the United States Agency\\nfor International Development and the National Research Council for effectively\\ntransferring industrial technology and skills to the developing world by\\ntraining scientists and engineers from Asian countries Ramon Magsaysay Award\\nfor International Understandingpresented to AIT for shaping a new generation\\nof engineers and managers committed to Asia in an atmosphere\\nof academic excellence Read more at this link http rmaward\\nasia awardees asian institute of technology Development Management Awardpresented to\\nAIT by the Asian Management Awards for fostering manpower development\\ntechnological change and sustainable growth in the region through advanced\\neducation and research DAAM International Vienna Awardspresented by the Danube\\nAdria Association and Manufacturing DAAM International Vienna Austria to express\\nappreciation to AIT and its high technology experts from the\\nIndustrial Systems Engineering Program of the School of Advanced Technologies\\nfor their significant contribution in the field of technical sciences\\nand international scientific cooperation within the framework of DDAM on\\nthe occasion of the th DAAM international symposium to celebrate\\nthe th anniversary of Austria Friendship Orderwas awarded to AIT\\n', metadata={'source': './docs/ait_paragraphs.pdf', 'file_path': './docs/ait_paragraphs.pdf', 'page': 4, 'total_pages': 33, 'format': 'PDF 1.4', 'title': '(anonymous)', 'author': '(anonymous)', 'subject': '(unspecified)', 'keywords': '', 'creator': '(unspecified)', 'producer': 'ReportLab PDF Library - www.reportlab.com', 'creationDate': \"D:20240320025934-07'00'\", 'modDate': \"D:20240320025934-07'00'\", 'trapped': ''}),\n",
       " Document(page_content='in the area of international relations that have contributed to\\nhuman resource training for Vietnam and to the development of\\nfriendly relations between Vietnam and other countries Gold medal in\\nThai Research Fund Ratingsawarded the gold medal from the Thai\\nResearch Fund TRF for bagging the most perfect scores seven\\nscores of each among all universities in Thailand Vision and\\nMissionVisionTransforming AIT to be a respectable international graduate institution whose\\nresearch and education contribute to the development of Asia by\\nmaking AIT more global more innovative more entrepreneurial and more\\neconomically relevant while leveraging on its social impact core strengths\\nMissionThe mission of AIT in the context of the emerging\\nenvironment is to develop highly qualified and committed professionals who\\nwill play a leading role in the sustainable development of\\nthe region and its integration into the global economy Guided\\nby the above clear timeless vision and mission the dedicated\\nstudents faculty and staff of AIT are set to steer\\nthe Institute along its path of becoming A trailblazer in\\nadvanced education in the region with leadership in IT and\\nnew types of multidisciplinary programsAn exemplary institution with an emphasis\\non academic quality in terms of courses and other aspects\\nof operationA leader in professional development programsA hub for the\\nimplementation of regional and transnational research projects and a research\\nfacility for academic professionals A nexus for networking with other\\nacademic and research institutions in the region and the worldA\\nmodel international citizenA collaborator and partner of national postgraduate institutionsA\\nfinancially viable self sustaining institution able to draw support from\\ndonors the private sector and individuals with good governance and\\nstrong leadershipA strong partner to its alumni who are principal\\nstakeholders through the AIT Alumni Association AITAA Southeast Asia Treaty\\nOrganization SEATO initiate establishment of a regional graduate school of\\nengineering with principal support to be provided by SEATO member\\ncountries Australia France New Zealand the U K and the\\nU S with additional support from other regional member countries\\nPakistan the Philippines and Thailand SEATO Graduate School of Engineering\\nproject is approved by the SEATO Council of Ministers at\\na meeting in Manila SEATO Council of Ministers Meeting in\\nWellington New Zealand in April approves the establishment of the\\nschool by September On July His Majesty King Bhumibol Adulyadej\\nof Thailand signs the Royal Decree establishing the SEATO Graduate\\nSchool of Engineering The school opens on September first graduation\\nceremony is held in March Constituent Assembly of Thailand approve\\nlegislation for the Charter of the newly named Asian Institute\\nof Technology in October The Asian Institute of Technology Enabling\\nAct is published in the Royal Thai Government Gazette in\\nNovember AIT becomes independent of SEATO as an institution of\\nhigher learning empowered to grant degrees Majesty King Bhumibol Adulyadej\\nof Thailand graciously presides over the Eighth Annual Graduation in\\nMay the first for the newly named Asian Institute of\\nTechnology Majesty King Bhumibol Adulyadej of Thailand graciously presides over\\nthe opening of the new campus in Pathumthani in February\\nanniversary is celebrated with a donors meeting Financial support is\\nprovided by governments and over organizations foundations and industries Institute\\nmarks its anniversary in September with a donors meeting where\\n', metadata={'source': './docs/ait_paragraphs.pdf', 'file_path': './docs/ait_paragraphs.pdf', 'page': 5, 'total_pages': 33, 'format': 'PDF 1.4', 'title': '(anonymous)', 'author': '(anonymous)', 'subject': '(unspecified)', 'keywords': '', 'creator': '(unspecified)', 'producer': 'ReportLab PDF Library - www.reportlab.com', 'creationDate': \"D:20240320025934-07'00'\", 'modDate': \"D:20240320025934-07'00'\", 'trapped': ''}),\n",
       " Document(page_content='the Academic Plan is unveiled aimed at achieving a balance\\nbetween classical engineering and management fields The plan emphasizes consolidating\\nthirteen existing priority fields of study and research that meet\\nthe criteria of relevance to Asian needs and of practicability\\nand the Government of Vietnam signs an M O U\\nin February to establish the AIT Centre Vietnam in Hanoi\\nThe Institute undergoes academic re structuring in which smaller academic\\nunits are grouped together in Schools toward achieving greater synergy\\nanniversary is celebrated with numerous special events including the AIT\\nStakeholders Forum September focusing on the challenges ahead A round\\ntable discussion is held including AIT s trustees donors faculty\\nstaff students and alumni in addition to representatives of international\\norganizations NGOs and the private sector s anniversary is celebrated\\nnot only in Thailand but also in various other countries\\nCampus brochureDownload a campus brochure to learn more about our\\ncampus Download About About AIT Facts and figures Rankings LeadershipPeopleMeet\\nour facultyMeet our staff LocationSubscribe to our newsletter Subscribe to\\nour newsletterFollow us on social media P O Box Moo\\nKm Paholyothin Highway Klong Luang Pathum Thani Thailand AITFacts and\\nfiguresRankingsLeadershipPeople Meet our faculty Meet our staff\\nLocationCentersAcademicsAcademic calendarAcademic ProgramsStudy\\noptionsStudent opportunitiesSchoolsApply to AITAdmissionsFinancial aidTuition and feesStudent\\nhousingApply onlineResearchResearch CentersResearch\\nThemesResearch ProjectsResearch PublicationsCampus lifeHousingDiningHealth WellnessCultural\\ndiversityAthleticsCareer developmentFacilitiesVirtual tour Partners News\\nEvents Key thematic areas Work at AIT Branding Contact A\\nZ Units Asian Institute of Technology All Rights Reserved Designed\\nby OutsourcifyPrivacy PolicyTerms and conditionsWe use cookies on our website\\nto give you the most relevant experience by remembering your\\npreferences and repeat visits By clicking Accept All you consent\\nto the use of ALL the cookies However you may\\nvisit Cookie Settings to provide a controlled consent Cookie SettingsAccept\\nAllManage consent Close Privacy OverviewThis website uses cookies to improve\\nyour experience while you navigate through the website Out of\\nthese the cookies that are categorized as necessary are stored\\non your browser as they are essential for the working\\nof basic functionalities of the website We also use third\\nparty cookies that help us analyze and understand how you\\nuse this website These cookies will be stored in your\\nbrowser only with your consent You also have the option\\nto opt out of these cookies But opting out of\\nsome of these cookies may affect your browsing experience Necessary\\nNecessary Always Enabled Necessary cookies are absolutely essential for the\\nwebsite to function properly These cookies ensure basic functionalities and\\nsecurity features of the website anonymously CookieDurationDescriptioncookielawinfo checkbox\\nmonthsThis cookie\\nis set by GDPR Cookie Consent plugin The cookie is\\nused to store the user consent for the cookies in\\nthe category Analytics cookielawinfo checkbox monthsThe cookie is set by\\nGDPR cookie consent to record the user consent for the\\ncookies in the category Functional cookielawinfo checkbox monthsThis cookie is\\nset by GDPR Cookie Consent plugin The cookies is used\\nto store the user consent for the cookies in the\\n', metadata={'source': './docs/ait_paragraphs.pdf', 'file_path': './docs/ait_paragraphs.pdf', 'page': 6, 'total_pages': 33, 'format': 'PDF 1.4', 'title': '(anonymous)', 'author': '(anonymous)', 'subject': '(unspecified)', 'keywords': '', 'creator': '(unspecified)', 'producer': 'ReportLab PDF Library - www.reportlab.com', 'creationDate': \"D:20240320025934-07'00'\", 'modDate': \"D:20240320025934-07'00'\", 'trapped': ''}),\n",
       " Document(page_content='category Necessary cookielawinfo checkbox monthsThis cookie is set by GDPR\\nCookie Consent plugin The cookie is used to store the\\nuser consent for the cookies in the category Other cookielawinfo\\ncheckbox monthsThis cookie is set by GDPR Cookie Consent plugin\\nThe cookie is used to store the user consent for\\nthe cookies in the category Performance monthsThe cookie is set\\nby the GDPR Cookie Consent plugin and is used to\\nstore whether or not user has consented to the use\\nof cookies It does not store any personal data Functional\\nFunctional Functional cookies help to perform certain functionalities like sharing\\nthe content of the website on social media platforms collect\\nfeedbacks and other third party features Performance Performance Performance cookies\\nare used to understand and analyze the key performance indexes\\nof the website which helps in delivering a better user\\nexperience for the visitors Analytics Analytics Analytical cookies are used\\nto understand how visitors interact with the website These cookies\\nhelp provide information on metrics the number of visitors bounce\\nrate traffic source etc Advertisement Advertisement Advertisement cookies are used\\nto provide visitors with relevant ads and marketing campaigns These\\ncookies track visitors across websites and collect information to provide\\ncustomized ads Others Others Other uncategorized cookies are those that\\nare being analyzed and have not been classified into a\\ncategory as yet SAVE ACCEPT Facts and figures Asian Institute\\nof Technology BOI STP Intranet Students Contact Giving Alumni About\\nAbout AIT Facts and figures Rankings Leadership People Meet our\\nfaculty Meet our staff Location Academics Academic calendar Academic Programs\\nStudy options Student opportunities Schools Apply Admissions Eligibility Financial aid\\nTuition and fees Student housing Apply online Frequently Asked Questions\\nResearch Research Overview Research Themes Research Publications Research Projects Know\\nOur Researcher Centers SEARCH MENU Schools Campus life Housing Dining\\nHealth and Wellness Cultural diversity Athletics Career development Facilities AIT\\nConference Center Virtual tour Key thematic areas Climate change Smart\\nCommunities Food Energy Water Infrastructure Technology Policy Society Sustainability Partners\\nNews Events Work at AIT Emergency contacts Covid management About\\nAbout AIT Facts and figures Rankings LeadershipPeople Meet our facultyMeet\\nour staff LocationAcademics Academic calendar Academic Programs Study options Student\\nopportunities SchoolsApply Admissions Eligibility Financial aid Tuition and fees Student\\nhousing Apply online Frequently Asked QuestionsResearch Research Overview Research Themes\\nResearch Publications Research Projects Know Our Researcher Centers SchoolsCampus life\\nHousingDiningHealth and WellnessCultural diversityAthleticsCareer developmentFacilitiesAIT\\nConference CenterVirtual tourKey thematic areas\\nClimate changeSmart CommunitiesFood Energy WaterInfrastructureTechnology Policy Society\\nSustainability Partners News\\nEvents Work at AIT BOI STP Intranet Students Contact Giving\\nAlumni Emergency contacts Covid management Home About Facts and figuresFacts\\nand figuresWelcome to AIT Explore our world class facilities and\\ntake in the beautiful scenery and architecture on AIT campus\\nIn this section About AIT Facts and figures Rankings LeadershipPeopleMeet\\nour facultyMeet our staff LocationStudents Students from Short Course trainees\\nFrom Alumni from Countries TerritoriesAcademic Academic Ongoing Research class faculty\\nfrom and support Partners worldwideAbout About AIT Facts and figures\\nRankings LeadershipPeopleMeet our facultyMeet our staff LocationSubscribe to our newsletter\\nSubscribe to our newsletterFollow us on social media P O\\n', metadata={'source': './docs/ait_paragraphs.pdf', 'file_path': './docs/ait_paragraphs.pdf', 'page': 7, 'total_pages': 33, 'format': 'PDF 1.4', 'title': '(anonymous)', 'author': '(anonymous)', 'subject': '(unspecified)', 'keywords': '', 'creator': '(unspecified)', 'producer': 'ReportLab PDF Library - www.reportlab.com', 'creationDate': \"D:20240320025934-07'00'\", 'modDate': \"D:20240320025934-07'00'\", 'trapped': ''}),\n",
       " Document(page_content='Box Moo Km Paholyothin Highway Klong Luang Pathum Thani Thailand\\nAITFacts and figuresRankingsLeadershipPeople Meet our faculty Meet our staff\\nLocationCentersAcademicsAcademic\\ncalendarAcademic ProgramsStudy optionsStudent opportunitiesSchoolsApply to\\nAITAdmissionsFinancial aidTuition and feesStudent housingApply\\nonlineResearchResearch CentersResearch ThemesResearch ProjectsResearch PublicationsCampus\\nlifeHousingDiningHealth WellnessCultural diversityAthleticsCareer developmentFacilitiesVirtual tour\\nPartners News Events Key thematic areas Work at AIT Branding\\nContact A Z Units Asian Institute of Technology All Rights\\nReserved Designed by OutsourcifyPrivacy PolicyTerms and conditionsWe use cookies on\\nour website to give you the most relevant experience by\\nremembering your preferences and repeat visits By clicking Accept All\\nyou consent to the use of ALL the cookies However\\nyou may visit Cookie Settings to provide a controlled consent\\nCookie SettingsAccept AllManage consent Close Privacy OverviewThis website uses cookies\\nto improve your experience while you navigate through the website\\nOut of these the cookies that are categorized as necessary\\nare stored on your browser as they are essential for\\nthe working of basic functionalities of the website We also\\nuse third party cookies that help us analyze and understand\\nhow you use this website These cookies will be stored\\nin your browser only with your consent You also have\\nthe option to opt out of these cookies But opting\\nout of some of these cookies may affect your browsing\\nexperience Necessary Necessary Always Enabled Necessary cookies are absolutely essential\\nfor the website to function properly These cookies ensure basic\\nfunctionalities and security features of the website anonymously\\nCookieDurationDescriptioncookielawinfo checkbox\\nmonthsThis cookie is set by GDPR Cookie Consent plugin The\\ncookie is used to store the user consent for the\\ncookies in the category Analytics cookielawinfo checkbox monthsThe cookie is\\nset by GDPR cookie consent to record the user consent\\nfor the cookies in the category Functional cookielawinfo checkbox monthsThis\\ncookie is set by GDPR Cookie Consent plugin The cookies\\nis used to store the user consent for the cookies\\nin the category Necessary cookielawinfo checkbox monthsThis cookie is set\\nby GDPR Cookie Consent plugin The cookie is used to\\nstore the user consent for the cookies in the category\\nOther cookielawinfo checkbox monthsThis cookie is set by GDPR Cookie\\nConsent plugin The cookie is used to store the user\\nconsent for the cookies in the category Performance monthsThe cookie\\nis set by the GDPR Cookie Consent plugin and is\\nused to store whether or not user has consented to\\nthe use of cookies It does not store any personal\\ndata Functional Functional Functional cookies help to perform certain functionalities\\nlike sharing the content of the website on social media\\nplatforms collect feedbacks and other third party features Performance Performance\\nPerformance cookies are used to understand and analyze the key\\nperformance indexes of the website which helps in delivering a\\nbetter user experience for the visitors Analytics Analytics Analytical cookies\\nare used to understand how visitors interact with the website\\nThese cookies help provide information on metrics the number of\\nvisitors bounce rate traffic source etc Advertisement Advertisement Advertisement cookies\\n', metadata={'source': './docs/ait_paragraphs.pdf', 'file_path': './docs/ait_paragraphs.pdf', 'page': 8, 'total_pages': 33, 'format': 'PDF 1.4', 'title': '(anonymous)', 'author': '(anonymous)', 'subject': '(unspecified)', 'keywords': '', 'creator': '(unspecified)', 'producer': 'ReportLab PDF Library - www.reportlab.com', 'creationDate': \"D:20240320025934-07'00'\", 'modDate': \"D:20240320025934-07'00'\", 'trapped': ''}),\n",
       " Document(page_content='are used to provide visitors with relevant ads and marketing\\ncampaigns These cookies track visitors across websites and collect information\\nto provide customized ads Others Others Other uncategorized cookies are\\nthose that are being analyzed and have not been classified\\ninto a category as yet SAVE ACCEPT Rankings Asian Institute\\nof Technology BOI STP Intranet Students Contact Giving Alumni About\\nAbout AIT Facts and figures Rankings Leadership People Meet our\\nfaculty Meet our staff Location Academics Academic calendar Academic Programs\\nStudy options Student opportunities Schools Apply Admissions Eligibility Financial aid\\nTuition and fees Student housing Apply online Frequently Asked Questions\\nResearch Research Overview Research Themes Research Publications Research Projects Know\\nOur Researcher Centers SEARCH MENU Schools Campus life Housing Dining\\nHealth and Wellness Cultural diversity Athletics Career development Facilities AIT\\nConference Center Virtual tour Key thematic areas Climate change Smart\\nCommunities Food Energy Water Infrastructure Technology Policy Society Sustainability Partners\\nNews Events Work at AIT Emergency contacts Covid management About\\nAbout AIT Facts and figures Rankings LeadershipPeople Meet our facultyMeet\\nour staff LocationAcademics Academic calendar Academic Programs Study options Student\\nopportunities SchoolsApply Admissions Eligibility Financial aid Tuition and fees Student\\nhousing Apply online Frequently Asked QuestionsResearch Research Overview Research Themes\\nResearch Publications Research Projects Know Our Researcher Centers SchoolsCampus life\\nHousingDiningHealth and WellnessCultural diversityAthleticsCareer developmentFacilitiesAIT\\nConference CenterVirtual tourKey thematic areas\\nClimate changeSmart CommunitiesFood Energy WaterInfrastructureTechnology Policy Society\\nSustainability Partners News\\nEvents Work at AIT BOI STP Intranet Students Contact Giving\\nAlumni Emergency contacts Covid management Home About RankingsRankingsAIT maintains its\\nposition as a leader in addressing sustainable development and social\\nimpact in the region by meeting the UN s Sustainable\\nDevelopment Goals SDGs In this section About AIT Facts and\\nfigures Rankings LeadershipPeopleMeet our facultyMeet our staff Location AIT s\\nMBA and BADT Programs Achieve Top Ranking in Thailand Globally\\nRecognized in QS Rankings Read moreAIT demonstrated its commitment in\\nTimes Higher Education THE Impact Rankings THE Impact Rankings measure\\nhow universities worldwide are performing against the United Nations Sustainable\\nDevelopment Goals SDGs AIT obtained a overall rank of out\\nof universities from countries regions The UN has global sustainable\\ndevelopment goals for This year AIT participated in out of\\nthe SDGs and was ranked within for SDG SDG and\\nSDG The Impact Rankings No Poverty Zero Hunger Peace Justice\\nand Strong Institutions Clean Water and Sanitation Reduced Inequalities Responsible\\nConsumption and Production Climate Action Life Below Water Life on\\nLand AIT s MBA Program Ranks No for Three Consecutive\\nYearsAsian Institute of Technology AIT s Master s in Business\\nAdministration MBA program under the School of Management SOM has\\nbeen ranked in Thailand and in Asia in the latest\\nQS Global MBA Rankings released on September The program has\\nalso been ranked in Asia and in Career Specialization Rankings\\nEntrepreneurship Read moreAIT maintains an overall high rank in Times\\nHigher Education THE Impact RankingsThe THE Impact Rankings measure how\\nuniversities worldwide are performing against the United Nations Sustainable Development\\nGoals SDGs Despite the increasing number of competing universities from\\nin the previous year AIT maintained its overall rank of\\n', metadata={'source': './docs/ait_paragraphs.pdf', 'file_path': './docs/ait_paragraphs.pdf', 'page': 9, 'total_pages': 33, 'format': 'PDF 1.4', 'title': '(anonymous)', 'author': '(anonymous)', 'subject': '(unspecified)', 'keywords': '', 'creator': '(unspecified)', 'producer': 'ReportLab PDF Library - www.reportlab.com', 'creationDate': \"D:20240320025934-07'00'\", 'modDate': \"D:20240320025934-07'00'\", 'trapped': ''}),\n",
       " Document(page_content='out of universities from countries regions The UN has global\\nsustainable development goals for This year AIT participated in of\\nthem and ranked in the Top in and in Out\\nof all participating universities AIT is placed in the Top\\nWorldwide band in SDGs this year up from last year\\nAIT s overall ranking has gone up every yearThe Impact\\nRankings No Poverty Zero Hunger Reduced Inequalities Peace Justice and\\nStrong Institutions Clean Water and Sanitation Affordable and Clean Energy\\nDecent Work and Economic Growth Life below Water Life on\\nLand Partnership for the Goals AIT Receives Five Star Ratings\\nin All Core Categories by QS University Rankings Read moreAIT\\nRanks Globally by Times Higher Education for SDG No Poverty\\nWork Asian Institute of Technology AIT in Bangkok ranks in\\nthe world in the prestigious Times Higher Education THE Impact\\nRankings for its work to end poverty in line with\\nthe United Nations Sustainable Development Goal No Poverty Work on\\nfour other SDGs also positions the institute in the global\\ntop The THE Impact Rankings measure how universities worldwide are\\nperforming against the United Nations Sustainable Development Goals SDGs With\\nover universities from countries participating the overall results place AIT\\nin the global top with five individual goals in the\\ntop as follows The Impact Rankings No Poverty Partnership for\\nthe Goals Life Below Water Zero Hunger Life on LandMBA\\nprogram ranks in Asia and in Thailand according to QSIn\\nthe latest QS Global MBA Rankings released on September the\\nAIT Master of Business Administration MBA program ranks in Asia\\nand in Thailand Featuring over business schools in countries the\\nprestigious QS Global MBA Rankings provides a comprehensive list of\\nthe best academic institutions in the world to study for\\nan MBA degree The QS rankings are based on five\\nindicators Entrepreneurship and Alumni Outcomes Return on Investment Thought Leadership\\nEmployability and Diversity Of these the AIT MBA ranks in\\nAsia in Diversity and in the World in Return on\\nInvestment QS Global MBA Rankings global mba rankings no in\\nthailand in Asia in in Asia diversity in the world\\nin return on inverstmentAIT Ranks in World in in Times\\nHigher Education Impact in ranks in the world for Zero\\nHunger which indicates a recognition of our education and research\\non food and food security In addition AIT finished in\\nthe Top in the world President Eden Woon said To\\nbe in the world in No Poverty in this prestigious\\nTimes Higher Education Impact Rankings on sustainability work and commitment\\nby top global universities is a tribute to the dedication\\nof our students and faculty and staff to address the\\npoverty issue in Asia The Impact Rankings in the world\\nfor in the world for in the world in three\\nother SDGsAIT rankings by subject according to QSQS world university\\nrankingsBroad Subject Area Ranking in the engineering technology in the\\nsocial scienceBroad Subject Area Ranking civil technology built environment Forest\\nSciences Management Studies Electrical Electronic Machanical Aeronautical Manufacturing\\nEconometrics ScienceMBA\\nprograms rankingMBA programs ranked among global leaders tops in Thailand\\naccording to eduniversal masters rankings CategoryThailand RankingWorld RankingMaster in Natural\\n', metadata={'source': './docs/ait_paragraphs.pdf', 'file_path': './docs/ait_paragraphs.pdf', 'page': 10, 'total_pages': 33, 'format': 'PDF 1.4', 'title': '(anonymous)', 'author': '(anonymous)', 'subject': '(unspecified)', 'keywords': '', 'creator': '(unspecified)', 'producer': 'ReportLab PDF Library - www.reportlab.com', 'creationDate': \"D:20240320025934-07'00'\", 'modDate': \"D:20240320025934-07'00'\", 'trapped': ''}),\n",
       " Document(page_content='Resources Management Energy and Natural Resources in Climate Change and\\nSustainable Development Environmental Security in Engineering Industrial and Operations\\nManagement\\nof Agribusiness Management Agribusiness Food Industry Management in Energy Business\\nEnergy and Natural Resources Master of Business Administration EMBA Executive\\nMBA Masters in Banking and Finance Corporate Finance About AIT\\nFacts and figures Rankings LeadershipPeopleMeet our facultyMeet our staff LocationSubscribe\\nto our newsletter Subscribe to our newsletterFollow us on social\\nmedia P O Box Moo Km Paholyothin Highway Klong Luang\\nPathum Thani Thailand AITFacts and figuresRankingsLeadershipPeople Meet our faculty Meet\\nour staff LocationCentersAcademicsAcademic calendarAcademic ProgramsStudy optionsStudent\\nopportunitiesSchoolsApply to AITAdmissionsFinancial aidTuition\\nand feesStudent housingApply onlineResearchResearch CentersResearch ThemesResearch\\nProjectsResearch PublicationsCampus lifeHousingDiningHealth WellnessCultural\\ndiversityAthleticsCareer developmentFacilitiesVirtual tour Partners News Events Key thematic areas\\nWork\\nat AIT Branding Contact A Z Units Asian Institute of\\nTechnology All Rights Reserved Designed by OutsourcifyPrivacy PolicyTerms and conditionsWe\\nuse cookies on our website to give you the most\\nrelevant experience by remembering your preferences and repeat visits By\\nclicking Accept All you consent to the use of ALL\\nthe cookies However you may visit Cookie Settings to provide\\na controlled consent Cookie SettingsAccept AllManage consent Close Privacy OverviewThis\\nwebsite uses cookies to improve your experience while you navigate\\nthrough the website Out of these the cookies that are\\ncategorized as necessary are stored on your browser as they\\nare essential for the working of basic functionalities of the\\nwebsite We also use third party cookies that help us\\nanalyze and understand how you use this website These cookies\\nwill be stored in your browser only with your consent\\nYou also have the option to opt out of these\\ncookies But opting out of some of these cookies may\\naffect your browsing experience Necessary Necessary Always Enabled Necessary cookies\\nare absolutely essential for the website to function properly These\\ncookies ensure basic functionalities and security features of the website\\nanonymously CookieDurationDescriptioncookielawinfo checkbox monthsThis cookie is set by GDPR\\nCookie\\nConsent plugin The cookie is used to store the user\\nconsent for the cookies in the category Analytics cookielawinfo checkbox\\nmonthsThe cookie is set by GDPR cookie consent to record\\nthe user consent for the cookies in the category Functional\\ncookielawinfo checkbox monthsThis cookie is set by GDPR Cookie Consent\\nplugin The cookies is used to store the user consent\\nfor the cookies in the category Necessary cookielawinfo checkbox monthsThis\\ncookie is set by GDPR Cookie Consent plugin The cookie\\nis used to store the user consent for the cookies\\nin the category Other cookielawinfo checkbox monthsThis cookie is set\\nby GDPR Cookie Consent plugin The cookie is used to\\nstore the user consent for the cookies in the category\\nPerformance monthsThe cookie is set by the GDPR Cookie Consent\\nplugin and is used to store whether or not user\\nhas consented to the use of cookies It does not\\nstore any personal data Functional Functional Functional cookies help to\\n', metadata={'source': './docs/ait_paragraphs.pdf', 'file_path': './docs/ait_paragraphs.pdf', 'page': 11, 'total_pages': 33, 'format': 'PDF 1.4', 'title': '(anonymous)', 'author': '(anonymous)', 'subject': '(unspecified)', 'keywords': '', 'creator': '(unspecified)', 'producer': 'ReportLab PDF Library - www.reportlab.com', 'creationDate': \"D:20240320025934-07'00'\", 'modDate': \"D:20240320025934-07'00'\", 'trapped': ''}),\n",
       " Document(page_content='perform certain functionalities like sharing the content of the website\\non social media platforms collect feedbacks and other third party\\nfeatures Performance Performance Performance cookies are used to understand and\\nanalyze the key performance indexes of the website which helps\\nin delivering a better user experience for the visitors Analytics\\nAnalytics Analytical cookies are used to understand how visitors interact\\nwith the website These cookies help provide information on metrics\\nthe number of visitors bounce rate traffic source etc Advertisement\\nAdvertisement Advertisement cookies are used to provide visitors with relevant\\nads and marketing campaigns These cookies track visitors across websites\\nand collect information to provide customized ads Others Others Other\\nuncategorized cookies are those that are being analyzed and have\\nnot been classified into a category as yet SAVE ACCEPT\\nCenters Asian Institute of Technology BOI STP Intranet Students Contact\\nGiving Alumni About About AIT Facts and figures Rankings Leadership\\nPeople Meet our faculty Meet our staff Location Academics Academic\\ncalendar Academic Programs Study options Student opportunities Schools Apply Admissions\\nEligibility Financial aid Tuition and fees Student housing Apply online\\nFrequently Asked Questions Research Research Overview Research Themes Research Publications\\nResearch Projects Know Our Researcher Centers SEARCH MENU Schools Campus\\nlife Housing Dining Health and Wellness Cultural diversity Athletics Career\\ndevelopment Facilities AIT Conference Center Virtual tour Key thematic areas\\nClimate change Smart Communities Food Energy Water Infrastructure Technology Policy\\nSociety Sustainability Partners News Events Work at AIT Emergency contacts\\nCovid management About About AIT Facts and figures Rankings LeadershipPeople\\nMeet our facultyMeet our staff LocationAcademics Academic calendar Academic Programs\\nStudy options Student opportunities SchoolsApply Admissions Eligibility Financial aid Tuition\\nand fees Student housing Apply online Frequently Asked QuestionsResearch Research\\nOverview Research Themes Research Publications Research Projects Know Our Researcher\\nCenters SchoolsCampus life HousingDiningHealth and WellnessCultural diversityAthleticsCareer\\ndevelopmentFacilitiesAIT Conference CenterVirtual\\ntourKey thematic areas Climate changeSmart CommunitiesFood Energy\\nWaterInfrastructureTechnology Policy Society\\nSustainability Partners News Events Work at AIT BOI STP Intranet\\nStudents Contact Giving Alumni Emergency contacts Covid management Home About\\nCentersCentersBesides education and research outreach forms the third pillar of\\nAIT s core activities Research Centers AIT Entrepreneurship Center EC\\nArtificial intelligence AI Center Geoinformatics Center GIC Belt Road Research\\nCenter BRRC Internet Education and Research Laboratory intERLab Outreach Centers\\nAIT Solutions AIT Extension Regional Resource Centre for Asia and\\nthe Pacific RRC AP Global Water and Sanitation Center GWSC\\nCIFAL International Training Centre for Authorities and Leaders Academic Centers\\nAIT Language Center Yunus Center AIT AIT Center Vietnam School\\nOutreach Centers SMARTSCenter Bangchak Initiative and Innovation Center Centre for\\nAquaculture Development Aqua Centre Thailand Accident Research Center TARC AIT\\nCenter of Excellence in Nanotechnology Ostrom Center Asian Center for\\nSoil Improvement Geosynthetic ACSIG Asian Center for Transportation Studies ACTS\\nREGIONAL NETWORK OFFICE FOR URBAN SAFETY Center for Health and\\nWellness Technologies WellTech NATS Lab Subscribe to our newsletter Subscribe\\nto our newsletterFollow us on social media P O Box\\nMoo Km Paholyothin Highway Klong Luang Pathum Thani Thailand AITFacts\\nand figuresRankingsLeadershipPeople Meet our faculty Meet our staff\\nLocationCentersAcademicsAcademic calendarAcademic\\n', metadata={'source': './docs/ait_paragraphs.pdf', 'file_path': './docs/ait_paragraphs.pdf', 'page': 12, 'total_pages': 33, 'format': 'PDF 1.4', 'title': '(anonymous)', 'author': '(anonymous)', 'subject': '(unspecified)', 'keywords': '', 'creator': '(unspecified)', 'producer': 'ReportLab PDF Library - www.reportlab.com', 'creationDate': \"D:20240320025934-07'00'\", 'modDate': \"D:20240320025934-07'00'\", 'trapped': ''}),\n",
       " Document(page_content='ProgramsStudy optionsStudent opportunitiesSchoolsApply to AITAdmissionsFinancial aidTuition and\\nfeesStudent housingApply onlineResearchResearch\\nCentersResearch ThemesResearch ProjectsResearch PublicationsCampus lifeHousingDiningHealth\\nWellnessCultural diversityAthleticsCareer developmentFacilitiesVirtual tour Partners\\nNews Events Key thematic areas Work at AIT Branding Contact\\nA Z Units Asian Institute of Technology All Rights Reserved\\nDesigned by OutsourcifyPrivacy PolicyTerms and conditionsWe use cookies on our\\nwebsite to give you the most relevant experience by remembering\\nyour preferences and repeat visits By clicking Accept All you\\nconsent to the use of ALL the cookies However you\\nmay visit Cookie Settings to provide a controlled consent Cookie\\nSettingsAccept AllManage consent Close Privacy OverviewThis website uses cookies to\\nimprove your experience while you navigate through the website Out\\nof these the cookies that are categorized as necessary are\\nstored on your browser as they are essential for the\\nworking of basic functionalities of the website We also use\\nthird party cookies that help us analyze and understand how\\nyou use this website These cookies will be stored in\\nyour browser only with your consent You also have the\\noption to opt out of these cookies But opting out\\nof some of these cookies may affect your browsing experience\\nNecessary Necessary Always Enabled Necessary cookies are absolutely essential for\\nthe website to function properly These cookies ensure basic functionalities\\nand security features of the website anonymously CookieDurationDescriptioncookielawinfo checkbox\\nmonthsThis\\ncookie is set by GDPR Cookie Consent plugin The cookie\\nis used to store the user consent for the cookies\\nin the category Analytics cookielawinfo checkbox monthsThe cookie is set\\nby GDPR cookie consent to record the user consent for\\nthe cookies in the category Functional cookielawinfo checkbox monthsThis cookie\\nis set by GDPR Cookie Consent plugin The cookies is\\nused to store the user consent for the cookies in\\nthe category Necessary cookielawinfo checkbox monthsThis cookie is set by\\nGDPR Cookie Consent plugin The cookie is used to store\\nthe user consent for the cookies in the category Other\\ncookielawinfo checkbox monthsThis cookie is set by GDPR Cookie Consent\\nplugin The cookie is used to store the user consent\\nfor the cookies in the category Performance monthsThe cookie is\\nset by the GDPR Cookie Consent plugin and is used\\nto store whether or not user has consented to the\\nuse of cookies It does not store any personal data\\nFunctional Functional Functional cookies help to perform certain functionalities like\\nsharing the content of the website on social media platforms\\ncollect feedbacks and other third party features Performance Performance Performance\\ncookies are used to understand and analyze the key performance\\nindexes of the website which helps in delivering a better\\nuser experience for the visitors Analytics Analytics Analytical cookies are\\nused to understand how visitors interact with the website These\\ncookies help provide information on metrics the number of visitors\\nbounce rate traffic source etc Advertisement Advertisement Advertisement cookies are\\nused to provide visitors with relevant ads and marketing campaigns\\nThese cookies track visitors across websites and collect information to\\nprovide customized ads Others Others Other uncategorized cookies are those\\n', metadata={'source': './docs/ait_paragraphs.pdf', 'file_path': './docs/ait_paragraphs.pdf', 'page': 13, 'total_pages': 33, 'format': 'PDF 1.4', 'title': '(anonymous)', 'author': '(anonymous)', 'subject': '(unspecified)', 'keywords': '', 'creator': '(unspecified)', 'producer': 'ReportLab PDF Library - www.reportlab.com', 'creationDate': \"D:20240320025934-07'00'\", 'modDate': \"D:20240320025934-07'00'\", 'trapped': ''}),\n",
       " Document(page_content='that are being analyzed and have not been classified into\\na category as yet SAVE ACCEPT Admissions Asian Institute of\\nTechnology BOI STP Intranet Students Contact Giving Alumni About About\\nAIT Facts and figures Rankings Leadership People Meet our faculty\\nMeet our staff Location Academics Academic calendar Academic Programs Study\\noptions Student opportunities Schools Apply Admissions Eligibility Financial aid Tuition\\nand fees Student housing Apply online Frequently Asked Questions Research\\nResearch Overview Research Themes Research Publications Research Projects Know Our\\nResearcher Centers SEARCH MENU Schools Campus life Housing Dining Health\\nand Wellness Cultural diversity Athletics Career development Facilities AIT Conference\\nCenter Virtual tour Key thematic areas Climate change Smart Communities\\nFood Energy Water Infrastructure Technology Policy Society Sustainability Partners News\\nEvents Work at AIT Emergency contacts Covid management About About\\nAIT Facts and figures Rankings LeadershipPeople Meet our facultyMeet our\\nstaff LocationAcademics Academic calendar Academic Programs Study options Student opportunities\\nSchoolsApply Admissions Eligibility Financial aid Tuition and fees Student housing\\nApply online Frequently Asked QuestionsResearch Research Overview Research Themes Research\\nPublications Research Projects Know Our Researcher Centers SchoolsCampus life\\nHousingDiningHealth\\nand WellnessCultural diversityAthleticsCareer developmentFacilitiesAIT Conference CenterVirtual\\ntourKey thematic areas Climate\\nchangeSmart CommunitiesFood Energy WaterInfrastructureTechnology Policy Society Sustainability\\nPartners News Events\\nWork at AIT BOI STP Intranet Students Contact Giving Alumni\\nEmergency contacts Covid management Home AdmissionsAdmissionsAIT welcomes talented high\\nachieving\\nstudents who contribute a wide diversity of views experiences and\\nperspectives In this section Admissions Eligibility Financial aid Tuition and\\nfees Student housing Apply online Frequently Asked QuestionsJoin us at\\nAITWe want to get to know you through your application\\nto hear your voice and explore your potential We hope\\nyou get to know yourself better through the application process\\ntoo Across each and every program we actively seek students\\nfrom a wide variety of backgrounds We value the exceptional\\nacademic talent intellectual curiosity individual perspectives creativity and other defining\\nattributes that each student uniquely contributes to our community ProgramsAIT\\nprovides students with distinctive opportunities to undertake their studies in\\nrigorous and challenging ways Each programs requires its own application\\nfor participation Deadlines and notificationsThe AIT academic year consists of\\ntwo semesters January and August The deadlines of applications for\\nadmissions and financial aid Scholarships are as follows January Semester\\nTerm Intake School of Engineering and Technology SET School of\\nEnvironment Resources and Development SERD School of Management SOM December\\nis the deadline for overseas applicants requiring educational visaMarch Term\\nIntake only for School of Management February is the deadline\\nfor overseas applicants requiring educational visa February is for other\\napplicantsJune Term Intake only for School of Management May is\\nthe deadline for overseas applicants requiring educational visa May is\\nfor other applicantsAugust Semester Term Intake January Intake School of\\nEngineering and Technology SET School of Environment Resources and Development\\nSERD School of Management SOM February is the deadline for\\nHM King s and Queen s and GMS scholarships March\\nis the deadline for other Scholarships i e ADB JSP\\n', metadata={'source': './docs/ait_paragraphs.pdf', 'file_path': './docs/ait_paragraphs.pdf', 'page': 14, 'total_pages': 33, 'format': 'PDF 1.4', 'title': '(anonymous)', 'author': '(anonymous)', 'subject': '(unspecified)', 'keywords': '', 'creator': '(unspecified)', 'producer': 'ReportLab PDF Library - www.reportlab.com', 'creationDate': \"D:20240320025934-07'00'\", 'modDate': \"D:20240320025934-07'00'\", 'trapped': ''}),\n",
       " Document(page_content='Bangchak Master and Doctoral and others June is the deadline\\nfor AIT Scholarships including RTG Fellowships June is the deadline\\nfor overseas applicants requiring educational visa July is for other\\napplicantsOctober Term Intake only for School of Management September is\\nthe deadline for overseas applicants requiring educational visa September is\\nfor other applicantsApply here www ait ac th Apply Admissions\\nEligibility Financial aid Tuition and fees Student housing Apply online\\nFrequently Asked QuestionsSubscribe to our newsletter Subscribe to our newsletterFollow\\nus on social media P O Box Moo Km Paholyothin\\nHighway Klong Luang Pathum Thani Thailand AITFacts and figuresRankingsLeadershipPeople Meet\\nour faculty Meet our staff LocationCentersAcademicsAcademic calendarAcademic ProgramsStudy\\noptionsStudent opportunitiesSchoolsApply\\nto AITAdmissionsFinancial aidTuition and feesStudent housingApply onlineResearchResearch\\nCentersResearch ThemesResearch ProjectsResearch\\nPublicationsCampus lifeHousingDiningHealth WellnessCultural diversityAthleticsCareer\\ndevelopmentFacilitiesVirtual tour Partners News Events Key\\nthematic areas Work at AIT Branding Contact A Z Units\\nAsian Institute of Technology All Rights Reserved Designed by OutsourcifyPrivacy\\nPolicyTerms and conditionsWe use cookies on our website to give\\nyou the most relevant experience by remembering your preferences and\\nrepeat visits By clicking Accept All you consent to the\\nuse of ALL the cookies However you may visit Cookie\\nSettings to provide a controlled consent Cookie SettingsAccept AllManage consent\\nClose Privacy OverviewThis website uses cookies to improve your experience\\nwhile you navigate through the website Out of these the\\ncookies that are categorized as necessary are stored on your\\nbrowser as they are essential for the working of basic\\nfunctionalities of the website We also use third party cookies\\nthat help us analyze and understand how you use this\\nwebsite These cookies will be stored in your browser only\\nwith your consent You also have the option to opt\\nout of these cookies But opting out of some of\\nthese cookies may affect your browsing experience Necessary Necessary Always\\nEnabled Necessary cookies are absolutely essential for the website to\\nfunction properly These cookies ensure basic functionalities and security features\\nof the website anonymously CookieDurationDescriptioncookielawinfo checkbox monthsThis cookie is\\nset\\nby GDPR Cookie Consent plugin The cookie is used to\\nstore the user consent for the cookies in the category\\nAnalytics cookielawinfo checkbox monthsThe cookie is set by GDPR cookie\\nconsent to record the user consent for the cookies in\\nthe category Functional cookielawinfo checkbox monthsThis cookie is set by\\nGDPR Cookie Consent plugin The cookies is used to store\\nthe user consent for the cookies in the category Necessary\\ncookielawinfo checkbox monthsThis cookie is set by GDPR Cookie Consent\\nplugin The cookie is used to store the user consent\\nfor the cookies in the category Other cookielawinfo checkbox monthsThis\\ncookie is set by GDPR Cookie Consent plugin The cookie\\nis used to store the user consent for the cookies\\nin the category Performance monthsThe cookie is set by the\\nGDPR Cookie Consent plugin and is used to store whether\\nor not user has consented to the use of cookies\\nIt does not store any personal data Functional Functional Functional\\n', metadata={'source': './docs/ait_paragraphs.pdf', 'file_path': './docs/ait_paragraphs.pdf', 'page': 15, 'total_pages': 33, 'format': 'PDF 1.4', 'title': '(anonymous)', 'author': '(anonymous)', 'subject': '(unspecified)', 'keywords': '', 'creator': '(unspecified)', 'producer': 'ReportLab PDF Library - www.reportlab.com', 'creationDate': \"D:20240320025934-07'00'\", 'modDate': \"D:20240320025934-07'00'\", 'trapped': ''}),\n",
       " Document(page_content='cookies help to perform certain functionalities like sharing the content\\nof the website on social media platforms collect feedbacks and\\nother third party features Performance Performance Performance cookies are used\\nto understand and analyze the key performance indexes of the\\nwebsite which helps in delivering a better user experience for\\nthe visitors Analytics Analytics Analytical cookies are used to understand\\nhow visitors interact with the website These cookies help provide\\ninformation on metrics the number of visitors bounce rate traffic\\nsource etc Advertisement Advertisement Advertisement cookies are used to provide\\nvisitors with relevant ads and marketing campaigns These cookies track\\nvisitors across websites and collect information to provide customized ads\\nOthers Others Other uncategorized cookies are those that are being\\nanalyzed and have not been classified into a category as\\nyet SAVE ACCEPT Eligibility Asian Institute of Technology BOI STP\\nIntranet Students Contact Giving Alumni About About AIT Facts and\\nfigures Rankings Leadership People Meet our faculty Meet our staff\\nLocation Academics Academic calendar Academic Programs Study options Student opportunities\\nSchools Apply Admissions Eligibility Financial aid Tuition and fees Student\\nhousing Apply online Frequently Asked Questions Research Research Overview Research\\nThemes Research Publications Research Projects Know Our Researcher Centers SEARCH\\nMENU Schools Campus life Housing Dining Health and Wellness Cultural\\ndiversity Athletics Career development Facilities AIT Conference Center Virtual tour\\nKey thematic areas Climate change Smart Communities Food Energy Water\\nInfrastructure Technology Policy Society Sustainability Partners News Events Work at\\nAIT Emergency contacts Covid management About About AIT Facts and\\nfigures Rankings LeadershipPeople Meet our facultyMeet our staff LocationAcademics Academic\\ncalendar Academic Programs Study options Student opportunities SchoolsApply Admissions Eligibility\\nFinancial aid Tuition and fees Student housing Apply online Frequently\\nAsked QuestionsResearch Research Overview Research Themes Research Publications Research\\nProjects\\nKnow Our Researcher Centers SchoolsCampus life HousingDiningHealth and WellnessCultural\\ndiversityAthleticsCareer\\ndevelopmentFacilitiesAIT Conference CenterVirtual tourKey thematic areas Climate changeSmart\\nCommunitiesFood Energy\\nWaterInfrastructureTechnology Policy Society Sustainability Partners News Events Work at AIT\\nBOI STP Intranet Students Contact Giving Alumni Emergency contacts Covid\\nmanagement Home EligibilityEligibilityAIT provides equal academic opportunities to all applicants\\nand students regardless of their national origin gender age marital\\nstatus or disability In this section Admissions Eligibility Financial aid\\nTuition and fees Student housing Apply online Frequently Asked QuestionsAdmission\\nrequirementsThe Asian Institute of Technology AIT provides equal academic opportunities\\nto all applicants and students regardless of their national origin\\ngender or sexual orientation age religion marital status or disability\\nPlease note that an applicant can only apply for one\\nprogram at a time and pay the application processing fee\\nUSD or Baht Our competitive admission requirements vary depending on\\nyour educational background and the program s you want to\\nstudy Select your educational background to review requirements Master s\\ndegree Doctoral degree Certificate and special program Fellows of AIT\\nBridging program English proficiency requirement for admission Special Students Exchange\\nand Visiting Students Application form Apply Admissions Eligibility Financial aid\\nTuition and fees Student housing Apply online Frequently Asked QuestionsSubscribe\\nto our newsletter Subscribe to our newsletterFollow us on social\\n', metadata={'source': './docs/ait_paragraphs.pdf', 'file_path': './docs/ait_paragraphs.pdf', 'page': 16, 'total_pages': 33, 'format': 'PDF 1.4', 'title': '(anonymous)', 'author': '(anonymous)', 'subject': '(unspecified)', 'keywords': '', 'creator': '(unspecified)', 'producer': 'ReportLab PDF Library - www.reportlab.com', 'creationDate': \"D:20240320025934-07'00'\", 'modDate': \"D:20240320025934-07'00'\", 'trapped': ''}),\n",
       " Document(page_content='media P O Box Moo Km Paholyothin Highway Klong Luang\\nPathum Thani Thailand AITFacts and figuresRankingsLeadershipPeople Meet our faculty Meet\\nour staff LocationCentersAcademicsAcademic calendarAcademic ProgramsStudy optionsStudent\\nopportunitiesSchoolsApply to AITAdmissionsFinancial aidTuition\\nand feesStudent housingApply onlineResearchResearch CentersResearch ThemesResearch\\nProjectsResearch PublicationsCampus lifeHousingDiningHealth WellnessCultural\\ndiversityAthleticsCareer developmentFacilitiesVirtual tour Partners News Events Key thematic areas\\nWork\\nat AIT Branding Contact A Z Units Asian Institute of\\nTechnology All Rights Reserved Designed by OutsourcifyPrivacy PolicyTerms and conditionsWe\\nuse cookies on our website to give you the most\\nrelevant experience by remembering your preferences and repeat visits By\\nclicking Accept All you consent to the use of ALL\\nthe cookies However you may visit Cookie Settings to provide\\na controlled consent Cookie SettingsAccept AllManage consent Close Privacy OverviewThis\\nwebsite uses cookies to improve your experience while you navigate\\nthrough the website Out of these the cookies that are\\ncategorized as necessary are stored on your browser as they\\nare essential for the working of basic functionalities of the\\nwebsite We also use third party cookies that help us\\nanalyze and understand how you use this website These cookies\\nwill be stored in your browser only with your consent\\nYou also have the option to opt out of these\\ncookies But opting out of some of these cookies may\\naffect your browsing experience Necessary Necessary Always Enabled Necessary cookies\\nare absolutely essential for the website to function properly These\\ncookies ensure basic functionalities and security features of the website\\nanonymously CookieDurationDescriptioncookielawinfo checkbox monthsThis cookie is set by GDPR\\nCookie\\nConsent plugin The cookie is used to store the user\\nconsent for the cookies in the category Analytics cookielawinfo checkbox\\nmonthsThe cookie is set by GDPR cookie consent to record\\nthe user consent for the cookies in the category Functional\\ncookielawinfo checkbox monthsThis cookie is set by GDPR Cookie Consent\\nplugin The cookies is used to store the user consent\\nfor the cookies in the category Necessary cookielawinfo checkbox monthsThis\\ncookie is set by GDPR Cookie Consent plugin The cookie\\nis used to store the user consent for the cookies\\nin the category Other cookielawinfo checkbox monthsThis cookie is set\\nby GDPR Cookie Consent plugin The cookie is used to\\nstore the user consent for the cookies in the category\\nPerformance monthsThe cookie is set by the GDPR Cookie Consent\\nplugin and is used to store whether or not user\\nhas consented to the use of cookies It does not\\nstore any personal data Functional Functional Functional cookies help to\\nperform certain functionalities like sharing the content of the website\\non social media platforms collect feedbacks and other third party\\nfeatures Performance Performance Performance cookies are used to understand and\\nanalyze the key performance indexes of the website which helps\\nin delivering a better user experience for the visitors Analytics\\nAnalytics Analytical cookies are used to understand how visitors interact\\nwith the website These cookies help provide information on metrics\\nthe number of visitors bounce rate traffic source etc Advertisement\\n', metadata={'source': './docs/ait_paragraphs.pdf', 'file_path': './docs/ait_paragraphs.pdf', 'page': 17, 'total_pages': 33, 'format': 'PDF 1.4', 'title': '(anonymous)', 'author': '(anonymous)', 'subject': '(unspecified)', 'keywords': '', 'creator': '(unspecified)', 'producer': 'ReportLab PDF Library - www.reportlab.com', 'creationDate': \"D:20240320025934-07'00'\", 'modDate': \"D:20240320025934-07'00'\", 'trapped': ''}),\n",
       " Document(page_content='Advertisement Advertisement cookies are used to provide visitors with relevant\\nads and marketing campaigns These cookies track visitors across websites\\nand collect information to provide customized ads Others Others Other\\nuncategorized cookies are those that are being analyzed and have\\nnot been classified into a category as yet SAVE ACCEPT\\nTuition and fees Asian Institute of Technology BOI STP Intranet\\nStudents Contact Giving Alumni About About AIT Facts and figures\\nRankings Leadership People Meet our faculty Meet our staff Location\\nAcademics Academic calendar Academic Programs Study options Student opportunities Schools\\nApply Admissions Eligibility Financial aid Tuition and fees Student housing\\nApply online Frequently Asked Questions Research Research Overview Research Themes\\nResearch Publications Research Projects Know Our Researcher Centers SEARCH MENU\\nSchools Campus life Housing Dining Health and Wellness Cultural diversity\\nAthletics Career development Facilities AIT Conference Center Virtual tour Key\\nthematic areas Climate change Smart Communities Food Energy Water Infrastructure\\nTechnology Policy Society Sustainability Partners News Events Work at AIT\\nEmergency contacts Covid management About About AIT Facts and figures\\nRankings LeadershipPeople Meet our facultyMeet our staff LocationAcademics Academic calendar\\nAcademic Programs Study options Student opportunities SchoolsApply Admissions Eligibility Financial\\naid Tuition and fees Student housing Apply online Frequently Asked\\nQuestionsResearch Research Overview Research Themes Research Publications Research Projects\\nKnow\\nOur Researcher Centers SchoolsCampus life HousingDiningHealth and WellnessCultural\\ndiversityAthleticsCareer developmentFacilitiesAIT\\nConference CenterVirtual tourKey thematic areas Climate changeSmart CommunitiesFood Energy\\nWaterInfrastructureTechnology\\nPolicy Society Sustainability Partners News Events Work at AIT BOI\\nSTP Intranet Students Contact Giving Alumni Emergency contacts Covid management\\nHome Tuition and feesTuition and feesEstimated costs and expenses for\\na full time student without financial aid for the duration\\nof his her study program In this section Admissions Eligibility\\nFinancial aid Tuition and fees Student housing Apply online Frequently\\nAsked QuestionsTuition feesSchool of Engineering and Technology SET School of\\nEnvironment Resources and Development SERD Study costs for SERD and\\nSETDoctorateMaster s M PhilMaster year Semesters credits Semesters credits Months\\ncredits Semester credits MonthsRegistration Fee Baht per Semester Fee Baht\\nper Credit Support Fee Medical Insurance Fee Baht per Year\\nUnion Fee Baht per Semester Fees Living Accommodation Miscellaneous Expenses\\nBaht per Month fee Baht per Year of Management SOM\\nStudy costs for SOMPhD Program Semesters credits MonthsDBA Program yrs\\nMBA Program YearMBA Program YearsMSc Program yearMSc Program yearsTuition and\\nRegistration Fee Support Fee fee Baht Baht per year Union\\nFee Baht per semester visa fee Baht per year Fees\\nLiving Accommodation Miscellaneous Expenses Baht per Month costs in ThailandBelow\\nis an approximate guide to the minimum amount you should\\nexpect for living expenses in the Thailand per month These\\ncosts are for one person only so students with children\\nand dependents should keep this in mind when working out\\na budget ExpensesApproximate PriceAccommodation Dormitory Usually Including Bills per\\nmonthPrivate\\nAccommodation bills not included per monthMobile phone per month minimum\\nsuggested amountBooks Stationery minimum suggested amountTravel Transport per month minimum\\nsuggested amount to the city or near by campusPayment AdviceAIT\\n', metadata={'source': './docs/ait_paragraphs.pdf', 'file_path': './docs/ait_paragraphs.pdf', 'page': 18, 'total_pages': 33, 'format': 'PDF 1.4', 'title': '(anonymous)', 'author': '(anonymous)', 'subject': '(unspecified)', 'keywords': '', 'creator': '(unspecified)', 'producer': 'ReportLab PDF Library - www.reportlab.com', 'creationDate': \"D:20240320025934-07'00'\", 'modDate': \"D:20240320025934-07'00'\", 'trapped': ''}),\n",
       " Document(page_content='tuition and registration fees are charged in Thai Baht so\\nall students are encouraged to pay in Thai Baht For\\nthe January Semester the AIT Official Rate of Exchange ROE\\nof conversion is as follows If an invoice is in\\nTHB to USD the use ROE is an invoice is\\nin USD to THB the use ROE is an invoice\\nis in THB to EUR the use ROE is an\\ninvoice is in EUR to THB the use ROE is\\nan invoice is in THB to GBP the use ROE\\nis an invoice is in GBP to THB the use\\nROE is an invoice is in THB to AUD the\\nuse ROE is an invoice is in AUD to THB\\nthe use ROE is Certificate Diploma Master and Doctoral Payments\\nof tuition and other fees can be paid transferred from\\nOverseas through the AIT Current Account A C details below\\nThai Baht Account Siam Commercial Bank Thammasat University Hospital BranchName\\nof A C ASIAN INSTITUTE OF TECHNOLOGYCurrent A C Moo\\nKlong Nueng Klong Luang Pathumthani ThailandSwift code Payments of tuition\\nand other fees can be paid transferred in Thailand through\\nthe AIT Saving Account A C detailed below Thai Baht\\nAccount Siam Commercial Bank Thammasat University Hospital BranchName of A\\nC ASIAN INSTITUTE OF TECHNOLOGYSaving A C Moo Klong Nueng\\nKlong Luang Pathumthani ThailandSwift code SICOTHBKContactFor payment advice and inquriy\\nplease contactFor more information email protected email protected Note Please\\nemail the scanned copy of the transaction detail or payment\\nslip money transfer to email protected h and prate email\\nprotected Cashier with the student ID number invoice number or\\nApplication number new incoming studentApply Admissions Eligibility Financial aid Tuition\\nand fees Student housing Apply online Frequently Asked QuestionsSubscribe to\\nour newsletter Subscribe to our newsletterFollow us on social media\\nP O Box Moo Km Paholyothin Highway Klong Luang Pathum\\nThani Thailand AITFacts and figuresRankingsLeadershipPeople Meet our faculty Meet our\\nstaff LocationCentersAcademicsAcademic calendarAcademic ProgramsStudy optionsStudent\\nopportunitiesSchoolsApply to AITAdmissionsFinancial aidTuition and\\nfeesStudent housingApply onlineResearchResearch CentersResearch ThemesResearch\\nProjectsResearch PublicationsCampus lifeHousingDiningHealth WellnessCultural\\ndiversityAthleticsCareer\\ndevelopmentFacilitiesVirtual tour Partners News Events Key thematic areas Work at\\nAIT Branding Contact A Z Units Asian Institute of Technology\\nAll Rights Reserved Designed by OutsourcifyPrivacy PolicyTerms and conditionsWe use\\ncookies on our website to give you the most relevant\\nexperience by remembering your preferences and repeat visits By clicking\\nAccept All you consent to the use of ALL the\\ncookies However you may visit Cookie Settings to provide a\\ncontrolled consent Cookie SettingsAccept AllManage consent Close Privacy OverviewThis website\\nuses cookies to improve your experience while you navigate through\\nthe website Out of these the cookies that are categorized\\nas necessary are stored on your browser as they are\\nessential for the working of basic functionalities of the website\\nWe also use third party cookies that help us analyze\\nand understand how you use this website These cookies will\\nbe stored in your browser only with your consent You\\nalso have the option to opt out of these cookies\\n', metadata={'source': './docs/ait_paragraphs.pdf', 'file_path': './docs/ait_paragraphs.pdf', 'page': 19, 'total_pages': 33, 'format': 'PDF 1.4', 'title': '(anonymous)', 'author': '(anonymous)', 'subject': '(unspecified)', 'keywords': '', 'creator': '(unspecified)', 'producer': 'ReportLab PDF Library - www.reportlab.com', 'creationDate': \"D:20240320025934-07'00'\", 'modDate': \"D:20240320025934-07'00'\", 'trapped': ''}),\n",
       " Document(page_content='But opting out of some of these cookies may affect\\nyour browsing experience Necessary Necessary Always Enabled Necessary cookies are\\nabsolutely essential for the website to function properly These cookies\\nensure basic functionalities and security features of the website anonymously\\nCookieDurationDescriptioncookielawinfo checkbox monthsThis cookie is set by GDPR Cookie Consent\\nplugin The cookie is used to store the user consent\\nfor the cookies in the category Analytics cookielawinfo checkbox monthsThe\\ncookie is set by GDPR cookie consent to record the\\nuser consent for the cookies in the category Functional cookielawinfo\\ncheckbox monthsThis cookie is set by GDPR Cookie Consent plugin\\nThe cookies is used to store the user consent for\\nthe cookies in the category Necessary cookielawinfo checkbox monthsThis cookie\\nis set by GDPR Cookie Consent plugin The cookie is\\nused to store the user consent for the cookies in\\nthe category Other cookielawinfo checkbox monthsThis cookie is set by\\nGDPR Cookie Consent plugin The cookie is used to store\\nthe user consent for the cookies in the category Performance\\nmonthsThe cookie is set by the GDPR Cookie Consent plugin\\nand is used to store whether or not user has\\nconsented to the use of cookies It does not store\\nany personal data Functional Functional Functional cookies help to perform\\ncertain functionalities like sharing the content of the website on\\nsocial media platforms collect feedbacks and other third party features\\nPerformance Performance Performance cookies are used to understand and analyze\\nthe key performance indexes of the website which helps in\\ndelivering a better user experience for the visitors Analytics Analytics\\nAnalytical cookies are used to understand how visitors interact with\\nthe website These cookies help provide information on metrics the\\nnumber of visitors bounce rate traffic source etc Advertisement Advertisement\\nAdvertisement cookies are used to provide visitors with relevant ads\\nand marketing campaigns These cookies track visitors across websites and\\ncollect information to provide customized ads Others Others Other uncategorized\\ncookies are those that are being analyzed and have not\\nbeen classified into a category as yet SAVE ACCEPT Student\\nhousing Asian Institute of Technology BOI STP Intranet Students Contact\\nGiving Alumni About About AIT Facts and figures Rankings Leadership\\nPeople Meet our faculty Meet our staff Location Academics Academic\\ncalendar Academic Programs Study options Student opportunities Schools Apply Admissions\\nEligibility Financial aid Tuition and fees Student housing Apply online\\nFrequently Asked Questions Research Research Overview Research Themes Research Publications\\nResearch Projects Know Our Researcher Centers SEARCH MENU Schools Campus\\nlife Housing Dining Health and Wellness Cultural diversity Athletics Career\\ndevelopment Facilities AIT Conference Center Virtual tour Key thematic areas\\nClimate change Smart Communities Food Energy Water Infrastructure Technology Policy\\nSociety Sustainability Partners News Events Work at AIT Emergency contacts\\nCovid management About About AIT Facts and figures Rankings LeadershipPeople\\nMeet our facultyMeet our staff LocationAcademics Academic calendar Academic Programs\\nStudy options Student opportunities SchoolsApply Admissions Eligibility Financial aid Tuition\\nand fees Student housing Apply online Frequently Asked QuestionsResearch Research\\nOverview Research Themes Research Publications Research Projects Know Our Researcher\\nCenters SchoolsCampus life HousingDiningHealth and WellnessCultural diversityAthleticsCareer\\ndevelopmentFacilitiesAIT Conference CenterVirtual\\n', metadata={'source': './docs/ait_paragraphs.pdf', 'file_path': './docs/ait_paragraphs.pdf', 'page': 20, 'total_pages': 33, 'format': 'PDF 1.4', 'title': '(anonymous)', 'author': '(anonymous)', 'subject': '(unspecified)', 'keywords': '', 'creator': '(unspecified)', 'producer': 'ReportLab PDF Library - www.reportlab.com', 'creationDate': \"D:20240320025934-07'00'\", 'modDate': \"D:20240320025934-07'00'\", 'trapped': ''}),\n",
       " Document(page_content='tourKey thematic areas Climate changeSmart CommunitiesFood Energy\\nWaterInfrastructureTechnology Policy Society\\nSustainability Partners News Events Work at AIT BOI STP Intranet\\nStudents Contact Giving Alumni Emergency contacts Covid management Home Student\\nhousingStudent housingAIT campus offers many opportunities for sports activities In\\nthis section Admissions Eligibility Financial aid Tuition and fees Student\\nhousing Apply online Frequently Asked QuestionsOn campus living at AITHigh\\nquality on campus accommodations are available in different types such\\nas air conditioned or non air conditioned cooking or non\\ncooking and single or double occupancy all rooms are fully\\nfurnished with regular maintenance services Weekly cleaning service is also\\navailable Accommodation facilities serviceCampus accommodation with air conditioned non air\\nconditioned cooking non cooking rooms Provides the following maintenance servicesElectrical\\nequipment furniture sanitary building maintenance gas deliveryCleaning servicesLinens provision and\\nlaundry service bedsheets towels and Pillowcase except Category Dorm E\\nJ K and SV Married Units Special accommodation facility for\\ndisabledAccommodation suitable for disabled wheelchair users and those needing extra\\nspace for special equipment are available non air conditioned in\\nDorm C and air conditioned in Dorm X and Y\\nLiving in AITLiving in residence is a great way to\\nkick off your university experience Find out more about AIT\\nhousing services See detailApply Admissions Eligibility Financial aid Tuition and\\nfees Student housing Apply online Frequently Asked QuestionsSubscribe to our\\nnewsletter Subscribe to our newsletterFollow us on social media P\\nO Box Moo Km Paholyothin Highway Klong Luang Pathum Thani\\nThailand AITFacts and figuresRankingsLeadershipPeople Meet our faculty Meet our staff\\nLocationCentersAcademicsAcademic calendarAcademic ProgramsStudy optionsStudent\\nopportunitiesSchoolsApply to AITAdmissionsFinancial aidTuition and feesStudent\\nhousingApply onlineResearchResearch CentersResearch ThemesResearch ProjectsResearch\\nPublicationsCampus lifeHousingDiningHealth WellnessCultural diversityAthleticsCareer\\ndevelopmentFacilitiesVirtual\\ntour Partners News Events Key thematic areas Work at AIT\\nBranding Contact A Z Units Asian Institute of Technology All\\nRights Reserved Designed by OutsourcifyPrivacy PolicyTerms and conditionsWe use cookies\\non our website to give you the most relevant experience\\nby remembering your preferences and repeat visits By clicking Accept\\nAll you consent to the use of ALL the cookies\\nHowever you may visit Cookie Settings to provide a controlled\\nconsent Cookie SettingsAccept AllManage consent Close Privacy OverviewThis website uses\\ncookies to improve your experience while you navigate through the\\nwebsite Out of these the cookies that are categorized as\\nnecessary are stored on your browser as they are essential\\nfor the working of basic functionalities of the website We\\nalso use third party cookies that help us analyze and\\nunderstand how you use this website These cookies will be\\nstored in your browser only with your consent You also\\nhave the option to opt out of these cookies But\\nopting out of some of these cookies may affect your\\nbrowsing experience Necessary Necessary Always Enabled Necessary cookies are absolutely\\nessential for the website to function properly These cookies ensure\\nbasic functionalities and security features of the website anonymously\\nCookieDurationDescriptioncookielawinfo\\ncheckbox monthsThis cookie is set by GDPR Cookie Consent plugin\\n', metadata={'source': './docs/ait_paragraphs.pdf', 'file_path': './docs/ait_paragraphs.pdf', 'page': 21, 'total_pages': 33, 'format': 'PDF 1.4', 'title': '(anonymous)', 'author': '(anonymous)', 'subject': '(unspecified)', 'keywords': '', 'creator': '(unspecified)', 'producer': 'ReportLab PDF Library - www.reportlab.com', 'creationDate': \"D:20240320025934-07'00'\", 'modDate': \"D:20240320025934-07'00'\", 'trapped': ''}),\n",
       " Document(page_content='The cookie is used to store the user consent for\\nthe cookies in the category Analytics cookielawinfo checkbox monthsThe cookie\\nis set by GDPR cookie consent to record the user\\nconsent for the cookies in the category Functional cookielawinfo checkbox\\nmonthsThis cookie is set by GDPR Cookie Consent plugin The\\ncookies is used to store the user consent for the\\ncookies in the category Necessary cookielawinfo checkbox monthsThis cookie is\\nset by GDPR Cookie Consent plugin The cookie is used\\nto store the user consent for the cookies in the\\ncategory Other cookielawinfo checkbox monthsThis cookie is set by GDPR\\nCookie Consent plugin The cookie is used to store the\\nuser consent for the cookies in the category Performance monthsThe\\ncookie is set by the GDPR Cookie Consent plugin and\\nis used to store whether or not user has consented\\nto the use of cookies It does not store any\\npersonal data Functional Functional Functional cookies help to perform certain\\nfunctionalities like sharing the content of the website on social\\nmedia platforms collect feedbacks and other third party features Performance\\nPerformance Performance cookies are used to understand and analyze the\\nkey performance indexes of the website which helps in delivering\\na better user experience for the visitors Analytics Analytics Analytical\\ncookies are used to understand how visitors interact with the\\nwebsite These cookies help provide information on metrics the number\\nof visitors bounce rate traffic source etc Advertisement Advertisement Advertisement\\ncookies are used to provide visitors with relevant ads and\\nmarketing campaigns These cookies track visitors across websites and collect\\ninformation to provide customized ads Others Others Other uncategorized cookies\\nare those that are being analyzed and have not been\\nclassified into a category as yet SAVE ACCEPT Frequently Asked\\nQuestions Asian Institute of Technology BOI STP Intranet Students Contact\\nGiving Alumni About About AIT Facts and figures Rankings Leadership\\nPeople Meet our faculty Meet our staff Location Academics Academic\\ncalendar Academic Programs Study options Student opportunities Schools Apply Admissions\\nEligibility Financial aid Tuition and fees Student housing Apply online\\nFrequently Asked Questions Research Research Overview Research Themes Research Publications\\nResearch Projects Know Our Researcher Centers SEARCH MENU Schools Campus\\nlife Housing Dining Health and Wellness Cultural diversity Athletics Career\\ndevelopment Facilities AIT Conference Center Virtual tour Key thematic areas\\nClimate change Smart Communities Food Energy Water Infrastructure Technology Policy\\nSociety Sustainability Partners News Events Work at AIT Emergency contacts\\nCovid management About About AIT Facts and figures Rankings LeadershipPeople\\nMeet our facultyMeet our staff LocationAcademics Academic calendar Academic Programs\\nStudy options Student opportunities SchoolsApply Admissions Eligibility Financial aid Tuition\\nand fees Student housing Apply online Frequently Asked QuestionsResearch Research\\nOverview Research Themes Research Publications Research Projects Know Our Researcher\\nCenters SchoolsCampus life HousingDiningHealth and WellnessCultural diversityAthleticsCareer\\ndevelopmentFacilitiesAIT Conference CenterVirtual\\ntourKey thematic areas Climate changeSmart CommunitiesFood Energy\\nWaterInfrastructureTechnology Policy Society\\nSustainability Partners News Events Work at AIT BOI STP Intranet\\nStudents Contact Giving Alumni Emergency contacts Covid management Home Admissions\\nFrequently Asked QuestionsFrequently Asked Questions In this section Admissions Eligibility\\nFinancial aid Tuition and fees Student housing Apply online Frequently\\n', metadata={'source': './docs/ait_paragraphs.pdf', 'file_path': './docs/ait_paragraphs.pdf', 'page': 22, 'total_pages': 33, 'format': 'PDF 1.4', 'title': '(anonymous)', 'author': '(anonymous)', 'subject': '(unspecified)', 'keywords': '', 'creator': '(unspecified)', 'producer': 'ReportLab PDF Library - www.reportlab.com', 'creationDate': \"D:20240320025934-07'00'\", 'modDate': \"D:20240320025934-07'00'\", 'trapped': ''}),\n",
       " Document(page_content='Asked QuestionsProgram I want to study at AIT What does\\nAIT offer and what are the admissions requirements The Institute\\noffers Doctoral Degrees Executive Master s Degree Master s Degrees\\nProfessional Master s Degree Diploma Certificate Programs Non degree programs\\nIntensive English language For eligibility requirements on the Degree Programs\\nplease visit the Admissions website For non degree training please\\nvisit the AIT Extension and Language Can I apply to\\ntwo Academic Programs at the same time No You can\\nonly apply to one academic program at any time What\\nAcademic Programs and Courses does AIT Offer The Institute currently\\noffers academic programs For details please visit our School websites\\nSchool of Engineering and Technology SET School of Environment Resources\\nand Development SERD and School of Management SOM What is\\nthe duration of study Year Master s Degree students normally\\nstudy for months enrolled in August Intake and months enrolled\\nin January Intake which includes four semesters two short breaks\\nand one long break between semesters Doctoral students study for\\nat least months or seven semesters year Master Professional Master\\nProgram and the Diploma Programs are at least months or\\ntwo semesters and the Certificate Program is months or one\\nsemester Do you have academic exchange programs and scholarships for\\nthose Yes we have academic exchange programs with various partner\\nuniversities in Asia and Europe AIT has a limited number\\nof scholarships to assist our students to go on academic\\nexchange You can apply for an academic exchange program and\\nthe scholarship in your second semester of study at AIT\\nDo you provide minors Yes AIT provides the option to\\ngraduate with a minor Starting from the August semester AIT\\noffers a Minor in Entrepreneurship More minors will be added\\nin There are no additional cost in pursuing a minor\\nA total of credits in the minor program are required\\nIs all communication and all documents and teaching material in\\nEnglish Yes AIT is an English speaking campus All communication\\nis in English more details under FAQ number under the\\nrequirements What are Unified programs Unified Programs integrate undergraduate studies\\nwith graduate studies into a seamless Unified program For example\\nundergraduate students may join AIT in their final year to\\ncomplete their undergraduate degree and at the same time start\\ntheir Master program at AIT AIT has several Unified programs\\nwith our partner universities managed by our Office of Special\\nDegree Do I need to apply for the scholarships listed\\non the AIT scholarship website You do not need to\\napply separately for the scholarships Once you have submitted the\\napplication online your will be automatically considered for all scholarships\\nfor which the deadline has not expired and for which\\nyou are eligible The type and amount of scholarship given\\nto applicants is on a competitive basis with the main\\ncriteria of academic standing Should you wish to be considered\\nfor full scholarships you must submit an Official English score\\nof including writing and overall that is not older than\\nyears Please check acceptable test results here How can I\\nobtain the application form Application to AIT is now fully\\nonline Thus please apply using the Online Application Who must\\n', metadata={'source': './docs/ait_paragraphs.pdf', 'file_path': './docs/ait_paragraphs.pdf', 'page': 23, 'total_pages': 33, 'format': 'PDF 1.4', 'title': '(anonymous)', 'author': '(anonymous)', 'subject': '(unspecified)', 'keywords': '', 'creator': '(unspecified)', 'producer': 'ReportLab PDF Library - www.reportlab.com', 'creationDate': \"D:20240320025934-07'00'\", 'modDate': \"D:20240320025934-07'00'\", 'trapped': ''}),\n",
       " Document(page_content='write my letters of recommendation Your referees should be well\\nacquainted with your intellectual abilities academic performance and personal character\\nOnly applicants for the doctoral degree program must submit at\\nleast recommendation letters no recommendation letters are required for master\\ndegree programs Do you require interviews for admission When and\\nwhere Applicants from selected countries will be called for interview\\nThe School will contact you directly for the arrangement Will\\nyou waive my admission interviews since I was admitted last\\nyear but chose not to register No As the application\\nassessment varies from each intake your application in the next\\nintake must be as competitive as those with others applying\\nin that same intake Is proof of English language proficiency\\nrequired Yes all AIT programs are conducted in English thus\\nyou will need to provide proof of adequate English language\\nproficiency There are three ways to provide proof of adequate\\nEnglish language proficiency Citizenship of an English speaking country Applicants\\nwho are citizens of and have been educated in an\\nEnglish speaking country Australia Canada Ireland New Zealand the UK\\nand the USA are exempted from English testing Proof of\\ncitizenship and studies must be submitted Certificate of English Medium\\nof Instruction Applicants who have earned a degree at a\\nuniversity at which English is the sole medium of instruction\\nmay submit a document signed by the University Registrar attesting\\nto English medium of instruction AIT reserves the rights to\\naccept or reject such certificate based on our extensive list\\nof recognized certificates of English Medium of Instruction Applicants who\\nsubmit a certificate are requested to sit the AIT Academic\\nWriting Test upon arrival to determine their level of proficiency\\non the AIT scale If your submitted certificate is not\\nacceptable we will inform you immediately In this case you\\nare required to submit an English score of AIT approved\\ntests See Number below Approved test of English language proficiency\\nApplicants with good undergraduate records and minimum scores on official\\ntests of English proficiency can be admitted without conditions The\\napproved tests and minimum scores are AIT EET Academic Module\\nWriting band Other test scores such as TOEFL Internet based\\ncomputer based paper based CEFR and may be considered based\\non equivalent scores to the IELTS Academic Module Students with\\ngood academic records with lower scores may receive conditional admission\\nThey will be required to attend English classes at AIT\\nuntil their scores improve Please see the test score comparison\\ntable here Those who are interested in applying but do\\nnot meet the minimum English proficiency requirements for admission or\\nconditional admission are recommended to study English in their home\\ncountries until they are ready to re apply What is\\nthe AIT English Entry Test AIT EET The Language Center\\nLC offers a minute in house test of English proficiency\\ncalled the AIT English Entry Test EET The score is\\nbased on a nine point scale similar to the IELTS\\ntest The Writing score which is the most important at\\nAIT is based on an essay The test result will\\nbe e mailed within days The LC will report the\\ntest result to the AIT Admissions only if the score\\n', metadata={'source': './docs/ait_paragraphs.pdf', 'file_path': './docs/ait_paragraphs.pdf', 'page': 24, 'total_pages': 33, 'format': 'PDF 1.4', 'title': '(anonymous)', 'author': '(anonymous)', 'subject': '(unspecified)', 'keywords': '', 'creator': '(unspecified)', 'producer': 'ReportLab PDF Library - www.reportlab.com', 'creationDate': \"D:20240320025934-07'00'\", 'modDate': \"D:20240320025934-07'00'\", 'trapped': ''}),\n",
       " Document(page_content='is satisfactory for provisional admission If applicants fail to obtain\\nthe minimum score requirements for admission they may take the\\ntest again There is no limit to the number of\\ntimes they can take the test but we encourage applicants\\nto study and improve their English before retesting The test\\nis conducted several times per week on campus Alternatively the\\ntest can be taken online through our online EET test\\napplication For more information or English test application please see\\nhere Where can I find the information about English classes\\nat AIT You can find the information on English classes\\nand other services offered by the Language Center here Are\\nthere any Thai classes offered Yes the Language Center offers\\nThai courses What is the AIT writing test AWT All\\nnew students whohave either not submitted a test score for\\nadmission e g those who submitted a certificate of English\\nmedium of instruction or have taken the online EET or\\nhave taken the EET outside of Thailand where the testing\\nwas not conducted by AIT Language Center or the Schools\\nof AIT must take the AIT Writing Placement Test AWPT\\nto validate their writing scores and to be able to\\nregister for classes The AWPT consists of two tasks The\\nfirst is a description of data words and the second\\nis an essay words These two tasks are scored on\\na nine point scale The criteria for scoring are similar\\nto those for the IELTS academic writing test For more\\ninformation please see here An AWPT score of or IELTS\\nwriting score of or LC approved equivalent or satisfactory completion\\nof EL Pass should be attained by the end of\\nthe second semester This will be a condition for registration\\nfor dissertation thesis research study project Students with AWPT score\\nbelow are required to take mandatory English Language EL courses\\nat the AIT Language Center until they meet the English\\nlanguage requirements Students who wish to attend English courses outside\\nAIT in lieu of the EL courses need to seek\\nprior approval of the Language Center before the start of\\nthe program and need to provide proof of attendance I\\nobtained a degree at a university at which English is\\nthe sole medium of instruction Can I submit a certificate\\nin place of English Test score You can submit the\\nCertificate of English Medium of Instruction issued by the Registry\\nOffice of your previous institute We do reserve the rights\\nto accept or reject such certificate based on our extensive\\nlist of recognized certificates of English medium of instruction Alternatively\\nyou can take AIT EET test on campus or online\\nHowever should you wish to be considered for full scholarships\\nyou must submit an English test score that is not\\nolder than years Please check acceptable test results here My\\nEnglish test is old is it still valid The validity\\nof English tests is two years Please check acceptable test\\nresults here Is TOEFL ITP acceptable to AIT NO it\\nis not We only accept Paper Test CBT and IBT\\nFees and How much is the application processing fee The\\nprocessing fee is Baht or US How should I pay\\n', metadata={'source': './docs/ait_paragraphs.pdf', 'file_path': './docs/ait_paragraphs.pdf', 'page': 25, 'total_pages': 33, 'format': 'PDF 1.4', 'title': '(anonymous)', 'author': '(anonymous)', 'subject': '(unspecified)', 'keywords': '', 'creator': '(unspecified)', 'producer': 'ReportLab PDF Library - www.reportlab.com', 'creationDate': \"D:20240320025934-07'00'\", 'modDate': \"D:20240320025934-07'00'\", 'trapped': ''}),\n",
       " Document(page_content='the application processing fee It must be sent together with\\nyour application Payment must be received in order for your\\napplication to be processed After the submission of your online\\napplication there is option to pay the processing fees through\\nonline credit card The other mode of payment is also\\navailable Please see below in number Can I pay the\\nonline application processing fee using credit cards Processing Fees US\\nor Baht can be paid online using credit card Visa\\nMasterCard and American Express before submitting the application online or\\nthrough your friends in Thailand Fees can also be paid\\nthrough western union in this regard please write to email\\nprotected for further details If you are not able to\\npay online or western union payment can be made through\\nbank transfer to AIT bank account Once the payment is\\ndone through bank transfer please send the bank transaction detail\\nto email protected to process your application internally Bank account\\ndetails Bank Name Siam Commercial Bank Thailand Bank account name\\nAsian Institute of Technology Bank current account number or please\\nuse this account for those transfer from oversea Bank savings\\naccount number please use this account for those transfer inside\\nThailand Bank SWIFT Code SICOTHBK Bank address Moo Klong Nueng\\nKlong Luang Pathumthani ThailandIf you would like transfer through Western\\nUnion Payment Please send an email to Admissions office email\\nprotected to request the details Can the application processing fee\\nto be waived No it cannot After submitting the application\\nthe applicant must pay the application processing fee How much\\ndoes it cost to study at AIT The different program\\nof study costs are in this site https ait ac\\nth tuition and fees If I apply and accepted this\\nintake can I defer to the next intake with the\\nsame condition Yes you can defer your entry until the\\nnext academic semester However the financial conditions of the admission\\nmay change depending on the competitive assessment for the next\\nsemester You are also required to pay the application processing\\nfee to reactivate your admission Financial Do you offer financial\\nsupport How do I apply Yes we have various forms\\nof financial packages available to highly qualified applicants from funds\\ngranted by donors as well as from AIT itself Please\\ncheck this site Are there scholarship grants available for international\\nstudents to apply for AIT offers a limited number of\\nfinancial awards in the form of scholarships for the Master\\ns and Doctoral programs on a highly competitive basis to\\napplicants who have been evaluated as outstandingly qualified for admission\\nand who can show proof of financial need during their\\nstudy at AIT For details please go to Scholarships Can\\nFlexible Master or Doctoral Program receive full financial support No\\nour target audience for the flexible programs are the working\\npeople who are not able to join full time students\\non campus Offering of AIT Scholarship for flexible programs are\\non a very competitive basis When is the school intake\\nand the application deadline The AIT academic year consists of\\ntwo semesters January and August for School of Engineering and\\nTechnology SET and School of Environment Resources and Development SERD\\n', metadata={'source': './docs/ait_paragraphs.pdf', 'file_path': './docs/ait_paragraphs.pdf', 'page': 26, 'total_pages': 33, 'format': 'PDF 1.4', 'title': '(anonymous)', 'author': '(anonymous)', 'subject': '(unspecified)', 'keywords': '', 'creator': '(unspecified)', 'producer': 'ReportLab PDF Library - www.reportlab.com', 'creationDate': \"D:20240320025934-07'00'\", 'modDate': \"D:20240320025934-07'00'\", 'trapped': ''}),\n",
       " Document(page_content='For School of Management the academic year consists of five\\nterms January March June August and October For more details\\non specific application deadlines please visit the Admission Deadline If\\nI apply and accepted this intake can I defer to\\nthe next intake with the same condition Yes you can\\ndefer your entry until the next academic semester However the\\nfinancial conditions of the admission may change depending on the\\ncompetitive assessment for the next semester You will have to\\npay the application processing fee to reactivate your admission I\\nam in final year of bachelor degree can I apply\\nfor the Master Degree Yes please be sure that you\\nwill graduate before the classes begin and the original documents\\nmust be shown to the Admissions Office before enrolment Services\\nand Is the pick up service from the airport free\\nof charge Pick up service from the airport is free\\nof charge if arrival is during the arrival period mentioned\\nin the offer letter The pick up service is provided\\nby the Student Union If arrival is not within the\\nset arrival period you have to arrange your own transportation\\nfrom the airport to AIT For details please refer to\\nGuidelines Should I take a computer with me AIT provides\\nlimited computer facility for each school where computing access is\\navailable You are encouraged to have your own personal computer\\nAll classrooms dormitory rooms are provided with link to the\\nAIT local area network LAN and Wifi I am not\\na Thai citizen If accepted will you assist my visa\\narrangement Yes AIT will assist in arranging for your Educational\\nED Visa through the AIT Government Relations Unit including extension\\nof your ED Visa till you complete your study Do\\nstudents have Medical Insurance Yes AIT has a standard insurance\\nplan which covers certain costs of hospitalization outpatient treatment dental\\nand personal accident but not major medical expenses For details\\nof the insurance please check student welfare website Do you\\nhave campus accommodation Yes AIT offers on campus accommodation on\\na limited basis In case on campus accommodation is not\\navailable you may choose to live off campus AIT Accommodation\\noffice will provide assistance for off campus accommodation Email email\\nprotected Tel Website https ait ac th student housing Am\\nI allowed to move out before the end of the\\nhousing contract Yes as long as all financial obligation has\\nbeen settled Am I allowed to stay outside the campus\\nwithout Institute assistance Yes Once enrolled and usually with second\\nsemester onwards you may request a written permission from the\\nSchool Dean and the Director of Office of Student Affairs\\nto live off campus on your own Do I have\\nto buy my own bed sheets and pillowcases Most dormitory\\nunits provide linen pillow bed sheets and towel You may\\nlike to bring or buy extra upon arrival from nearby\\nshopping areas However students who will avail of married accommodation\\nand Category units are required to provide their own linens\\nAre there any convenience stores on campus There are several\\nconvenience stores on campus where you can get most basic\\nsupplies for daily living such as Eleven but quality and\\n', metadata={'source': './docs/ait_paragraphs.pdf', 'file_path': './docs/ait_paragraphs.pdf', 'page': 27, 'total_pages': 33, 'format': 'PDF 1.4', 'title': '(anonymous)', 'author': '(anonymous)', 'subject': '(unspecified)', 'keywords': '', 'creator': '(unspecified)', 'producer': 'ReportLab PDF Library - www.reportlab.com', 'creationDate': \"D:20240320025934-07'00'\", 'modDate': \"D:20240320025934-07'00'\", 'trapped': ''}),\n",
       " Document(page_content='choice may be limited and prices higher than in local\\nmarkets Additional shops are located in the AIT Arcade specifically\\na bakery a shop that sells snacks and toiletries clothing\\nand souvenier stores a book and stationery shop salon shops\\na tailor and an IT shop https ait ac th\\nfacilities What kind of food AIT serves The AIT Cafeteria\\non campus serves Asian Halal Western Thai and Vegetarian dishes\\nIt is open from a m to p m where\\nyou can find Minimum cost meals worth Baht At SU\\nSnack food vendors sells Halal dishes It is open from\\na m to p m There are also a number\\nof coffee shops in different academic buildings which are open\\nduring office hours from a m to p m and\\nKiosk shops available for specific types of food around the\\ncampus which are open till p m We have also\\nconvenience store Eleven which are open hours a day Students\\nhowever should not always expect to be able to obtain\\nfood of exactly the kind they are used to Am\\nI allowed to work in Thailand Under the Royal Thai\\nGovernment regulations foreign students on a student visa are not\\nallowed to take up employment and work in Thailand However\\nAIT students are allowed to work as a Student Assistantship\\non the AIT campus as Research Teaching Administrative Assistance I\\nam married Can I bring my family during my study\\nat AIT Students who are married and wish to bring\\ntheir families to AIT need to submit a copy of\\npassport and a copy of marriage certificate or evidence to\\nsupport the marital status These documents must be attested by\\nyour Ministry of Foreign Affair and then by Local Thai\\nEmbassy at your home country Please be advised that no\\nspouse or family member is allowed on campus accommodation until\\navailability of married unit has been confirmed in writing by\\nthe student Accommodation Officer Please also note that under the\\nThai Immigration Laws no dependents of Non Thai AIT students\\nare permitted to work outside AIT under a dependent Category\\nO visa For further inquiries on student accommodation please contact\\nthe Student Accommodation Unit at e mail email protected Tel\\nWhat sport facilities you have on campus AIT offers many\\nopportunities for on campus sports activities including golf swimming basketball\\nbadminton tennis table tennis volleyball football cricket hockey running squash\\nand petanque A multi purpose field more popularly known as\\nthe cricket field squash courts tennis courts badminton courts a\\nbasketball court and running track of several km lengths are\\nall located on the AIT campus I heard AIT has\\na golf course is that true Yes that s true\\nAIT has a beautiful holes golf course on hectares land\\nwith large old trees lakes and with a diverse wildlife\\nCampus How to reach AIT for a campus visit For\\ndetails please click Visit Student How can I contact the\\nStudent Union For details please visit http www su ait\\nac thContact email protected Tel I wish to reapply what\\nis the procedure In order to reactivate your application you\\nhave to pay again an application processing fee and send\\n', metadata={'source': './docs/ait_paragraphs.pdf', 'file_path': './docs/ait_paragraphs.pdf', 'page': 28, 'total_pages': 33, 'format': 'PDF 1.4', 'title': '(anonymous)', 'author': '(anonymous)', 'subject': '(unspecified)', 'keywords': '', 'creator': '(unspecified)', 'producer': 'ReportLab PDF Library - www.reportlab.com', 'creationDate': \"D:20240320025934-07'00'\", 'modDate': \"D:20240320025934-07'00'\", 'trapped': ''}),\n",
       " Document(page_content='the receipt to email protected No need to submit a\\nnew application Can I reapply and change the school and\\nacademic program Yes you can Please email email protected for\\nthe change of academic program and also attached receipt of\\nyour payment for the application feeUpon Enrolment Academic Does the\\nInstitute apply the class attendance system All students are expected\\nto attend their classes as per the semester class schedules\\nWill I get a certificate or transcript at the end\\nof the semester Yes Certification or transcript will be provided\\nupon request Do you accept transfer of credits For certain\\njoint degrees and exchange programs the Institute allows credit transfer\\nbut not grade transfer as stipulated in the agreements signed\\nwith partner universities Do I have to wear uniform Students\\nare not required to wear any uniform Please note that\\nthe climate in Thailand is generally hot humid Light clothing\\nis recommended However students are expected to wear semi formal\\ncasual attire in class Apply Admissions Eligibility Financial aid Tuition\\nand fees Student housing Apply online Frequently Asked QuestionsSubscribe to\\nour newsletter Subscribe to our newsletterFollow us on social media\\nP O Box Moo Km Paholyothin Highway Klong Luang Pathum\\nThani Thailand AITFacts and figuresRankingsLeadershipPeople Meet our faculty Meet our\\nstaff LocationCentersAcademicsAcademic calendarAcademic ProgramsStudy optionsStudent\\nopportunitiesSchoolsApply to AITAdmissionsFinancial aidTuition and\\nfeesStudent housingApply onlineResearchResearch CentersResearch ThemesResearch\\nProjectsResearch PublicationsCampus lifeHousingDiningHealth WellnessCultural\\ndiversityAthleticsCareer\\ndevelopmentFacilitiesVirtual tour Partners News Events Key thematic areas Work at\\nAIT Branding Contact A Z Units Asian Institute of Technology\\nAll Rights Reserved Designed by OutsourcifyPrivacy PolicyTerms and conditionsWe use\\ncookies on our website to give you the most relevant\\nexperience by remembering your preferences and repeat visits By clicking\\nAccept All you consent to the use of ALL the\\ncookies However you may visit Cookie Settings to provide a\\ncontrolled consent Cookie SettingsAccept AllManage consent Close Privacy OverviewThis website\\nuses cookies to improve your experience while you navigate through\\nthe website Out of these the cookies that are categorized\\nas necessary are stored on your browser as they are\\nessential for the working of basic functionalities of the website\\nWe also use third party cookies that help us analyze\\nand understand how you use this website These cookies will\\nbe stored in your browser only with your consent You\\nalso have the option to opt out of these cookies\\nBut opting out of some of these cookies may affect\\nyour browsing experience Necessary Necessary Always Enabled Necessary cookies are\\nabsolutely essential for the website to function properly These cookies\\nensure basic functionalities and security features of the website anonymously\\nCookieDurationDescriptioncookielawinfo checkbox monthsThis cookie is set by GDPR Cookie Consent\\nplugin The cookie is used to store the user consent\\nfor the cookies in the category Analytics cookielawinfo checkbox monthsThe\\ncookie is set by GDPR cookie consent to record the\\nuser consent for the cookies in the category Functional cookielawinfo\\ncheckbox monthsThis cookie is set by GDPR Cookie Consent plugin\\nThe cookies is used to store the user consent for\\n', metadata={'source': './docs/ait_paragraphs.pdf', 'file_path': './docs/ait_paragraphs.pdf', 'page': 29, 'total_pages': 33, 'format': 'PDF 1.4', 'title': '(anonymous)', 'author': '(anonymous)', 'subject': '(unspecified)', 'keywords': '', 'creator': '(unspecified)', 'producer': 'ReportLab PDF Library - www.reportlab.com', 'creationDate': \"D:20240320025934-07'00'\", 'modDate': \"D:20240320025934-07'00'\", 'trapped': ''}),\n",
       " Document(page_content='the cookies in the category Necessary cookielawinfo checkbox monthsThis cookie\\nis set by GDPR Cookie Consent plugin The cookie is\\nused to store the user consent for the cookies in\\nthe category Other cookielawinfo checkbox monthsThis cookie is set by\\nGDPR Cookie Consent plugin The cookie is used to store\\nthe user consent for the cookies in the category Performance\\nmonthsThe cookie is set by the GDPR Cookie Consent plugin\\nand is used to store whether or not user has\\nconsented to the use of cookies It does not store\\nany personal data Functional Functional Functional cookies help to perform\\ncertain functionalities like sharing the content of the website on\\nsocial media platforms collect feedbacks and other third party features\\nPerformance Performance Performance cookies are used to understand and analyze\\nthe key performance indexes of the website which helps in\\ndelivering a better user experience for the visitors Analytics Analytics\\nAnalytical cookies are used to understand how visitors interact with\\nthe website These cookies help provide information on metrics the\\nnumber of visitors bounce rate traffic source etc Advertisement Advertisement\\nAdvertisement cookies are used to provide visitors with relevant ads\\nand marketing campaigns These cookies track visitors across websites and\\ncollect information to provide customized ads Others Others Other uncategorized\\ncookies are those that are being analyzed and have not\\nbeen classified into a category as yet SAVE ACCEPT Location\\nAsian Institute of Technology BOI STP Intranet Students Contact Giving\\nAlumni About About AIT Facts and figures Rankings Leadership People\\nMeet our faculty Meet our staff Location Academics Academic calendar\\nAcademic Programs Study options Student opportunities Schools Apply Admissions Eligibility\\nFinancial aid Tuition and fees Student housing Apply online Frequently\\nAsked Questions Research Research Overview Research Themes Research Publications Research\\nProjects Know Our Researcher Centers SEARCH MENU Schools Campus life\\nHousing Dining Health and Wellness Cultural diversity Athletics Career development\\nFacilities AIT Conference Center Virtual tour Key thematic areas Climate\\nchange Smart Communities Food Energy Water Infrastructure Technology Policy Society\\nSustainability Partners News Events Work at AIT Emergency contacts Covid\\nmanagement About About AIT Facts and figures Rankings LeadershipPeople Meet\\nour facultyMeet our staff LocationAcademics Academic calendar Academic Programs Study\\noptions Student opportunities SchoolsApply Admissions Eligibility Financial aid Tuition and\\nfees Student housing Apply online Frequently Asked QuestionsResearch Research Overview\\nResearch Themes Research Publications Research Projects Know Our Researcher Centers\\nSchoolsCampus life HousingDiningHealth and WellnessCultural diversityAthleticsCareer\\ndevelopmentFacilitiesAIT Conference CenterVirtual tourKey\\nthematic areas Climate changeSmart CommunitiesFood Energy WaterInfrastructureTechnology Policy\\nSociety Sustainability\\nPartners News Events Work at AIT BOI STP Intranet Students\\nContact Giving Alumni Emergency contacts Covid management Home About\\nLocationLocationWelcome\\nto AIT Explore our world class facilities and take in\\nthe beautiful scenery and architecture on AIT campus In this\\nsection About AIT Facts and figures Rankings LeadershipPeopleMeet our facultyMeet\\nour staff LocationVisit AITTour our libraries athletics facilities residences and\\nyour future faculty The campus green is a peaceful retreat\\nfrom our bustling city it s the perfect place to\\nhang out and study Campus Map Download printable campus map\\n', metadata={'source': './docs/ait_paragraphs.pdf', 'file_path': './docs/ait_paragraphs.pdf', 'page': 30, 'total_pages': 33, 'format': 'PDF 1.4', 'title': '(anonymous)', 'author': '(anonymous)', 'subject': '(unspecified)', 'keywords': '', 'creator': '(unspecified)', 'producer': 'ReportLab PDF Library - www.reportlab.com', 'creationDate': \"D:20240320025934-07'00'\", 'modDate': \"D:20240320025934-07'00'\", 'trapped': ''}),\n",
       " Document(page_content='PDF Street map Get direction About AIT Facts and figures\\nRankings LeadershipPeopleMeet our facultyMeet our staff LocationSubscribe to our newsletter\\nSubscribe to our newsletterFollow us on social media P O\\nBox Moo Km Paholyothin Highway Klong Luang Pathum Thani Thailand\\nAITFacts and figuresRankingsLeadershipPeople Meet our faculty Meet our staff\\nLocationCentersAcademicsAcademic\\ncalendarAcademic ProgramsStudy optionsStudent opportunitiesSchoolsApply to\\nAITAdmissionsFinancial aidTuition and feesStudent housingApply\\nonlineResearchResearch CentersResearch ThemesResearch ProjectsResearch PublicationsCampus\\nlifeHousingDiningHealth WellnessCultural diversityAthleticsCareer developmentFacilitiesVirtual tour\\nPartners News Events Key thematic areas Work at AIT Branding\\nContact A Z Units Asian Institute of Technology All Rights\\nReserved Designed by OutsourcifyPrivacy PolicyTerms and conditionsWe use cookies on\\nour website to give you the most relevant experience by\\nremembering your preferences and repeat visits By clicking Accept All\\nyou consent to the use of ALL the cookies However\\nyou may visit Cookie Settings to provide a controlled consent\\nCookie SettingsAccept AllManage consent Close Privacy OverviewThis website uses cookies\\nto improve your experience while you navigate through the website\\nOut of these the cookies that are categorized as necessary\\nare stored on your browser as they are essential for\\nthe working of basic functionalities of the website We also\\nuse third party cookies that help us analyze and understand\\nhow you use this website These cookies will be stored\\nin your browser only with your consent You also have\\nthe option to opt out of these cookies But opting\\nout of some of these cookies may affect your browsing\\nexperience Necessary Necessary Always Enabled Necessary cookies are absolutely essential\\nfor the website to function properly These cookies ensure basic\\nfunctionalities and security features of the website anonymously\\nCookieDurationDescriptioncookielawinfo checkbox\\nmonthsThis cookie is set by GDPR Cookie Consent plugin The\\ncookie is used to store the user consent for the\\ncookies in the category Analytics cookielawinfo checkbox monthsThe cookie is\\nset by GDPR cookie consent to record the user consent\\nfor the cookies in the category Functional cookielawinfo checkbox monthsThis\\ncookie is set by GDPR Cookie Consent plugin The cookies\\nis used to store the user consent for the cookies\\nin the category Necessary cookielawinfo checkbox monthsThis cookie is set\\nby GDPR Cookie Consent plugin The cookie is used to\\nstore the user consent for the cookies in the category\\nOther cookielawinfo checkbox monthsThis cookie is set by GDPR Cookie\\nConsent plugin The cookie is used to store the user\\nconsent for the cookies in the category Performance monthsThe cookie\\nis set by the GDPR Cookie Consent plugin and is\\nused to store whether or not user has consented to\\nthe use of cookies It does not store any personal\\ndata Functional Functional Functional cookies help to perform certain functionalities\\nlike sharing the content of the website on social media\\nplatforms collect feedbacks and other third party features Performance Performance\\nPerformance cookies are used to understand and analyze the key\\nperformance indexes of the website which helps in delivering a\\nbetter user experience for the visitors Analytics Analytics Analytical cookies\\n', metadata={'source': './docs/ait_paragraphs.pdf', 'file_path': './docs/ait_paragraphs.pdf', 'page': 31, 'total_pages': 33, 'format': 'PDF 1.4', 'title': '(anonymous)', 'author': '(anonymous)', 'subject': '(unspecified)', 'keywords': '', 'creator': '(unspecified)', 'producer': 'ReportLab PDF Library - www.reportlab.com', 'creationDate': \"D:20240320025934-07'00'\", 'modDate': \"D:20240320025934-07'00'\", 'trapped': ''}),\n",
       " Document(page_content='are used to understand how visitors interact with the website\\nThese cookies help provide information on metrics the number of\\nvisitors bounce rate traffic source etc Advertisement Advertisement Advertisement cookies\\nare used to provide visitors with relevant ads and marketing\\ncampaigns These cookies track visitors across websites and collect information\\nto provide customized ads Others Others Other uncategorized cookies are\\nthose that are being analyzed and have not been classified\\ninto a category as yet SAVE ACCEPT\\n', metadata={'source': './docs/ait_paragraphs.pdf', 'file_path': './docs/ait_paragraphs.pdf', 'page': 32, 'total_pages': 33, 'format': 'PDF 1.4', 'title': '(anonymous)', 'author': '(anonymous)', 'subject': '(unspecified)', 'keywords': '', 'creator': '(unspecified)', 'producer': 'ReportLab PDF Library - www.reportlab.com', 'creationDate': \"D:20240320025934-07'00'\", 'modDate': \"D:20240320025934-07'00'\", 'trapped': ''})]"
      ]
     },
     "execution_count": 7,
     "metadata": {},
     "output_type": "execute_result"
    }
   ],
   "source": [
    "documents"
   ]
  },
  {
   "cell_type": "code",
   "execution_count": 8,
   "metadata": {},
   "outputs": [
    {
     "data": {
      "text/plain": [
       "33"
      ]
     },
     "execution_count": 8,
     "metadata": {},
     "output_type": "execute_result"
    }
   ],
   "source": [
    "len(documents) # sample the documents by page"
   ]
  },
  {
   "cell_type": "code",
   "execution_count": 9,
   "metadata": {},
   "outputs": [
    {
     "data": {
      "text/plain": [
       "Document(page_content='cookies are absolutely essential for the website to function properly\\nThese cookies ensure basic functionalities and security features of the\\nwebsite anonymously CookieDurationDescriptioncookielawinfo checkbox monthsThis cookie is set by\\nGDPR\\nCookie Consent plugin The cookie is used to store the\\nuser consent for the cookies in the category Analytics cookielawinfo\\ncheckbox monthsThe cookie is set by GDPR cookie consent to\\nrecord the user consent for the cookies in the category\\nFunctional cookielawinfo checkbox monthsThis cookie is set by GDPR Cookie\\nConsent plugin The cookies is used to store the user\\nconsent for the cookies in the category Necessary cookielawinfo checkbox\\nmonthsThis cookie is set by GDPR Cookie Consent plugin The\\ncookie is used to store the user consent for the\\ncookies in the category Other cookielawinfo checkbox monthsThis cookie is\\nset by GDPR Cookie Consent plugin The cookie is used\\nto store the user consent for the cookies in the\\ncategory Performance monthsThe cookie is set by the GDPR Cookie\\nConsent plugin and is used to store whether or not\\nuser has consented to the use of cookies It does\\nnot store any personal data Functional Functional Functional cookies help\\nto perform certain functionalities like sharing the content of the\\nwebsite on social media platforms collect feedbacks and other third\\nparty features Performance Performance Performance cookies are used to understand\\nand analyze the key performance indexes of the website which\\nhelps in delivering a better user experience for the visitors\\nAnalytics Analytics Analytical cookies are used to understand how visitors\\ninteract with the website These cookies help provide information on\\nmetrics the number of visitors bounce rate traffic source etc\\nAdvertisement Advertisement Advertisement cookies are used to provide visitors with\\nrelevant ads and marketing campaigns These cookies track visitors across\\nwebsites and collect information to provide customized ads Others Others\\nOther uncategorized cookies are those that are being analyzed and\\nhave not been classified into a category as yet SAVE\\nACCEPT Academic Programs Asian Institute of Technology BOI STP Intranet\\nStudents Contact Giving Alumni About About AIT Facts and figures\\nRankings Leadership People Meet our faculty Meet our staff Location\\nAcademics Academic calendar Academic Programs Study options Student opportunities Schools\\nApply Admissions Eligibility Financial aid Tuition and fees Student housing\\nApply online Frequently Asked Questions Research Research Overview Research Themes\\nResearch Publications Research Projects Know Our Researcher Centers SEARCH MENU\\nSchools Campus life Housing Dining Health and Wellness Cultural diversity\\nAthletics Career development Facilities AIT Conference Center Virtual tour Key\\nthematic areas Climate change Smart Communities Food Energy Water Infrastructure\\nTechnology Policy Society Sustainability Partners News Events Work at AIT\\nEmergency contacts Covid management About About AIT Facts and figures\\nRankings LeadershipPeople Meet our facultyMeet our staff LocationAcademics Academic calendar\\nAcademic Programs Study options Student opportunities SchoolsApply Admissions Eligibility Financial\\naid Tuition and fees Student housing Apply online Frequently Asked\\nQuestionsResearch Research Overview Research Themes Research Publications Research Projects\\nKnow\\nOur Researcher Centers SchoolsCampus life HousingDiningHealth and WellnessCultural\\ndiversityAthleticsCareer developmentFacilitiesAIT\\n', metadata={'source': './docs/ait_paragraphs.pdf', 'file_path': './docs/ait_paragraphs.pdf', 'page': 1, 'total_pages': 33, 'format': 'PDF 1.4', 'title': '(anonymous)', 'author': '(anonymous)', 'subject': '(unspecified)', 'keywords': '', 'creator': '(unspecified)', 'producer': 'ReportLab PDF Library - www.reportlab.com', 'creationDate': \"D:20240320025934-07'00'\", 'modDate': \"D:20240320025934-07'00'\", 'trapped': ''})"
      ]
     },
     "execution_count": 9,
     "metadata": {},
     "output_type": "execute_result"
    }
   ],
   "source": [
    "documents[1]"
   ]
  },
  {
   "attachments": {},
   "cell_type": "markdown",
   "metadata": {},
   "source": [
    "### 2.2 Document Transformers\n",
    "\n",
    "This text splitter is the recommended one for generic text. It is parameterized by a list of characters. It tries to split on them in order until the chunks are small enough"
   ]
  },
  {
   "cell_type": "code",
   "execution_count": 10,
   "metadata": {},
   "outputs": [],
   "source": [
    "from langchain.text_splitter import RecursiveCharacterTextSplitter\n",
    "\n",
    "text_splitter = RecursiveCharacterTextSplitter(\n",
    "    chunk_size = 700,\n",
    "    chunk_overlap = 100\n",
    ")\n",
    "\n",
    "doc = text_splitter.split_documents(documents)"
   ]
  },
  {
   "cell_type": "code",
   "execution_count": 11,
   "metadata": {},
   "outputs": [
    {
     "data": {
      "text/plain": [
       "Document(page_content='development Facilities AIT Conference Center Virtual tour Key thematic areas\\nClimate change Smart Communities Food Energy Water Infrastructure Technology Policy\\nSociety Sustainability Partners News Events Work at AIT Emergency contacts\\nCovid management About About AIT Facts and figures Rankings LeadershipPeople\\nMeet our facultyMeet our staff LocationAcademics Academic calendar Academic Programs\\nStudy options Student opportunities SchoolsApply Admissions Eligibility Financial aid Tuition\\nand fees Student housing Apply online Frequently Asked QuestionsResearch Research\\nOverview Research Themes Research Publications Research Projects Know Our Researcher', metadata={'source': './docs/ait_paragraphs.pdf', 'file_path': './docs/ait_paragraphs.pdf', 'page': 0, 'total_pages': 33, 'format': 'PDF 1.4', 'title': '(anonymous)', 'author': '(anonymous)', 'subject': '(unspecified)', 'keywords': '', 'creator': '(unspecified)', 'producer': 'ReportLab PDF Library - www.reportlab.com', 'creationDate': \"D:20240320025934-07'00'\", 'modDate': \"D:20240320025934-07'00'\", 'trapped': ''})"
      ]
     },
     "execution_count": 11,
     "metadata": {},
     "output_type": "execute_result"
    }
   ],
   "source": [
    "doc[1]"
   ]
  },
  {
   "cell_type": "code",
   "execution_count": 12,
   "metadata": {},
   "outputs": [
    {
     "data": {
      "text/plain": [
       "201"
      ]
     },
     "execution_count": 12,
     "metadata": {},
     "output_type": "execute_result"
    }
   ],
   "source": [
    "len(doc)"
   ]
  },
  {
   "attachments": {},
   "cell_type": "markdown",
   "metadata": {},
   "source": [
    "### 2.3 Text Embedding Models\n",
    "Embeddings create a vector representation of a piece of text. This is useful because it means we can think about text in the vector space, and do things like semantic search where we look for pieces of text that are most similar in the vector space.\n",
    "\n",
    "*Note* Instructor Model : [Huggingface](gingface.co/hkunlp/instructor-base) | [Paper](https://arxiv.org/abs/2212.09741)"
   ]
  },
  {
   "cell_type": "code",
   "execution_count": 13,
   "metadata": {},
   "outputs": [],
   "source": [
    "# !pip install --upgrade langchain langchain_community"
   ]
  },
  {
   "cell_type": "code",
   "execution_count": 14,
   "metadata": {},
   "outputs": [
    {
     "name": "stderr",
     "output_type": "stream",
     "text": [
      "/home/koala/.local/lib/python3.11/site-packages/InstructorEmbedding/instructor.py:7: TqdmWarning: IProgress not found. Please update jupyter and ipywidgets. See https://ipywidgets.readthedocs.io/en/stable/user_install.html\n",
      "  from tqdm.autonotebook import trange\n"
     ]
    },
    {
     "name": "stdout",
     "output_type": "stream",
     "text": [
      "load INSTRUCTOR_Transformer\n",
      "max_seq_length  512\n"
     ]
    }
   ],
   "source": [
    "import torch\n",
    "from langchain.embeddings import HuggingFaceInstructEmbeddings\n",
    "\n",
    "model_name = 'hkunlp/instructor-base'\n",
    "\n",
    "embedding_model = HuggingFaceInstructEmbeddings(\n",
    "    model_name = model_name,\n",
    "    model_kwargs = {\"device\" : device}\n",
    ")"
   ]
  },
  {
   "attachments": {},
   "cell_type": "markdown",
   "metadata": {},
   "source": [
    "### 2.4 Vector Stores\n",
    "\n",
    "One of the most common ways to store and search over unstructured data is to embed it and store the resulting embedding vectors, and then at query time to embed the unstructured query and retrieve the embedding vectors that are 'most similar' to the embedded query. A vector store takes care of storing embedded data and performing vector search for you."
   ]
  },
  {
   "cell_type": "code",
   "execution_count": 15,
   "metadata": {},
   "outputs": [],
   "source": [
    "#locate vectorstore\n",
    "vector_path = './vector-store'\n",
    "if not os.path.exists(vector_path):\n",
    "    os.makedirs(vector_path)\n",
    "    print('create path done')"
   ]
  },
  {
   "cell_type": "code",
   "execution_count": 16,
   "metadata": {},
   "outputs": [],
   "source": [
    "#save vector locally\n",
    "from langchain.vectorstores import FAISS\n",
    "\n",
    "vectordb = FAISS.from_documents(\n",
    "    documents = doc,\n",
    "    embedding = embedding_model\n",
    ")\n",
    "\n",
    "db_file_name = 'nlp_stanford'\n",
    "\n",
    "vectordb.save_local(\n",
    "    folder_path = os.path.join(vector_path, db_file_name),\n",
    "    index_name = 'nlp' #default index\n",
    ")"
   ]
  },
  {
   "attachments": {},
   "cell_type": "markdown",
   "metadata": {},
   "source": [
    "### 2.5 retrievers\n",
    "A retriever is an interface that returns documents given an unstructured query. It is more general than a vector store. A retriever does not need to be able to store documents, only to return (or retrieve) them. Vector stores can be used as the backbone of a retriever, but there are other types of retrievers as well."
   ]
  },
  {
   "cell_type": "code",
   "execution_count": 17,
   "metadata": {},
   "outputs": [],
   "source": [
    "#calling vector from local\n",
    "vector_path = './vector-store'\n",
    "db_file_name = 'nlp_stanford'\n",
    "\n",
    "from langchain.vectorstores import FAISS\n",
    "\n",
    "vectordb = FAISS.load_local(\n",
    "    folder_path = os.path.join(vector_path, db_file_name),\n",
    "    embeddings = embedding_model,\n",
    "    index_name = 'nlp', #default index\n",
    ")   "
   ]
  },
  {
   "cell_type": "code",
   "execution_count": 18,
   "metadata": {},
   "outputs": [],
   "source": [
    "#ready to use\n",
    "retriever = vectordb.as_retriever()"
   ]
  },
  {
   "cell_type": "code",
   "execution_count": 19,
   "metadata": {},
   "outputs": [
    {
     "data": {
      "text/plain": [
       "[Document(page_content='and WellnessCultural diversityAthleticsCareer developmentFacilitiesAIT Conference CenterVirtual\\ntourKey thematic areas Climate\\nchangeSmart CommunitiesFood Energy WaterInfrastructureTechnology Policy Society Sustainability\\nPartners News Events\\nWork at AIT BOI STP Intranet Students Contact Giving Alumni\\nEmergency contacts Covid management Home AboutAbout AITAIT is an international\\nEnglish speaking postgraduate institution focusing on engineering environment and management\\nstudies In this section About AIT Facts and figures Rankings\\nLeadershipPeopleMeet our facultyMeet our staff LocationWelcome to AITThe Asian Institute', metadata={'source': './docs/ait_paragraphs.pdf', 'file_path': './docs/ait_paragraphs.pdf', 'page': 4, 'total_pages': 33, 'format': 'PDF 1.4', 'title': '(anonymous)', 'author': '(anonymous)', 'subject': '(unspecified)', 'keywords': '', 'creator': '(unspecified)', 'producer': 'ReportLab PDF Library - www.reportlab.com', 'creationDate': \"D:20240320025934-07'00'\", 'modDate': \"D:20240320025934-07'00'\", 'trapped': ''}),\n",
       " Document(page_content='LeadershipPeopleMeet our facultyMeet our staff LocationWelcome to AITThe Asian Institute\\nof Technology AIT is an international English speaking postgraduate institution\\nfocusing on engineering environment and management studies AIT s rigorous\\nacademic research and experiential outreach programs prepare graduates for professional\\nsuccess and leadership roles in Asia and beyond Founded in\\nAIT offers the opportunity to study at an institution in\\nAsia which possesses a global reputation Going forward AIT will\\nbe stressing its global connections injection of innovation into research\\nand teaching its relevance to industry and its nurturing of', metadata={'source': './docs/ait_paragraphs.pdf', 'file_path': './docs/ait_paragraphs.pdf', 'page': 4, 'total_pages': 33, 'format': 'PDF 1.4', 'title': '(anonymous)', 'author': '(anonymous)', 'subject': '(unspecified)', 'keywords': '', 'creator': '(unspecified)', 'producer': 'ReportLab PDF Library - www.reportlab.com', 'creationDate': \"D:20240320025934-07'00'\", 'modDate': \"D:20240320025934-07'00'\", 'trapped': ''}),\n",
       " Document(page_content='AIT Emergency contacts Covid management About About AIT Facts and\\nfigures Rankings LeadershipPeople Meet our facultyMeet our staff LocationAcademics Academic\\ncalendar Academic Programs Study options Student opportunities SchoolsApply Admissions Eligibility\\nFinancial aid Tuition and fees Student housing Apply online Frequently\\nAsked QuestionsResearch Research Overview Research Themes Research Publications Research\\nProjects\\nKnow Our Researcher Centers SchoolsCampus life HousingDiningHealth and WellnessCultural\\ndiversityAthleticsCareer\\ndevelopmentFacilitiesAIT Conference CenterVirtual tourKey thematic areas Climate changeSmart\\nCommunitiesFood Energy', metadata={'source': './docs/ait_paragraphs.pdf', 'file_path': './docs/ait_paragraphs.pdf', 'page': 16, 'total_pages': 33, 'format': 'PDF 1.4', 'title': '(anonymous)', 'author': '(anonymous)', 'subject': '(unspecified)', 'keywords': '', 'creator': '(unspecified)', 'producer': 'ReportLab PDF Library - www.reportlab.com', 'creationDate': \"D:20240320025934-07'00'\", 'modDate': \"D:20240320025934-07'00'\", 'trapped': ''}),\n",
       " Document(page_content='About AIT Facts and figures Rankings LeadershipPeople Meet our facultyMeet\\nour staff LocationAcademics Academic calendar Academic Programs Study options Student\\nopportunities SchoolsApply Admissions Eligibility Financial aid Tuition and fees Student\\nhousing Apply online Frequently Asked QuestionsResearch Research Overview Research Themes\\nResearch Publications Research Projects Know Our Researcher Centers SchoolsCampus life\\nHousingDiningHealth and WellnessCultural diversityAthleticsCareer developmentFacilitiesAIT\\nConference CenterVirtual tourKey thematic areas\\nClimate changeSmart CommunitiesFood Energy WaterInfrastructureTechnology Policy Society\\nSustainability Partners News', metadata={'source': './docs/ait_paragraphs.pdf', 'file_path': './docs/ait_paragraphs.pdf', 'page': 7, 'total_pages': 33, 'format': 'PDF 1.4', 'title': '(anonymous)', 'author': '(anonymous)', 'subject': '(unspecified)', 'keywords': '', 'creator': '(unspecified)', 'producer': 'ReportLab PDF Library - www.reportlab.com', 'creationDate': \"D:20240320025934-07'00'\", 'modDate': \"D:20240320025934-07'00'\", 'trapped': ''})]"
      ]
     },
     "execution_count": 19,
     "metadata": {},
     "output_type": "execute_result"
    }
   ],
   "source": [
    "retriever.get_relevant_documents(\"What is AIT\")"
   ]
  },
  {
   "cell_type": "code",
   "execution_count": 20,
   "metadata": {},
   "outputs": [
    {
     "data": {
      "text/plain": [
       "[Document(page_content='LocationCentersAcademicsAcademic calendarAcademic ProgramsStudy optionsStudent\\nopportunitiesSchoolsApply to AITAdmissionsFinancial aidTuition and feesStudent\\nhousingApply onlineResearchResearch CentersResearch ThemesResearch ProjectsResearch\\nPublicationsCampus lifeHousingDiningHealth WellnessCultural diversityAthleticsCareer\\ndevelopmentFacilitiesVirtual\\ntour Partners News Events Key thematic areas Work at AIT\\nBranding Contact A Z Units Asian Institute of Technology All\\nRights Reserved Designed by OutsourcifyPrivacy PolicyTerms and conditionsWe use cookies\\non our website to give you the most relevant experience\\nby remembering your preferences and repeat visits By clicking Accept', metadata={'source': './docs/ait_paragraphs.pdf', 'file_path': './docs/ait_paragraphs.pdf', 'page': 21, 'total_pages': 33, 'format': 'PDF 1.4', 'title': '(anonymous)', 'author': '(anonymous)', 'subject': '(unspecified)', 'keywords': '', 'creator': '(unspecified)', 'producer': 'ReportLab PDF Library - www.reportlab.com', 'creationDate': \"D:20240320025934-07'00'\", 'modDate': \"D:20240320025934-07'00'\", 'trapped': ''}),\n",
       " Document(page_content='AIT Solutions AIT Extension Regional Resource Centre for Asia and\\nthe Pacific RRC AP Global Water and Sanitation Center GWSC\\nCIFAL International Training Centre for Authorities and Leaders Academic Centers\\nAIT Language Center Yunus Center AIT AIT Center Vietnam School\\nOutreach Centers SMARTSCenter Bangchak Initiative and Innovation Center Centre for\\nAquaculture Development Aqua Centre Thailand Accident Research Center TARC AIT\\nCenter of Excellence in Nanotechnology Ostrom Center Asian Center for\\nSoil Improvement Geosynthetic ACSIG Asian Center for Transportation Studies ACTS\\nREGIONAL NETWORK OFFICE FOR URBAN SAFETY Center for Health and', metadata={'source': './docs/ait_paragraphs.pdf', 'file_path': './docs/ait_paragraphs.pdf', 'page': 12, 'total_pages': 33, 'format': 'PDF 1.4', 'title': '(anonymous)', 'author': '(anonymous)', 'subject': '(unspecified)', 'keywords': '', 'creator': '(unspecified)', 'producer': 'ReportLab PDF Library - www.reportlab.com', 'creationDate': \"D:20240320025934-07'00'\", 'modDate': \"D:20240320025934-07'00'\", 'trapped': ''}),\n",
       " Document(page_content='all located on the AIT campus I heard AIT has\\na golf course is that true Yes that s true\\nAIT has a beautiful holes golf course on hectares land\\nwith large old trees lakes and with a diverse wildlife\\nCampus How to reach AIT for a campus visit For\\ndetails please click Visit Student How can I contact the\\nStudent Union For details please visit http www su ait\\nac thContact email protected Tel I wish to reapply what\\nis the procedure In order to reactivate your application you\\nhave to pay again an application processing fee and send', metadata={'source': './docs/ait_paragraphs.pdf', 'file_path': './docs/ait_paragraphs.pdf', 'page': 28, 'total_pages': 33, 'format': 'PDF 1.4', 'title': '(anonymous)', 'author': '(anonymous)', 'subject': '(unspecified)', 'keywords': '', 'creator': '(unspecified)', 'producer': 'ReportLab PDF Library - www.reportlab.com', 'creationDate': \"D:20240320025934-07'00'\", 'modDate': \"D:20240320025934-07'00'\", 'trapped': ''}),\n",
       " Document(page_content='developmentFacilitiesAIT Conference CenterVirtual\\ntourKey thematic areas Climate changeSmart CommunitiesFood Energy\\nWaterInfrastructureTechnology Policy Society\\nSustainability Partners News Events Work at AIT BOI STP Intranet\\nStudents Contact Giving Alumni Emergency contacts Covid management Home About\\nCentersCentersBesides education and research outreach forms the third pillar of\\nAIT s core activities Research Centers AIT Entrepreneurship Center EC\\nArtificial intelligence AI Center Geoinformatics Center GIC Belt Road Research\\nCenter BRRC Internet Education and Research Laboratory intERLab Outreach Centers\\nAIT Solutions AIT Extension Regional Resource Centre for Asia and', metadata={'source': './docs/ait_paragraphs.pdf', 'file_path': './docs/ait_paragraphs.pdf', 'page': 12, 'total_pages': 33, 'format': 'PDF 1.4', 'title': '(anonymous)', 'author': '(anonymous)', 'subject': '(unspecified)', 'keywords': '', 'creator': '(unspecified)', 'producer': 'ReportLab PDF Library - www.reportlab.com', 'creationDate': \"D:20240320025934-07'00'\", 'modDate': \"D:20240320025934-07'00'\", 'trapped': ''})]"
      ]
     },
     "execution_count": 20,
     "metadata": {},
     "output_type": "execute_result"
    }
   ],
   "source": [
    "retriever.get_relevant_documents(\"Where AIT located\")"
   ]
  },
  {
   "attachments": {},
   "cell_type": "markdown",
   "metadata": {},
   "source": [
    "## 3. Memory\n",
    "\n",
    "One of the core utility classes underpinning most (if not all) memory modules is the ChatMessageHistory class. This is a super lightweight wrapper that provides convenience methods for saving HumanMessages, AIMessages, and then fetching them all.\n",
    "\n",
    "You may want to use this class directly if you are managing memory outside of a chain.\n"
   ]
  },
  {
   "cell_type": "code",
   "execution_count": 21,
   "metadata": {},
   "outputs": [
    {
     "data": {
      "text/plain": [
       "ChatMessageHistory(messages=[])"
      ]
     },
     "execution_count": 21,
     "metadata": {},
     "output_type": "execute_result"
    }
   ],
   "source": [
    "from langchain.memory import ChatMessageHistory\n",
    "\n",
    "history = ChatMessageHistory()\n",
    "history"
   ]
  },
  {
   "cell_type": "code",
   "execution_count": 22,
   "metadata": {},
   "outputs": [],
   "source": [
    "history.add_user_message('hi')\n",
    "history.add_ai_message('Whats up?')\n",
    "history.add_user_message('How are you')\n",
    "history.add_ai_message('I\\'m quite good. How about you?')"
   ]
  },
  {
   "cell_type": "code",
   "execution_count": 23,
   "metadata": {},
   "outputs": [
    {
     "data": {
      "text/plain": [
       "ChatMessageHistory(messages=[HumanMessage(content='hi'), AIMessage(content='Whats up?'), HumanMessage(content='How are you'), AIMessage(content=\"I'm quite good. How about you?\")])"
      ]
     },
     "execution_count": 23,
     "metadata": {},
     "output_type": "execute_result"
    }
   ],
   "source": [
    "history"
   ]
  },
  {
   "attachments": {},
   "cell_type": "markdown",
   "metadata": {},
   "source": [
    "### 3.1 Memory types\n",
    "\n",
    "There are many different types of memory. Each has their own parameters, their own return types, and is useful in different scenarios. \n",
    "- Converstaion Buffer\n",
    "- Converstaion Buffer Window"
   ]
  },
  {
   "attachments": {},
   "cell_type": "markdown",
   "metadata": {},
   "source": [
    "What variables get returned from memory\n",
    "\n",
    "Before going into the chain, various variables are read from memory. These have specific names which need to align with the variables the chain expects. You can see what these variables are by calling memory.load_memory_variables({}). Note that the empty dictionary that we pass in is just a placeholder for real variables. If the memory type you are using is dependent upon the input variables, you may need to pass some in."
   ]
  },
  {
   "attachments": {},
   "cell_type": "markdown",
   "metadata": {},
   "source": [
    "In this case, you can see that load_memory_variables returns a single key, history. This means that your chain (and likely your prompt) should expect an input named history. You can usually control this variable through parameters on the memory class. For example, if you want the memory variables to be returned in the key chat_history you can do:"
   ]
  },
  {
   "attachments": {},
   "cell_type": "markdown",
   "metadata": {},
   "source": [
    "#### Converstaion Buffer\n",
    "This memory allows for storing messages and then extracts the messages in a variable."
   ]
  },
  {
   "cell_type": "code",
   "execution_count": 24,
   "metadata": {},
   "outputs": [],
   "source": [
    "# !python3 --version"
   ]
  },
  {
   "cell_type": "code",
   "execution_count": 25,
   "metadata": {},
   "outputs": [],
   "source": [
    "# !pip show langchain_community"
   ]
  },
  {
   "cell_type": "code",
   "execution_count": 26,
   "metadata": {},
   "outputs": [
    {
     "data": {
      "text/plain": [
       "{'history': \"Human: hi\\nAI: What's up?\\nHuman: How are you?\\nAI: I'm quite good. How about you?\"}"
      ]
     },
     "execution_count": 26,
     "metadata": {},
     "output_type": "execute_result"
    }
   ],
   "source": [
    "from langchain.memory import ConversationBufferMemory\n",
    "\n",
    "memory = ConversationBufferMemory()\n",
    "memory.save_context({'input':'hi'}, {'output':'What\\'s up?'})\n",
    "memory.save_context({\"input\":'How are you?'},{'output': 'I\\'m quite good. How about you?'})\n",
    "memory.load_memory_variables({})"
   ]
  },
  {
   "cell_type": "code",
   "execution_count": 27,
   "metadata": {},
   "outputs": [
    {
     "data": {
      "text/plain": [
       "{'history': [HumanMessage(content='hi'),\n",
       "  AIMessage(content=\"What's up?\"),\n",
       "  HumanMessage(content='How are you?'),\n",
       "  AIMessage(content=\"I'm quite good. How about you?\")]}"
      ]
     },
     "execution_count": 27,
     "metadata": {},
     "output_type": "execute_result"
    }
   ],
   "source": [
    "from langchain.memory import ConversationBufferMemory\n",
    "\n",
    "memory = ConversationBufferMemory(return_messages = True)\n",
    "memory.save_context({'input':'hi'}, {'output':'What\\'s up?'})\n",
    "memory.save_context({\"input\":'How are you?'},{'output': 'I\\'m quite good. How about you?'})\n",
    "memory.load_memory_variables({})"
   ]
  },
  {
   "attachments": {},
   "cell_type": "markdown",
   "metadata": {},
   "source": [
    "#### Conversation Buffer Window\n",
    "- it keeps a list of the interactions of the conversation over time. \n",
    "- it only uses the last K interactions. \n",
    "- it can be useful for keeping a sliding window of the most recent interactions, so the buffer does not get too large."
   ]
  },
  {
   "cell_type": "code",
   "execution_count": 28,
   "metadata": {},
   "outputs": [
    {
     "data": {
      "text/plain": [
       "{'history': \"Human: How are you?\\nAI: I'm quite good. How about you?\"}"
      ]
     },
     "execution_count": 28,
     "metadata": {},
     "output_type": "execute_result"
    }
   ],
   "source": [
    "from langchain.memory import ConversationBufferWindowMemory\n",
    "\n",
    "memory = ConversationBufferWindowMemory(k=1)\n",
    "memory.save_context({'input':'hi'}, {'output':'What\\'s up?'})\n",
    "memory.save_context({\"input\":'How are you?'},{'output': 'I\\'m quite good. How about you?'})\n",
    "memory.load_memory_variables({})"
   ]
  },
  {
   "attachments": {},
   "cell_type": "markdown",
   "metadata": {},
   "source": [
    "## 4. Chain\n",
    "\n",
    "Using an LLM in isolation is fine for simple applications, but more complex applications require chaining LLMs - either with each other or with other components.\n",
    "\n",
    "An `LLMChain` is a simple chain that adds some functionality around language models.\n",
    "- it consists of a `PromptTemplate` and a `LM` (either an LLM or chat model).\n",
    "- it formats the prompt template using the input key values provided (and also memory key values, if available), \n",
    "- it passes the formatted string to LLM and returns the LLM output.\n",
    "\n",
    "Note : [Download Fastchat Model Here](https://huggingface.co/lmsys/fastchat-t5-3b-v1.0)"
   ]
  },
  {
   "cell_type": "code",
   "execution_count": 29,
   "metadata": {},
   "outputs": [
    {
     "name": "stdout",
     "output_type": "stream",
     "text": [
      "/home/koala/github/NLP/NLP-A7/models\n",
      "fatal: destination path 'fastchat-t5-3b-v1.0' already exists and is not an empty directory.\n"
     ]
    },
    {
     "name": "stderr",
     "output_type": "stream",
     "text": [
      "/home/koala/.local/lib/python3.11/site-packages/IPython/core/magics/osm.py:417: UserWarning: using dhist requires you to install the `pickleshare` library.\n",
      "  self.shell.db['dhist'] = compress_dhist(dhist)[-100:]\n",
      "huggingface/tokenizers: The current process just got forked, after parallelism has already been used. Disabling parallelism to avoid deadlocks...\n",
      "To disable this warning, you can either:\n",
      "\t- Avoid using `tokenizers` before the fork if possible\n",
      "\t- Explicitly set the environment variable TOKENIZERS_PARALLELISM=(true | false)\n"
     ]
    }
   ],
   "source": [
    "# %cd ./models\n",
    "# !git clone https://huggingface.co/lmsys/fastchat-t5-3b-v1.0"
   ]
  },
  {
   "cell_type": "code",
   "execution_count": 30,
   "metadata": {},
   "outputs": [],
   "source": [
    "# !pip install bitsandbytes==0.41.2"
   ]
  },
  {
   "cell_type": "code",
   "execution_count": 31,
   "metadata": {},
   "outputs": [],
   "source": [
    "# !pip install bitsandbytes"
   ]
  },
  {
   "cell_type": "code",
   "execution_count": 32,
   "metadata": {},
   "outputs": [
    {
     "name": "stderr",
     "output_type": "stream",
     "text": [
      "2024-03-20 17:38:18.325502: I tensorflow/core/util/port.cc:113] oneDNN custom operations are on. You may see slightly different numerical results due to floating-point round-off errors from different computation orders. To turn them off, set the environment variable `TF_ENABLE_ONEDNN_OPTS=0`.\n",
      "2024-03-20 17:38:18.700471: I tensorflow/core/platform/cpu_feature_guard.cc:210] This TensorFlow binary is optimized to use available CPU instructions in performance-critical operations.\n",
      "To enable the following instructions: AVX2 AVX_VNNI FMA, in other operations, rebuild TensorFlow with the appropriate compiler flags.\n",
      "2024-03-20 17:38:19.481295: W tensorflow/compiler/tf2tensorrt/utils/py_utils.cc:38] TF-TRT Warning: Could not find TensorRT\n",
      "You are using the default legacy behaviour of the <class 'transformers.models.t5.tokenization_t5.T5Tokenizer'>. This is expected, and simply means that the `legacy` (previous) behavior will be used so nothing changes for you. If you want to use the new behaviour, set `legacy=False`. This should only be set if you understand what it means, and thouroughly read the reason why this was added as explained in https://github.com/huggingface/transformers/pull/24565\n",
      "Special tokens have been added in the vocabulary, make sure the associated word embeddings are fine-tuned or trained.\n",
      "Special tokens have been added in the vocabulary, make sure the associated word embeddings are fine-tuned or trained.\n"
     ]
    }
   ],
   "source": [
    "from transformers import AutoTokenizer, pipeline, AutoModelForSeq2SeqLM\n",
    "from transformers import BitsAndBytesConfig\n",
    "from langchain import HuggingFacePipeline\n",
    "import torch\n",
    "\n",
    "model_id = './fastchat-t5-3b-v1.0/'\n",
    "\n",
    "tokenizer = AutoTokenizer.from_pretrained(\n",
    "    model_id)\n",
    "\n",
    "tokenizer.pad_token_id = tokenizer.eos_token_id\n",
    "\n",
    "bitsandbyte_config = BitsAndBytesConfig(\n",
    "    load_in_4bit = True,\n",
    "    bnb_4bit_quant_type = \"nf4\",\n",
    "    bnb_4bit_compute_dtype = torch.float16,\n",
    "    bnb_4bit_use_double_quant = True\n",
    ")\n",
    "\n",
    "model = AutoModelForSeq2SeqLM.from_pretrained(\n",
    "    model_id,\n",
    "    quantization_config = bitsandbyte_config, #caution Nvidia\n",
    "    device_map=\"cuda:0\",\n",
    "    load_in_8bit = True\n",
    ")\n",
    "\n",
    "#   load_in_8bit_fp32_cpu_offload=True,  # Adding this line\n",
    "#     device_map={\"cuda:0\": \"cpu\"}  # Adding this line\n",
    "\n",
    "pipe = pipeline(\n",
    "    task=\"text2text-generation\",\n",
    "    model=model,\n",
    "    tokenizer=tokenizer,\n",
    "    max_new_tokens = 256,\n",
    "    model_kwargs = {\n",
    "        \"temperature\" : 0,\n",
    "        \"repetition_penalty\": 1.5\n",
    "    }\n",
    ")\n",
    "\n",
    "llm = HuggingFacePipeline(pipeline = pipe)"
   ]
  },
  {
   "attachments": {},
   "cell_type": "markdown",
   "metadata": {},
   "source": [
    "### [Class ConversationalRetrievalChain](https://api.python.langchain.com/en/latest/_modules/langchain/chains/conversational_retrieval/base.html#ConversationalRetrievalChain)\n",
    "\n",
    "- `retriever` : Retriever to use to fetch documents.\n",
    "\n",
    "- `combine_docs_chain` : The chain used to combine any retrieved documents.\n",
    "\n",
    "- `question_generator`: The chain used to generate a new question for the sake of retrieval. This chain will take in the current question (with variable question) and any chat history (with variable chat_history) and will produce a new standalone question to be used later on.\n",
    "\n",
    "- `return_source_documents` : Return the retrieved source documents as part of the final result.\n",
    "\n",
    "- `get_chat_history` : An optional function to get a string of the chat history. If None is provided, will use a default.\n",
    "\n",
    "- `return_generated_question` : Return the generated question as part of the final result.\n",
    "\n",
    "- `response_if_no_docs_found` : If specified, the chain will return a fixed response if no docs are found for the question.\n"
   ]
  },
  {
   "attachments": {},
   "cell_type": "markdown",
   "metadata": {},
   "source": [
    "`question_generator`"
   ]
  },
  {
   "cell_type": "code",
   "execution_count": 33,
   "metadata": {},
   "outputs": [],
   "source": [
    "from langchain.chains import LLMChain\n",
    "from langchain.chains.conversational_retrieval.prompts import CONDENSE_QUESTION_PROMPT\n",
    "from langchain.memory import ConversationBufferWindowMemory\n",
    "from langchain.chains.question_answering import load_qa_chain\n",
    "from langchain.chains import ConversationalRetrievalChain"
   ]
  },
  {
   "cell_type": "code",
   "execution_count": 34,
   "metadata": {},
   "outputs": [
    {
     "data": {
      "text/plain": [
       "PromptTemplate(input_variables=['chat_history', 'question'], template='Given the following conversation and a follow up question, rephrase the follow up question to be a standalone question, in its original language.\\n\\nChat History:\\n{chat_history}\\nFollow Up Input: {question}\\nStandalone question:')"
      ]
     },
     "execution_count": 34,
     "metadata": {},
     "output_type": "execute_result"
    }
   ],
   "source": [
    "CONDENSE_QUESTION_PROMPT"
   ]
  },
  {
   "cell_type": "code",
   "execution_count": 35,
   "metadata": {},
   "outputs": [],
   "source": [
    "question_generator = LLMChain(\n",
    "    llm = llm,\n",
    "    prompt = CONDENSE_QUESTION_PROMPT,\n",
    "    verbose = True\n",
    ")"
   ]
  },
  {
   "cell_type": "code",
   "execution_count": 36,
   "metadata": {},
   "outputs": [
    {
     "name": "stderr",
     "output_type": "stream",
     "text": [
      "/home/koala/.local/lib/python3.11/site-packages/langchain_core/_api/deprecation.py:117: LangChainDeprecationWarning: The function `__call__` was deprecated in LangChain 0.1.0 and will be removed in 0.2.0. Use invoke instead.\n",
      "  warn_deprecated(\n"
     ]
    },
    {
     "name": "stdout",
     "output_type": "stream",
     "text": [
      "\n",
      "\n",
      "\u001b[1m> Entering new LLMChain chain...\u001b[0m\n",
      "Prompt after formatting:\n",
      "\u001b[32;1m\u001b[1;3mGiven the following conversation and a follow up question, rephrase the follow up question to be a standalone question, in its original language.\n",
      "\n",
      "Chat History:\n",
      "Human:What is AIT\n",
      "AI:\n",
      "Human:Which courses AIT offered\n",
      "AI:\n",
      "Follow Up Input: Summarize the answer\n",
      "Standalone question:\u001b[0m\n",
      "\n",
      "\u001b[1m> Finished chain.\u001b[0m\n"
     ]
    },
    {
     "data": {
      "text/plain": [
       "{'chat_history': 'Human:What is AIT\\nAI:\\nHuman:Which courses AIT offered\\nAI:',\n",
       " 'question': 'Summarize the answer',\n",
       " 'text': '<pad> What  are  the  courses  offered  by  AIT?\\n'}"
      ]
     },
     "execution_count": 36,
     "metadata": {},
     "output_type": "execute_result"
    }
   ],
   "source": [
    "query = 'Summarize the answer'\n",
    "chat_history = \"Human:What is AIT\\nAI:\\nHuman:Which courses AIT offered\\nAI:\"\n",
    "\n",
    "question_generator({'chat_history' : chat_history, \"question\" : query})"
   ]
  },
  {
   "attachments": {},
   "cell_type": "markdown",
   "metadata": {},
   "source": [
    "`combine_docs_chain`"
   ]
  },
  {
   "cell_type": "code",
   "execution_count": 37,
   "metadata": {},
   "outputs": [
    {
     "data": {
      "text/plain": [
       "StuffDocumentsChain(verbose=True, llm_chain=LLMChain(verbose=True, prompt=PromptTemplate(input_variables=['context', 'question'], template=\"Welcome to the AIT Information Chatbot! I'm here to assist you with any questions you have about the Asian Institute of Technology (AIT).\\n    Whether you want to know about our academic programs, admissions process, campus facilities, or any other aspect of AIT, feel free to ask!\\n    {context}\\n    Question: {question}\\n    Answer:\"), llm=HuggingFacePipeline(pipeline=<transformers.pipelines.text2text_generation.Text2TextGenerationPipeline object at 0x7950ca3c43d0>)), document_variable_name='context')"
      ]
     },
     "execution_count": 37,
     "metadata": {},
     "output_type": "execute_result"
    }
   ],
   "source": [
    "doc_chain = load_qa_chain(\n",
    "    llm = llm,\n",
    "    chain_type = 'stuff',\n",
    "    prompt = AIT_PROMPT,\n",
    "    verbose = True\n",
    ")\n",
    "doc_chain"
   ]
  },
  {
   "cell_type": "code",
   "execution_count": 38,
   "metadata": {
    "scrolled": true
   },
   "outputs": [
    {
     "name": "stdout",
     "output_type": "stream",
     "text": [
      "\n",
      "\n",
      "\u001b[1m> Entering new StuffDocumentsChain chain...\u001b[0m\n",
      "\n",
      "\n",
      "\u001b[1m> Entering new LLMChain chain...\u001b[0m\n",
      "Prompt after formatting:\n",
      "\u001b[32;1m\u001b[1;3mWelcome to the AIT Information Chatbot! I'm here to assist you with any questions you have about the Asian Institute of Technology (AIT).\n",
      "    Whether you want to know about our academic programs, admissions process, campus facilities, or any other aspect of AIT, feel free to ask!\n",
      "    All Rights Reserved Designed by OutsourcifyPrivacy PolicyTerms and conditionsWe use\n",
      "cookies on our website to give you the most relevant\n",
      "experience by remembering your preferences and repeat visits By clicking\n",
      "Accept All you consent to the use of ALL the\n",
      "cookies However you may visit Cookie Settings to provide a\n",
      "controlled consent Cookie SettingsAccept AllManage consent Close Privacy OverviewThis website\n",
      "uses cookies to improve your experience while you navigate through\n",
      "the website Out of these the cookies that are categorized\n",
      "as necessary are stored on your browser as they are\n",
      "essential for the working of basic functionalities of the website\n",
      "\n",
      "All Rights Reserved Designed by OutsourcifyPrivacy PolicyTerms and conditionsWe use\n",
      "cookies on our website to give you the most relevant\n",
      "experience by remembering your preferences and repeat visits By clicking\n",
      "Accept All you consent to the use of ALL the\n",
      "cookies However you may visit Cookie Settings to provide a\n",
      "controlled consent Cookie SettingsAccept AllManage consent Close Privacy OverviewThis website\n",
      "uses cookies to improve your experience while you navigate through\n",
      "the website Out of these the cookies that are categorized\n",
      "as necessary are stored on your browser as they are\n",
      "essential for the working of basic functionalities of the website\n",
      "\n",
      "Contact A Z Units Asian Institute of Technology All Rights\n",
      "Reserved Designed by OutsourcifyPrivacy PolicyTerms and conditionsWe use cookies on\n",
      "our website to give you the most relevant experience by\n",
      "remembering your preferences and repeat visits By clicking Accept All\n",
      "you consent to the use of ALL the cookies However\n",
      "you may visit Cookie Settings to provide a controlled consent\n",
      "Cookie SettingsAccept AllManage consent Close Privacy OverviewThis website uses cookies\n",
      "to improve your experience while you navigate through the website\n",
      "Out of these the cookies that are categorized as necessary\n",
      "are stored on your browser as they are essential for\n",
      "\n",
      "on academic quality in terms of courses and other aspects\n",
      "of operationA leader in professional development programsA hub for the\n",
      "implementation of regional and transnational research projects and a research\n",
      "facility for academic professionals A nexus for networking with other\n",
      "academic and research institutions in the region and the worldA\n",
      "model international citizenA collaborator and partner of national postgraduate institutionsA\n",
      "financially viable self sustaining institution able to draw support from\n",
      "donors the private sector and individuals with good governance and\n",
      "strong leadershipA strong partner to its alumni who are principal\n",
      "    Question: who is dr chaklam\n",
      "    Answer:\u001b[0m\n",
      "\n",
      "\u001b[1m> Finished chain.\u001b[0m\n",
      "\n",
      "\u001b[1m> Finished chain.\u001b[0m\n"
     ]
    },
    {
     "data": {
      "text/plain": [
       "{'input_documents': [Document(page_content='All Rights Reserved Designed by OutsourcifyPrivacy PolicyTerms and conditionsWe use\\ncookies on our website to give you the most relevant\\nexperience by remembering your preferences and repeat visits By clicking\\nAccept All you consent to the use of ALL the\\ncookies However you may visit Cookie Settings to provide a\\ncontrolled consent Cookie SettingsAccept AllManage consent Close Privacy OverviewThis website\\nuses cookies to improve your experience while you navigate through\\nthe website Out of these the cookies that are categorized\\nas necessary are stored on your browser as they are\\nessential for the working of basic functionalities of the website', metadata={'source': './docs/ait_paragraphs.pdf', 'file_path': './docs/ait_paragraphs.pdf', 'page': 19, 'total_pages': 33, 'format': 'PDF 1.4', 'title': '(anonymous)', 'author': '(anonymous)', 'subject': '(unspecified)', 'keywords': '', 'creator': '(unspecified)', 'producer': 'ReportLab PDF Library - www.reportlab.com', 'creationDate': \"D:20240320025934-07'00'\", 'modDate': \"D:20240320025934-07'00'\", 'trapped': ''}),\n",
       "  Document(page_content='All Rights Reserved Designed by OutsourcifyPrivacy PolicyTerms and conditionsWe use\\ncookies on our website to give you the most relevant\\nexperience by remembering your preferences and repeat visits By clicking\\nAccept All you consent to the use of ALL the\\ncookies However you may visit Cookie Settings to provide a\\ncontrolled consent Cookie SettingsAccept AllManage consent Close Privacy OverviewThis website\\nuses cookies to improve your experience while you navigate through\\nthe website Out of these the cookies that are categorized\\nas necessary are stored on your browser as they are\\nessential for the working of basic functionalities of the website', metadata={'source': './docs/ait_paragraphs.pdf', 'file_path': './docs/ait_paragraphs.pdf', 'page': 29, 'total_pages': 33, 'format': 'PDF 1.4', 'title': '(anonymous)', 'author': '(anonymous)', 'subject': '(unspecified)', 'keywords': '', 'creator': '(unspecified)', 'producer': 'ReportLab PDF Library - www.reportlab.com', 'creationDate': \"D:20240320025934-07'00'\", 'modDate': \"D:20240320025934-07'00'\", 'trapped': ''}),\n",
       "  Document(page_content='Contact A Z Units Asian Institute of Technology All Rights\\nReserved Designed by OutsourcifyPrivacy PolicyTerms and conditionsWe use cookies on\\nour website to give you the most relevant experience by\\nremembering your preferences and repeat visits By clicking Accept All\\nyou consent to the use of ALL the cookies However\\nyou may visit Cookie Settings to provide a controlled consent\\nCookie SettingsAccept AllManage consent Close Privacy OverviewThis website uses cookies\\nto improve your experience while you navigate through the website\\nOut of these the cookies that are categorized as necessary\\nare stored on your browser as they are essential for', metadata={'source': './docs/ait_paragraphs.pdf', 'file_path': './docs/ait_paragraphs.pdf', 'page': 8, 'total_pages': 33, 'format': 'PDF 1.4', 'title': '(anonymous)', 'author': '(anonymous)', 'subject': '(unspecified)', 'keywords': '', 'creator': '(unspecified)', 'producer': 'ReportLab PDF Library - www.reportlab.com', 'creationDate': \"D:20240320025934-07'00'\", 'modDate': \"D:20240320025934-07'00'\", 'trapped': ''}),\n",
       "  Document(page_content='on academic quality in terms of courses and other aspects\\nof operationA leader in professional development programsA hub for the\\nimplementation of regional and transnational research projects and a research\\nfacility for academic professionals A nexus for networking with other\\nacademic and research institutions in the region and the worldA\\nmodel international citizenA collaborator and partner of national postgraduate institutionsA\\nfinancially viable self sustaining institution able to draw support from\\ndonors the private sector and individuals with good governance and\\nstrong leadershipA strong partner to its alumni who are principal', metadata={'source': './docs/ait_paragraphs.pdf', 'file_path': './docs/ait_paragraphs.pdf', 'page': 5, 'total_pages': 33, 'format': 'PDF 1.4', 'title': '(anonymous)', 'author': '(anonymous)', 'subject': '(unspecified)', 'keywords': '', 'creator': '(unspecified)', 'producer': 'ReportLab PDF Library - www.reportlab.com', 'creationDate': \"D:20240320025934-07'00'\", 'modDate': \"D:20240320025934-07'00'\", 'trapped': ''})],\n",
       " 'question': 'who is dr chaklam',\n",
       " 'output_text': '<pad>  Dr.  Chaklam  is  a  professor  at  the  Asian  Institute  of  Technology  (AIT).  He  is  a  well-known  scholar  and  researcher  in  the  field  of  computer  science  and  engineering.  He  has  published  several  research  papers  and  books  in  prestigious  journals  and  conferences.  Dr.  Chaklam  has  also  been  involved  in  various  academic  and  research  projects  at  AIT.\\n'}"
      ]
     },
     "execution_count": 38,
     "metadata": {},
     "output_type": "execute_result"
    }
   ],
   "source": [
    "query = \"who is dr chaklam\"\n",
    "input_document = retriever.get_relevant_documents(query)\n",
    "\n",
    "doc_chain({'input_documents':input_document, 'question':query})"
   ]
  },
  {
   "cell_type": "code",
   "execution_count": 39,
   "metadata": {},
   "outputs": [
    {
     "data": {
      "text/plain": [
       "ConversationalRetrievalChain(memory=ConversationBufferWindowMemory(output_key='answer', return_messages=True, memory_key='chat_history', k=3), verbose=True, combine_docs_chain=StuffDocumentsChain(verbose=True, llm_chain=LLMChain(verbose=True, prompt=PromptTemplate(input_variables=['context', 'question'], template=\"Welcome to the AIT Information Chatbot! I'm here to assist you with any questions you have about the Asian Institute of Technology (AIT).\\n    Whether you want to know about our academic programs, admissions process, campus facilities, or any other aspect of AIT, feel free to ask!\\n    {context}\\n    Question: {question}\\n    Answer:\"), llm=HuggingFacePipeline(pipeline=<transformers.pipelines.text2text_generation.Text2TextGenerationPipeline object at 0x7950ca3c43d0>)), document_variable_name='context'), question_generator=LLMChain(verbose=True, prompt=PromptTemplate(input_variables=['chat_history', 'question'], template='Given the following conversation and a follow up question, rephrase the follow up question to be a standalone question, in its original language.\\n\\nChat History:\\n{chat_history}\\nFollow Up Input: {question}\\nStandalone question:'), llm=HuggingFacePipeline(pipeline=<transformers.pipelines.text2text_generation.Text2TextGenerationPipeline object at 0x7950ca3c43d0>)), return_source_documents=True, get_chat_history=<function <lambda> at 0x7950c4fb32e0>, retriever=VectorStoreRetriever(tags=['FAISS', 'HuggingFaceInstructEmbeddings'], vectorstore=<langchain_community.vectorstores.faiss.FAISS object at 0x79522ecc1310>))"
      ]
     },
     "execution_count": 39,
     "metadata": {},
     "output_type": "execute_result"
    }
   ],
   "source": [
    "memory = ConversationBufferWindowMemory(\n",
    "    k=3, \n",
    "    memory_key = \"chat_history\",\n",
    "    return_messages = True,\n",
    "    output_key = 'answer'\n",
    ")\n",
    "\n",
    "chain = ConversationalRetrievalChain(\n",
    "    retriever=retriever,\n",
    "    question_generator=question_generator,\n",
    "    combine_docs_chain=doc_chain,\n",
    "    return_source_documents=True,\n",
    "    memory=memory,\n",
    "    verbose=True,\n",
    "    get_chat_history=lambda h : h\n",
    ")\n",
    "chain"
   ]
  },
  {
   "attachments": {},
   "cell_type": "markdown",
   "metadata": {},
   "source": [
    "## 5. Chatbot"
   ]
  },
  {
   "cell_type": "code",
   "execution_count": 40,
   "metadata": {},
   "outputs": [
    {
     "name": "stdout",
     "output_type": "stream",
     "text": [
      "\n",
      "\n",
      "\u001b[1m> Entering new ConversationalRetrievalChain chain...\u001b[0m\n",
      "\n",
      "\n",
      "\u001b[1m> Entering new StuffDocumentsChain chain...\u001b[0m\n",
      "\n",
      "\n",
      "\u001b[1m> Entering new LLMChain chain...\u001b[0m\n",
      "Prompt after formatting:\n",
      "\u001b[32;1m\u001b[1;3mWelcome to the AIT Information Chatbot! I'm here to assist you with any questions you have about the Asian Institute of Technology (AIT).\n",
      "    Whether you want to know about our academic programs, admissions process, campus facilities, or any other aspect of AIT, feel free to ask!\n",
      "    All Rights Reserved Designed by OutsourcifyPrivacy PolicyTerms and conditionsWe use\n",
      "cookies on our website to give you the most relevant\n",
      "experience by remembering your preferences and repeat visits By clicking\n",
      "Accept All you consent to the use of ALL the\n",
      "cookies However you may visit Cookie Settings to provide a\n",
      "controlled consent Cookie SettingsAccept AllManage consent Close Privacy OverviewThis website\n",
      "uses cookies to improve your experience while you navigate through\n",
      "the website Out of these the cookies that are categorized\n",
      "as necessary are stored on your browser as they are\n",
      "essential for the working of basic functionalities of the website\n",
      "\n",
      "All Rights Reserved Designed by OutsourcifyPrivacy PolicyTerms and conditionsWe use\n",
      "cookies on our website to give you the most relevant\n",
      "experience by remembering your preferences and repeat visits By clicking\n",
      "Accept All you consent to the use of ALL the\n",
      "cookies However you may visit Cookie Settings to provide a\n",
      "controlled consent Cookie SettingsAccept AllManage consent Close Privacy OverviewThis website\n",
      "uses cookies to improve your experience while you navigate through\n",
      "the website Out of these the cookies that are categorized\n",
      "as necessary are stored on your browser as they are\n",
      "essential for the working of basic functionalities of the website\n",
      "\n",
      "analyze and understand how you use this website These cookies\n",
      "will be stored in your browser only with your consent\n",
      "You also have the option to opt out of these\n",
      "cookies But opting out of some of these cookies may\n",
      "affect your browsing experience Necessary Necessary Always Enabled Necessary cookies\n",
      "are absolutely essential for the website to function properly These\n",
      "cookies ensure basic functionalities and security features of the website\n",
      "anonymously CookieDurationDescriptioncookielawinfo checkbox monthsThis cookie is set by GDPR\n",
      "Cookie\n",
      "Consent plugin The cookie is used to store the user\n",
      "consent for the cookies in the category Analytics cookielawinfo checkbox\n",
      "\n",
      "stored in your browser only with your consent You also\n",
      "have the option to opt out of these cookies But\n",
      "opting out of some of these cookies may affect your\n",
      "browsing experience Necessary Necessary Always Enabled Necessary cookies are absolutely\n",
      "essential for the website to function properly These cookies ensure\n",
      "basic functionalities and security features of the website anonymously\n",
      "CookieDurationDescriptioncookielawinfo\n",
      "checkbox monthsThis cookie is set by GDPR Cookie Consent plugin\n",
      "    Question: Who are you by the way?\n",
      "    Answer:\u001b[0m\n",
      "\n",
      "\u001b[1m> Finished chain.\u001b[0m\n",
      "\n",
      "\u001b[1m> Finished chain.\u001b[0m\n",
      "\n",
      "\u001b[1m> Finished chain.\u001b[0m\n"
     ]
    },
    {
     "data": {
      "text/plain": [
       "{'question': 'Who are you by the way?',\n",
       " 'chat_history': [],\n",
       " 'answer': \"<pad>  I'm  the  AIT  Information  Chatbot!  I'm  here  to  assist  you  with  any  questions  you  have  about  the  Asian  Institute  of  Technology  (AIT).  Whether  you  want  to  know  about  our  academic  programs,  admissions  process,  campus  facilities,  or  any  other  aspect  of  AIT,  feel  free  to  ask!\\n\",\n",
       " 'source_documents': [Document(page_content='All Rights Reserved Designed by OutsourcifyPrivacy PolicyTerms and conditionsWe use\\ncookies on our website to give you the most relevant\\nexperience by remembering your preferences and repeat visits By clicking\\nAccept All you consent to the use of ALL the\\ncookies However you may visit Cookie Settings to provide a\\ncontrolled consent Cookie SettingsAccept AllManage consent Close Privacy OverviewThis website\\nuses cookies to improve your experience while you navigate through\\nthe website Out of these the cookies that are categorized\\nas necessary are stored on your browser as they are\\nessential for the working of basic functionalities of the website', metadata={'source': './docs/ait_paragraphs.pdf', 'file_path': './docs/ait_paragraphs.pdf', 'page': 19, 'total_pages': 33, 'format': 'PDF 1.4', 'title': '(anonymous)', 'author': '(anonymous)', 'subject': '(unspecified)', 'keywords': '', 'creator': '(unspecified)', 'producer': 'ReportLab PDF Library - www.reportlab.com', 'creationDate': \"D:20240320025934-07'00'\", 'modDate': \"D:20240320025934-07'00'\", 'trapped': ''}),\n",
       "  Document(page_content='All Rights Reserved Designed by OutsourcifyPrivacy PolicyTerms and conditionsWe use\\ncookies on our website to give you the most relevant\\nexperience by remembering your preferences and repeat visits By clicking\\nAccept All you consent to the use of ALL the\\ncookies However you may visit Cookie Settings to provide a\\ncontrolled consent Cookie SettingsAccept AllManage consent Close Privacy OverviewThis website\\nuses cookies to improve your experience while you navigate through\\nthe website Out of these the cookies that are categorized\\nas necessary are stored on your browser as they are\\nessential for the working of basic functionalities of the website', metadata={'source': './docs/ait_paragraphs.pdf', 'file_path': './docs/ait_paragraphs.pdf', 'page': 29, 'total_pages': 33, 'format': 'PDF 1.4', 'title': '(anonymous)', 'author': '(anonymous)', 'subject': '(unspecified)', 'keywords': '', 'creator': '(unspecified)', 'producer': 'ReportLab PDF Library - www.reportlab.com', 'creationDate': \"D:20240320025934-07'00'\", 'modDate': \"D:20240320025934-07'00'\", 'trapped': ''}),\n",
       "  Document(page_content='analyze and understand how you use this website These cookies\\nwill be stored in your browser only with your consent\\nYou also have the option to opt out of these\\ncookies But opting out of some of these cookies may\\naffect your browsing experience Necessary Necessary Always Enabled Necessary cookies\\nare absolutely essential for the website to function properly These\\ncookies ensure basic functionalities and security features of the website\\nanonymously CookieDurationDescriptioncookielawinfo checkbox monthsThis cookie is set by GDPR\\nCookie\\nConsent plugin The cookie is used to store the user\\nconsent for the cookies in the category Analytics cookielawinfo checkbox', metadata={'source': './docs/ait_paragraphs.pdf', 'file_path': './docs/ait_paragraphs.pdf', 'page': 11, 'total_pages': 33, 'format': 'PDF 1.4', 'title': '(anonymous)', 'author': '(anonymous)', 'subject': '(unspecified)', 'keywords': '', 'creator': '(unspecified)', 'producer': 'ReportLab PDF Library - www.reportlab.com', 'creationDate': \"D:20240320025934-07'00'\", 'modDate': \"D:20240320025934-07'00'\", 'trapped': ''}),\n",
       "  Document(page_content='stored in your browser only with your consent You also\\nhave the option to opt out of these cookies But\\nopting out of some of these cookies may affect your\\nbrowsing experience Necessary Necessary Always Enabled Necessary cookies are absolutely\\nessential for the website to function properly These cookies ensure\\nbasic functionalities and security features of the website anonymously\\nCookieDurationDescriptioncookielawinfo\\ncheckbox monthsThis cookie is set by GDPR Cookie Consent plugin', metadata={'source': './docs/ait_paragraphs.pdf', 'file_path': './docs/ait_paragraphs.pdf', 'page': 21, 'total_pages': 33, 'format': 'PDF 1.4', 'title': '(anonymous)', 'author': '(anonymous)', 'subject': '(unspecified)', 'keywords': '', 'creator': '(unspecified)', 'producer': 'ReportLab PDF Library - www.reportlab.com', 'creationDate': \"D:20240320025934-07'00'\", 'modDate': \"D:20240320025934-07'00'\", 'trapped': ''})]}"
      ]
     },
     "execution_count": 40,
     "metadata": {},
     "output_type": "execute_result"
    }
   ],
   "source": [
    "prompt_question = \"Who are you by the way?\"\n",
    "answer = chain({\"question\":prompt_question})\n",
    "answer"
   ]
  },
  {
   "cell_type": "code",
   "execution_count": 41,
   "metadata": {},
   "outputs": [
    {
     "name": "stdout",
     "output_type": "stream",
     "text": [
      "\n",
      "\n",
      "\u001b[1m> Entering new ConversationalRetrievalChain chain...\u001b[0m\n",
      "\n",
      "\n",
      "\u001b[1m> Entering new LLMChain chain...\u001b[0m\n",
      "Prompt after formatting:\n",
      "\u001b[32;1m\u001b[1;3mGiven the following conversation and a follow up question, rephrase the follow up question to be a standalone question, in its original language.\n",
      "\n",
      "Chat History:\n",
      "[HumanMessage(content='Who are you by the way?'), AIMessage(content=\"<pad>  I'm  the  AIT  Information  Chatbot!  I'm  here  to  assist  you  with  any  questions  you  have  about  the  Asian  Institute  of  Technology  (AIT).  Whether  you  want  to  know  about  our  academic  programs,  admissions  process,  campus  facilities,  or  any  other  aspect  of  AIT,  feel  free  to  ask!\\n\")]\n",
      "Follow Up Input: What is AIT\n",
      "Standalone question:\u001b[0m\n",
      "\n",
      "\u001b[1m> Finished chain.\u001b[0m\n",
      "\n",
      "\n",
      "\u001b[1m> Entering new StuffDocumentsChain chain...\u001b[0m\n",
      "\n",
      "\n",
      "\u001b[1m> Entering new LLMChain chain...\u001b[0m\n",
      "Prompt after formatting:\n",
      "\u001b[32;1m\u001b[1;3mWelcome to the AIT Information Chatbot! I'm here to assist you with any questions you have about the Asian Institute of Technology (AIT).\n",
      "    Whether you want to know about our academic programs, admissions process, campus facilities, or any other aspect of AIT, feel free to ask!\n",
      "    Asian Institute of Technology All Rights Reserved Designed by OutsourcifyPrivacy\n",
      "PolicyTerms and conditionsWe use cookies on our website to give\n",
      "you the most relevant experience by remembering your preferences and\n",
      "repeat visits By clicking Accept All you consent to the\n",
      "use of ALL the cookies However you may visit Cookie\n",
      "Settings to provide a controlled consent Cookie SettingsAccept AllManage consent\n",
      "Close Privacy OverviewThis website uses cookies to improve your experience\n",
      "while you navigate through the website Out of these the\n",
      "cookies that are categorized as necessary are stored on your\n",
      "browser as they are essential for the working of basic\n",
      "\n",
      "Contact A Z Units Asian Institute of Technology All Rights\n",
      "Reserved Designed by OutsourcifyPrivacy PolicyTerms and conditionsWe use cookies on\n",
      "our website to give you the most relevant experience by\n",
      "remembering your preferences and repeat visits By clicking Accept All\n",
      "you consent to the use of ALL the cookies However\n",
      "you may visit Cookie Settings to provide a controlled consent\n",
      "Cookie SettingsAccept AllManage consent Close Privacy OverviewThis website uses cookies\n",
      "to improve your experience while you navigate through the website\n",
      "Out of these the cookies that are categorized as necessary\n",
      "are stored on your browser as they are essential for\n",
      "\n",
      "Z Units Asian Institute of Technology All Rights Reserved Designed\n",
      "by OutsourcifyPrivacy PolicyTerms and conditionsWe use cookies on our website\n",
      "to give you the most relevant experience by remembering your\n",
      "preferences and repeat visits By clicking Accept All you consent\n",
      "to the use of ALL the cookies However you may\n",
      "visit Cookie Settings to provide a controlled consent Cookie SettingsAccept\n",
      "AllManage consent Close Privacy OverviewThis website uses cookies to improve\n",
      "your experience while you navigate through the website Out of\n",
      "these the cookies that are categorized as necessary are stored\n",
      "on your browser as they are essential for the working\n",
      "\n",
      "Schools Asian Institute of Technology BOI STP Intranet Students Contact\n",
      "Giving Alumni About About AIT Facts and figures Rankings Leadership\n",
      "People Meet our faculty Meet our staff Location Academics Academic\n",
      "calendar Academic Programs Study options Student opportunities Schools Apply Admissions\n",
      "Eligibility Financial aid Tuition and fees Student housing Apply online\n",
      "Frequently Asked Questions Research Research Overview Research Themes Research Publications\n",
      "Research Projects Know Our Researcher Centers SEARCH MENU Schools Campus\n",
      "life Housing Dining Health and Wellness Cultural diversity Athletics Career\n",
      "development Facilities AIT Conference Center Virtual tour Key thematic areas\n",
      "    Question: <pad>  What  is  the  Asian  Institute  of  Technology?\n",
      "\n",
      "    Answer:\u001b[0m\n",
      "\n",
      "\u001b[1m> Finished chain.\u001b[0m\n",
      "\n",
      "\u001b[1m> Finished chain.\u001b[0m\n",
      "\n",
      "\u001b[1m> Finished chain.\u001b[0m\n"
     ]
    },
    {
     "data": {
      "text/plain": [
       "{'question': 'What is AIT',\n",
       " 'chat_history': [HumanMessage(content='Who are you by the way?'),\n",
       "  AIMessage(content=\"<pad>  I'm  the  AIT  Information  Chatbot!  I'm  here  to  assist  you  with  any  questions  you  have  about  the  Asian  Institute  of  Technology  (AIT).  Whether  you  want  to  know  about  our  academic  programs,  admissions  process,  campus  facilities,  or  any  other  aspect  of  AIT,  feel  free  to  ask!\\n\")],\n",
       " 'answer': '<pad> < pad>Asian  Institute  of  Technology  (AIT)  is  a  private  research  university  located  in  Singapore.  It  offers  undergraduate  and  graduate  programs  in  various  fields  of  technology,  including  engineering,  computer  science,  and  business.  AIT  is  a  member  of  the  Association  of  Indian  Universities  (AIU)  and  is  a  member  of  the  Association  of  Indian  Universities  (AIU).\\n',\n",
       " 'source_documents': [Document(page_content='Asian Institute of Technology All Rights Reserved Designed by OutsourcifyPrivacy\\nPolicyTerms and conditionsWe use cookies on our website to give\\nyou the most relevant experience by remembering your preferences and\\nrepeat visits By clicking Accept All you consent to the\\nuse of ALL the cookies However you may visit Cookie\\nSettings to provide a controlled consent Cookie SettingsAccept AllManage consent\\nClose Privacy OverviewThis website uses cookies to improve your experience\\nwhile you navigate through the website Out of these the\\ncookies that are categorized as necessary are stored on your\\nbrowser as they are essential for the working of basic', metadata={'source': './docs/ait_paragraphs.pdf', 'file_path': './docs/ait_paragraphs.pdf', 'page': 15, 'total_pages': 33, 'format': 'PDF 1.4', 'title': '(anonymous)', 'author': '(anonymous)', 'subject': '(unspecified)', 'keywords': '', 'creator': '(unspecified)', 'producer': 'ReportLab PDF Library - www.reportlab.com', 'creationDate': \"D:20240320025934-07'00'\", 'modDate': \"D:20240320025934-07'00'\", 'trapped': ''}),\n",
       "  Document(page_content='Contact A Z Units Asian Institute of Technology All Rights\\nReserved Designed by OutsourcifyPrivacy PolicyTerms and conditionsWe use cookies on\\nour website to give you the most relevant experience by\\nremembering your preferences and repeat visits By clicking Accept All\\nyou consent to the use of ALL the cookies However\\nyou may visit Cookie Settings to provide a controlled consent\\nCookie SettingsAccept AllManage consent Close Privacy OverviewThis website uses cookies\\nto improve your experience while you navigate through the website\\nOut of these the cookies that are categorized as necessary\\nare stored on your browser as they are essential for', metadata={'source': './docs/ait_paragraphs.pdf', 'file_path': './docs/ait_paragraphs.pdf', 'page': 8, 'total_pages': 33, 'format': 'PDF 1.4', 'title': '(anonymous)', 'author': '(anonymous)', 'subject': '(unspecified)', 'keywords': '', 'creator': '(unspecified)', 'producer': 'ReportLab PDF Library - www.reportlab.com', 'creationDate': \"D:20240320025934-07'00'\", 'modDate': \"D:20240320025934-07'00'\", 'trapped': ''}),\n",
       "  Document(page_content='Z Units Asian Institute of Technology All Rights Reserved Designed\\nby OutsourcifyPrivacy PolicyTerms and conditionsWe use cookies on our website\\nto give you the most relevant experience by remembering your\\npreferences and repeat visits By clicking Accept All you consent\\nto the use of ALL the cookies However you may\\nvisit Cookie Settings to provide a controlled consent Cookie SettingsAccept\\nAllManage consent Close Privacy OverviewThis website uses cookies to improve\\nyour experience while you navigate through the website Out of\\nthese the cookies that are categorized as necessary are stored\\non your browser as they are essential for the working', metadata={'source': './docs/ait_paragraphs.pdf', 'file_path': './docs/ait_paragraphs.pdf', 'page': 6, 'total_pages': 33, 'format': 'PDF 1.4', 'title': '(anonymous)', 'author': '(anonymous)', 'subject': '(unspecified)', 'keywords': '', 'creator': '(unspecified)', 'producer': 'ReportLab PDF Library - www.reportlab.com', 'creationDate': \"D:20240320025934-07'00'\", 'modDate': \"D:20240320025934-07'00'\", 'trapped': ''}),\n",
       "  Document(page_content='Schools Asian Institute of Technology BOI STP Intranet Students Contact\\nGiving Alumni About About AIT Facts and figures Rankings Leadership\\nPeople Meet our faculty Meet our staff Location Academics Academic\\ncalendar Academic Programs Study options Student opportunities Schools Apply Admissions\\nEligibility Financial aid Tuition and fees Student housing Apply online\\nFrequently Asked Questions Research Research Overview Research Themes Research Publications\\nResearch Projects Know Our Researcher Centers SEARCH MENU Schools Campus\\nlife Housing Dining Health and Wellness Cultural diversity Athletics Career\\ndevelopment Facilities AIT Conference Center Virtual tour Key thematic areas', metadata={'source': './docs/ait_paragraphs.pdf', 'file_path': './docs/ait_paragraphs.pdf', 'page': 0, 'total_pages': 33, 'format': 'PDF 1.4', 'title': '(anonymous)', 'author': '(anonymous)', 'subject': '(unspecified)', 'keywords': '', 'creator': '(unspecified)', 'producer': 'ReportLab PDF Library - www.reportlab.com', 'creationDate': \"D:20240320025934-07'00'\", 'modDate': \"D:20240320025934-07'00'\", 'trapped': ''})]}"
      ]
     },
     "execution_count": 41,
     "metadata": {},
     "output_type": "execute_result"
    }
   ],
   "source": [
    "prompt_question = \"What is AIT\"\n",
    "answer = chain({\"question\":prompt_question})\n",
    "answer"
   ]
  },
  {
   "cell_type": "code",
   "execution_count": 42,
   "metadata": {},
   "outputs": [
    {
     "name": "stdout",
     "output_type": "stream",
     "text": [
      "\n",
      "\n",
      "\u001b[1m> Entering new ConversationalRetrievalChain chain...\u001b[0m\n",
      "\n",
      "\n",
      "\u001b[1m> Entering new LLMChain chain...\u001b[0m\n",
      "Prompt after formatting:\n",
      "\u001b[32;1m\u001b[1;3mGiven the following conversation and a follow up question, rephrase the follow up question to be a standalone question, in its original language.\n",
      "\n",
      "Chat History:\n",
      "[HumanMessage(content='Who are you by the way?'), AIMessage(content=\"<pad>  I'm  the  AIT  Information  Chatbot!  I'm  here  to  assist  you  with  any  questions  you  have  about  the  Asian  Institute  of  Technology  (AIT).  Whether  you  want  to  know  about  our  academic  programs,  admissions  process,  campus  facilities,  or  any  other  aspect  of  AIT,  feel  free  to  ask!\\n\"), HumanMessage(content='What is AIT'), AIMessage(content='<pad> < pad>Asian  Institute  of  Technology  (AIT)  is  a  private  research  university  located  in  Singapore.  It  offers  undergraduate  and  graduate  programs  in  various  fields  of  technology,  including  engineering,  computer  science,  and  business.  AIT  is  a  member  of  the  Association  of  Indian  Universities  (AIU)  and  is  a  member  of  the  Association  of  Indian  Universities  (AIU).\\n')]\n",
      "Follow Up Input: Which courses AIT offered\n",
      "Standalone question:\u001b[0m\n",
      "\n",
      "\u001b[1m> Finished chain.\u001b[0m\n",
      "\n",
      "\n",
      "\u001b[1m> Entering new StuffDocumentsChain chain...\u001b[0m\n",
      "\n",
      "\n",
      "\u001b[1m> Entering new LLMChain chain...\u001b[0m\n",
      "Prompt after formatting:\n",
      "\u001b[32;1m\u001b[1;3mWelcome to the AIT Information Chatbot! I'm here to assist you with any questions you have about the Asian Institute of Technology (AIT).\n",
      "    Whether you want to know about our academic programs, admissions process, campus facilities, or any other aspect of AIT, feel free to ask!\n",
      "    Asked QuestionsProgram I want to study at AIT What does\n",
      "AIT offer and what are the admissions requirements The Institute\n",
      "offers Doctoral Degrees Executive Master s Degree Master s Degrees\n",
      "Professional Master s Degree Diploma Certificate Programs Non degree programs\n",
      "Intensive English language For eligibility requirements on the Degree Programs\n",
      "please visit the Admissions website For non degree training please\n",
      "visit the AIT Extension and Language Can I apply to\n",
      "two Academic Programs at the same time No You can\n",
      "only apply to one academic program at any time What\n",
      "Academic Programs and Courses does AIT Offer The Institute currently\n",
      "\n",
      "Academic Programs and Courses does AIT Offer The Institute currently\n",
      "offers academic programs For details please visit our School websites\n",
      "School of Engineering and Technology SET School of Environment Resources\n",
      "and Development SERD and School of Management SOM What is\n",
      "the duration of study Year Master s Degree students normally\n",
      "study for months enrolled in August Intake and months enrolled\n",
      "in January Intake which includes four semesters two short breaks\n",
      "and one long break between semesters Doctoral students study for\n",
      "at least months or seven semesters year Master Professional Master\n",
      "Program and the Diploma Programs are at least months or\n",
      "\n",
      "Overview Research Themes Research Publications Research Projects Know Our Researcher\n",
      "Centers SchoolsCampus life HousingDiningHealth and WellnessCultural diversityAthleticsCareer\n",
      "developmentFacilitiesAIT Conference CenterVirtual\n",
      "tourKey thematic areas Climate changeSmart CommunitiesFood Energy\n",
      "WaterInfrastructureTechnology Policy Society\n",
      "Sustainability Partners News Events Work at AIT BOI STP Intranet\n",
      "Students Contact Giving Alumni Emergency contacts Covid management Home Academics\n",
      "SchoolsSchoolsAIT offers advanced graduate education in three schools focusing on\n",
      "engineering sustainable development and management In this section Academic calendar\n",
      "\n",
      "Program and the Diploma Programs are at least months or\n",
      "two semesters and the Certificate Program is months or one\n",
      "semester Do you have academic exchange programs and scholarships for\n",
      "those Yes we have academic exchange programs with various partner\n",
      "universities in Asia and Europe AIT has a limited number\n",
      "of scholarships to assist our students to go on academic\n",
      "exchange You can apply for an academic exchange program and\n",
      "the scholarship in your second semester of study at AIT\n",
      "Do you provide minors Yes AIT provides the option to\n",
      "graduate with a minor Starting from the August semester AIT\n",
      "offers a Minor in Entrepreneurship More minors will be added\n",
      "    Question: <pad> What  are  the  undergraduate  and  graduate  programs  offered  by  AIT?\n",
      "\n",
      "    Answer:\u001b[0m\n",
      "\n",
      "\u001b[1m> Finished chain.\u001b[0m\n",
      "\n",
      "\u001b[1m> Finished chain.\u001b[0m\n",
      "\n",
      "\u001b[1m> Finished chain.\u001b[0m\n"
     ]
    },
    {
     "data": {
      "text/plain": [
       "{'question': 'Which courses AIT offered',\n",
       " 'chat_history': [HumanMessage(content='Who are you by the way?'),\n",
       "  AIMessage(content=\"<pad>  I'm  the  AIT  Information  Chatbot!  I'm  here  to  assist  you  with  any  questions  you  have  about  the  Asian  Institute  of  Technology  (AIT).  Whether  you  want  to  know  about  our  academic  programs,  admissions  process,  campus  facilities,  or  any  other  aspect  of  AIT,  feel  free  to  ask!\\n\"),\n",
       "  HumanMessage(content='What is AIT'),\n",
       "  AIMessage(content='<pad> < pad>Asian  Institute  of  Technology  (AIT)  is  a  private  research  university  located  in  Singapore.  It  offers  undergraduate  and  graduate  programs  in  various  fields  of  technology,  including  engineering,  computer  science,  and  business.  AIT  is  a  member  of  the  Association  of  Indian  Universities  (AIU)  and  is  a  member  of  the  Association  of  Indian  Universities  (AIU).\\n')],\n",
       " 'answer': '<pad> < pad>\\n Undergraduate  programs  offered  by  AIT:\\n *  Bachelor  of  Science  (BS)  in  Engineering  (SET)\\n *  Bachelor  of  Science  (BS)  in  Computer  Science  (CS)\\n *  Bachelor  of  Science  (BS)  in  Electrical  Engineering  (EE)\\n *  Bachelor  of  Science  (BS)  in  Mechanical  Engineering  (ME)\\n *  Bachelor  of  Science  (BS)  in  Computer  Science  (CS)\\n *  Bachelor  of  Science  (BS)  in  Electrical  Engineering  (EE)\\n *  Bachelor  of  Science  (BS)  in  Computer  Science  (CS)\\n *  Bachelor  of  Science  (BS)  in  Electrical  Engineering  (EE)\\n *  Bachelor  of  Science  (BS)  in  Computer  Science  (CS)\\n *  Bachelor  of  Science  (BS)  in  Mechanical  Engineering  (ME)\\n *  Bachelor  of  Science  (BS)  in  Computer  Science  (CS',\n",
       " 'source_documents': [Document(page_content='Asked QuestionsProgram I want to study at AIT What does\\nAIT offer and what are the admissions requirements The Institute\\noffers Doctoral Degrees Executive Master s Degree Master s Degrees\\nProfessional Master s Degree Diploma Certificate Programs Non degree programs\\nIntensive English language For eligibility requirements on the Degree Programs\\nplease visit the Admissions website For non degree training please\\nvisit the AIT Extension and Language Can I apply to\\ntwo Academic Programs at the same time No You can\\nonly apply to one academic program at any time What\\nAcademic Programs and Courses does AIT Offer The Institute currently', metadata={'source': './docs/ait_paragraphs.pdf', 'file_path': './docs/ait_paragraphs.pdf', 'page': 23, 'total_pages': 33, 'format': 'PDF 1.4', 'title': '(anonymous)', 'author': '(anonymous)', 'subject': '(unspecified)', 'keywords': '', 'creator': '(unspecified)', 'producer': 'ReportLab PDF Library - www.reportlab.com', 'creationDate': \"D:20240320025934-07'00'\", 'modDate': \"D:20240320025934-07'00'\", 'trapped': ''}),\n",
       "  Document(page_content='Academic Programs and Courses does AIT Offer The Institute currently\\noffers academic programs For details please visit our School websites\\nSchool of Engineering and Technology SET School of Environment Resources\\nand Development SERD and School of Management SOM What is\\nthe duration of study Year Master s Degree students normally\\nstudy for months enrolled in August Intake and months enrolled\\nin January Intake which includes four semesters two short breaks\\nand one long break between semesters Doctoral students study for\\nat least months or seven semesters year Master Professional Master\\nProgram and the Diploma Programs are at least months or', metadata={'source': './docs/ait_paragraphs.pdf', 'file_path': './docs/ait_paragraphs.pdf', 'page': 23, 'total_pages': 33, 'format': 'PDF 1.4', 'title': '(anonymous)', 'author': '(anonymous)', 'subject': '(unspecified)', 'keywords': '', 'creator': '(unspecified)', 'producer': 'ReportLab PDF Library - www.reportlab.com', 'creationDate': \"D:20240320025934-07'00'\", 'modDate': \"D:20240320025934-07'00'\", 'trapped': ''}),\n",
       "  Document(page_content='Overview Research Themes Research Publications Research Projects Know Our Researcher\\nCenters SchoolsCampus life HousingDiningHealth and WellnessCultural diversityAthleticsCareer\\ndevelopmentFacilitiesAIT Conference CenterVirtual\\ntourKey thematic areas Climate changeSmart CommunitiesFood Energy\\nWaterInfrastructureTechnology Policy Society\\nSustainability Partners News Events Work at AIT BOI STP Intranet\\nStudents Contact Giving Alumni Emergency contacts Covid management Home Academics\\nSchoolsSchoolsAIT offers advanced graduate education in three schools focusing on\\nengineering sustainable development and management In this section Academic calendar', metadata={'source': './docs/ait_paragraphs.pdf', 'file_path': './docs/ait_paragraphs.pdf', 'page': 0, 'total_pages': 33, 'format': 'PDF 1.4', 'title': '(anonymous)', 'author': '(anonymous)', 'subject': '(unspecified)', 'keywords': '', 'creator': '(unspecified)', 'producer': 'ReportLab PDF Library - www.reportlab.com', 'creationDate': \"D:20240320025934-07'00'\", 'modDate': \"D:20240320025934-07'00'\", 'trapped': ''}),\n",
       "  Document(page_content='Program and the Diploma Programs are at least months or\\ntwo semesters and the Certificate Program is months or one\\nsemester Do you have academic exchange programs and scholarships for\\nthose Yes we have academic exchange programs with various partner\\nuniversities in Asia and Europe AIT has a limited number\\nof scholarships to assist our students to go on academic\\nexchange You can apply for an academic exchange program and\\nthe scholarship in your second semester of study at AIT\\nDo you provide minors Yes AIT provides the option to\\ngraduate with a minor Starting from the August semester AIT\\noffers a Minor in Entrepreneurship More minors will be added', metadata={'source': './docs/ait_paragraphs.pdf', 'file_path': './docs/ait_paragraphs.pdf', 'page': 23, 'total_pages': 33, 'format': 'PDF 1.4', 'title': '(anonymous)', 'author': '(anonymous)', 'subject': '(unspecified)', 'keywords': '', 'creator': '(unspecified)', 'producer': 'ReportLab PDF Library - www.reportlab.com', 'creationDate': \"D:20240320025934-07'00'\", 'modDate': \"D:20240320025934-07'00'\", 'trapped': ''})]}"
      ]
     },
     "execution_count": 42,
     "metadata": {},
     "output_type": "execute_result"
    }
   ],
   "source": [
    "prompt_question = \"Which courses AIT offered\"\n",
    "answer = chain({\"question\":prompt_question})\n",
    "answer"
   ]
  },
  {
   "cell_type": "code",
   "execution_count": 44,
   "metadata": {},
   "outputs": [],
   "source": [
    "import cloudpickle\n",
    "\n",
    "# Dump the chain object\n",
    "with open('conversational_chain_t5.pkl', 'wb') as f:\n",
    "    cloudpickle.dump(chain, f)"
   ]
  }
 ],
 "metadata": {
  "kernelspec": {
   "display_name": "Python 3 (ipykernel)",
   "language": "python",
   "name": "python3"
  },
  "language_info": {
   "codemirror_mode": {
    "name": "ipython",
    "version": 3
   },
   "file_extension": ".py",
   "mimetype": "text/x-python",
   "name": "python",
   "nbconvert_exporter": "python",
   "pygments_lexer": "ipython3",
   "version": "3.11.6"
  }
 },
 "nbformat": 4,
 "nbformat_minor": 4
}
